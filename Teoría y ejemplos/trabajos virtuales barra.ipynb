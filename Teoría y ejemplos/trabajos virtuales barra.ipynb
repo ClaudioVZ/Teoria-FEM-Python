{
 "metadata": {
  "name": "trabajos virtuales barra"
 },
 "nbformat": 3,
 "nbformat_minor": 0,
 "worksheets": [
  {
   "cells": [
    {
     "cell_type": "heading",
     "level": 1,
     "metadata": {},
     "source": [
      "Principio de los trabajos virtuales para barras"
     ]
    },
    {
     "cell_type": "markdown",
     "metadata": {},
     "source": [
      "Para un elemento con dos nodos:"
     ]
    },
    {
     "cell_type": "markdown",
     "metadata": {},
     "source": [
      "\\begin{equation}\n",
      "\\iiint \\delta \\varepsilon \\ \\sigma \\ dV = \\int \\delta u \\ b \\ dx + \\sum_{i=1}^{2} \\delta u_{i} \\ X_{i}\n",
      "\\end{equation}"
     ]
    },
    {
     "cell_type": "markdown",
     "metadata": {},
     "source": [
      "Recordando expresiones conocidas:"
     ]
    },
    {
     "cell_type": "markdown",
     "metadata": {},
     "source": [
      "\\begin{eqnarray}\n",
      "\\sigma &=& E \\ \\varepsilon \\\\\\\n",
      "dV &=& A \\ dx\n",
      "\\end{eqnarray}"
     ]
    },
    {
     "cell_type": "markdown",
     "metadata": {},
     "source": [
      "Reemplazando:"
     ]
    },
    {
     "cell_type": "markdown",
     "metadata": {},
     "source": [
      "\\begin{equation}\n",
      "\\int \\delta \\varepsilon \\ E \\ \\varepsilon \\ A \\ dx = \\int \\delta u \\ b \\ dx + \\delta u_{1} \\ X_{1} + \\delta u_{2} \\ X_{2}\n",
      "\\end{equation}"
     ]
    },
    {
     "cell_type": "markdown",
     "metadata": {},
     "source": [
      "Interpolando el campo $u$ (deformaciones) y $\\varepsilon$ (deformaciones unitarias):"
     ]
    },
    {
     "cell_type": "markdown",
     "metadata": {},
     "source": [
      "\\begin{eqnarray}\n",
      "u &=& N_{1} u_{1} + N_{2} u_{2} \\\\\\\n",
      "\\varepsilon &=& \\frac{\\partial u}{\\partial x} = \\frac{\\partial N_{1}}{\\partial x} u_{1} + \\frac{\\partial N_{2}}{\\partial x} u_{2}\n",
      "\\end{eqnarray}"
     ]
    },
    {
     "cell_type": "markdown",
     "metadata": {},
     "source": [
      "Interpolando el campo $\\delta u$ (deformaciones virtuales) y $\\delta \\varepsilon$ (deformaciones unitarias virtuales):"
     ]
    },
    {
     "cell_type": "markdown",
     "metadata": {},
     "source": [
      "\\begin{eqnarray}\n",
      "\\delta u &=& N_{1} \\delta u_{1} + N_{2} \\delta u_{2} \\\\\\\n",
      "\\delta \\varepsilon &=& \\frac{\\partial \\delta u}{\\partial x} = \\frac{\\partial N_{1}}{\\partial x} \\delta u_{1} + \\frac{\\partial N_{2}}{\\partial x} \\delta u_{2}\n",
      "\\end{eqnarray}"
     ]
    },
    {
     "cell_type": "markdown",
     "metadata": {},
     "source": [
      "Reemplazando:"
     ]
    },
    {
     "cell_type": "markdown",
     "metadata": {},
     "source": [
      "\\begin{equation}\n",
      "\\int \\Big ( \\frac{\\partial N_{1}}{\\partial x} \\delta u_{1} + \\frac{\\partial N_{2}}{\\partial x} \\delta u_{2} \\Big ) \\ A E \\ \\Big ( \\frac{\\partial N_{1}}{\\partial x} u_{1} + \\frac{\\partial N_{2}}{\\partial x} u_{2} \\Big ) \\ dx = \\int (N_{1} \\delta u_{1} + N_{2} \\delta u_{2}) \\ b \\ dx + \\delta u_{1} \\ X_{1} + \\delta u_{2} \\ X_{2}\n",
      "\\end{equation}"
     ]
    },
    {
     "cell_type": "markdown",
     "metadata": {},
     "source": [
      "Expandiendo y agrupando t\u00e9rminos:"
     ]
    },
    {
     "cell_type": "markdown",
     "metadata": {},
     "source": [
      "\\begin{equation}\n",
      "\\int \\Big [ \\Big ( \\frac{\\partial N_{1}}{\\partial x} \\frac{\\partial N_{1}}{\\partial x} u_{1} + \\frac{\\partial N_{1}}{\\partial x} \\frac{\\partial N_{2}}{\\partial x} u_{2} \\Big ) \\delta u_{1} + \\Big ( \\frac{\\partial N_{1}}{\\partial x} \\frac{\\partial N_{2}}{\\partial x} u_{1} + \\frac{\\partial N_{2}}{\\partial x} \\frac{\\partial N_{2}}{\\partial x} u_{2} \\Big ) \\delta u_{2} \\Big ] \\ A E \\ dx = \\int (N_{1} \\delta u_{1} b + N_{2} \\delta u_{2} b) \\ dx + \\delta u_{1} \\ X_{1} + \\delta u_{2} \\ X_{2}\n",
      "\\end{equation}"
     ]
    },
    {
     "cell_type": "markdown",
     "metadata": {},
     "source": [
      "Las deformaciones virtuales son arbitrarias, para simplificar $\\delta u_{1} = \\delta u_{2} = 1$:"
     ]
    },
    {
     "cell_type": "markdown",
     "metadata": {},
     "source": [
      "\\begin{equation}\n",
      "\\int \\Big [ \\Big ( \\frac{\\partial N_{1}}{\\partial x} \\frac{\\partial N_{1}}{\\partial x} u_{1} + \\frac{\\partial N_{1}}{\\partial x} \\frac{\\partial N_{2}}{\\partial x} u_{2} \\Big ) + \\Big ( \\frac{\\partial N_{1}}{\\partial x} \\frac{\\partial N_{2}}{\\partial x} u_{1} + \\frac{\\partial N_{2}}{\\partial x} \\frac{\\partial N_{2}}{\\partial x} u_{2} \\Big ) \\Big ] \\ A E \\ dx = \\int (N_{1} b + N_{2} b) \\ dx + (X_{1} + X_{2})\n",
      "\\end{equation}"
     ]
    },
    {
     "cell_type": "markdown",
     "metadata": {},
     "source": [
      "Representando como un sistema de ecuaciones:"
     ]
    },
    {
     "cell_type": "markdown",
     "metadata": {},
     "source": [
      "\\begin{eqnarray}\n",
      "\\int \\Big ( \\frac{\\partial N_{1}}{\\partial x} \\frac{\\partial N_{1}}{\\partial x} u_{1} + \\frac{\\partial N_{1}}{\\partial x} \\frac{\\partial N_{2}}{\\partial x} u_{2} \\Big ) \\ A E \\ dx &=& \\int N_{1} b \\ dx + X_{1} \\\\\\\n",
      "\\int \\Big ( \\frac{\\partial N_{1}}{\\partial x} \\frac{\\partial N_{2}}{\\partial x} u_{1} + \\frac{\\partial N_{2}}{\\partial x} \\frac{\\partial N_{2}}{\\partial x} u_{2} \\Big ) \\ A E \\ dx &=& \\int N_{2} b \\ dx + X_{2}\n",
      "\\end{eqnarray}"
     ]
    },
    {
     "cell_type": "markdown",
     "metadata": {},
     "source": [
      "Representando en forma matricial:"
     ]
    },
    {
     "cell_type": "markdown",
     "metadata": {},
     "source": [
      "\\begin{equation}\n",
      "\\int \\left [\n",
      "\\begin{matrix}\n",
      "\\frac{\\partial N_{1}}{\\partial x} \\frac{\\partial N_{1}}{\\partial x} & \\frac{\\partial N_{1}}{\\partial x} \\frac{\\partial N_{2}}{\\partial x} \\\\\\\n",
      "\\frac{\\partial N_{1}}{\\partial x} \\frac{\\partial N_{2}}{\\partial x} & \\frac{\\partial N_{2}}{\\partial x} \\frac{\\partial N_{2}}{\\partial x}\n",
      "\\end{matrix}\n",
      "\\right ] A E\n",
      "\\left [\n",
      "\\begin{matrix}\n",
      "u_{1} \\\\\\\n",
      "u_{2}\n",
      "\\end{matrix}\n",
      "\\right ]\n",
      "\\ dx = \\int\n",
      "\\left [\n",
      "\\begin{matrix}\n",
      "N_{1} \\\\\\\n",
      "N_{2}\n",
      "\\end{matrix}\n",
      "\\right ]\n",
      "b \\ dx +\n",
      "\\left [\n",
      "\\begin{matrix}\n",
      "X_{1} \\\\\\\n",
      "X_{2}\n",
      "\\end{matrix}\n",
      "\\right ]\n",
      "\\end{equation}"
     ]
    },
    {
     "cell_type": "markdown",
     "metadata": {},
     "source": [
      "Factorizando:"
     ]
    },
    {
     "cell_type": "markdown",
     "metadata": {},
     "source": [
      "\\begin{equation}\n",
      "\\int \\left [\n",
      "\\begin{matrix}\n",
      "\\frac{\\partial N_{1}}{\\partial x} \\\\\\\n",
      "\\frac{\\partial N_{2}}{\\partial x}\n",
      "\\end{matrix}\n",
      "\\right ] A E\n",
      "\\left [\n",
      "\\begin{matrix}\n",
      "\\frac{\\partial N_{1}}{\\partial x} & \\frac{\\partial N_{2}}{\\partial x}\n",
      "\\end{matrix}\n",
      "\\right ]\n",
      "\\left [\n",
      "\\begin{matrix}\n",
      "u_{1} \\\\\\\n",
      "u_{2}\n",
      "\\end{matrix}\n",
      "\\right ]\n",
      "dx = \\int\n",
      "\\left [\n",
      "\\begin{matrix}\n",
      "N_{1} \\\\\\\n",
      "N_{2}\n",
      "\\end{matrix}\n",
      "\\right ]\n",
      "b \\ dx +\n",
      "\\left [\n",
      "\\begin{matrix}\n",
      "X_{1} \\\\\\\n",
      "X_{2}\n",
      "\\end{matrix}\n",
      "\\right ]\n",
      "\\end{equation}"
     ]
    },
    {
     "cell_type": "markdown",
     "metadata": {},
     "source": [
      "Representando en forma matricial reducida:"
     ]
    },
    {
     "cell_type": "markdown",
     "metadata": {},
     "source": [
      "\\begin{equation}\n",
      "\\int \\boldsymbol{B} \\ A E \\ \\boldsymbol{B^{T}} \\ dx \\ \\boldsymbol{u} = \\int \\boldsymbol{N^{T}} \\ b \\ dx + \\boldsymbol{q}\n",
      "\\end{equation}"
     ]
    },
    {
     "cell_type": "markdown",
     "metadata": {},
     "source": [
      "Siendo la matriz constitutiva:"
     ]
    },
    {
     "cell_type": "markdown",
     "metadata": {},
     "source": [
      "\\begin{equation}\n",
      "\\boldsymbol{D} = A E\n",
      "\\end{equation}"
     ]
    },
    {
     "cell_type": "markdown",
     "metadata": {},
     "source": [
      "Reemplazando:"
     ]
    },
    {
     "cell_type": "markdown",
     "metadata": {},
     "source": [
      "\\begin{equation}\n",
      "\\int \\boldsymbol{B^{T}} \\ \\boldsymbol{D} \\ \\boldsymbol{B} \\ dx \\ \\boldsymbol{u} = \\int \\boldsymbol{N^{T}} \\ b \\ dx + \\boldsymbol{q}\n",
      "\\end{equation}"
     ]
    },
    {
     "cell_type": "markdown",
     "metadata": {},
     "source": [
      "La anterior ecuaci\u00f3n es una generalizaci\u00f3n para un elemento con cualquier n\u00famero de nodos, teniendo en cuenta que est\u00e1 en coordenadas globales."
     ]
    },
    {
     "cell_type": "markdown",
     "metadata": {},
     "source": [
      "Reescribiendo la anterior expresi\u00f3n en coordenadas naturales:"
     ]
    },
    {
     "cell_type": "markdown",
     "metadata": {},
     "source": [
      "\\begin{equation}\n",
      "\\int_{-1}^{+1} \\color{Blue} {\\boldsymbol{B^{T}}} \\ \\boldsymbol{D} \\ \\color{Blue} { \\boldsymbol{B}} \\ J \\ d\\xi \\ \\boldsymbol{u} = \\int_{-1}^{+1} \\color{Blue} {\\boldsymbol{N^{T}}} \\ q \\ J \\ d\\xi + \\boldsymbol{q}\n",
      "\\end{equation}"
     ]
    },
    {
     "cell_type": "markdown",
     "metadata": {},
     "source": [
      "Tambi\u00e9n puede escribirse como:"
     ]
    },
    {
     "cell_type": "markdown",
     "metadata": {},
     "source": [
      "\\begin{equation}\n",
      "\\boldsymbol{K} \\ \\boldsymbol{u} = \\boldsymbol{f} + \\boldsymbol{q}\n",
      "\\end{equation}"
     ]
    },
    {
     "cell_type": "code",
     "collapsed": false,
     "input": [],
     "language": "python",
     "metadata": {},
     "outputs": []
    }
   ],
   "metadata": {}
  }
 ]
}