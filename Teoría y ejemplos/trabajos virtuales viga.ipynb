{
 "metadata": {
  "name": "trabajos virtuales viga"
 },
 "nbformat": 3,
 "nbformat_minor": 0,
 "worksheets": [
  {
   "cells": [
    {
     "cell_type": "heading",
     "level": 1,
     "metadata": {},
     "source": [
      "Principio de los trabajos virtuales para viga"
     ]
    },
    {
     "cell_type": "markdown",
     "metadata": {},
     "source": [
      "Para un elemento con dos nodos:"
     ]
    },
    {
     "cell_type": "markdown",
     "metadata": {},
     "source": [
      "\\begin{equation}\n",
      "\\iiint \\delta \\varepsilon \\ \\sigma \\ dV = \\int \\delta w \\ q \\ dx + \\sum_{i=1}^{2} \\delta w_{i} \\ Z_{i} + \\sum_{i=1}^{2} \\delta \\theta_{i} \\ M_{i}\n",
      "\\end{equation}"
     ]
    },
    {
     "cell_type": "markdown",
     "metadata": {},
     "source": [
      "Recordando expresiones conocidas:"
     ]
    },
    {
     "cell_type": "markdown",
     "metadata": {},
     "source": [
      "\\begin{eqnarray}\n",
      "\\sigma &=& -z \\ E \\ \\frac{\\partial^{2} w}{\\partial x^{2}} \\\\\\\n",
      "\\delta \\varepsilon &=& -z \\ \\delta \\Big ( \\frac{\\partial^{2} w}{\\partial x^{2}} \\Big )\n",
      "\\end{eqnarray}"
     ]
    },
    {
     "cell_type": "markdown",
     "metadata": {},
     "source": [
      "Reemplazando:"
     ]
    },
    {
     "cell_type": "markdown",
     "metadata": {},
     "source": [
      "\\begin{equation}\n",
      "\\iiint z^{2} \\ \\delta \\Big ( \\frac{\\partial^{2} w}{\\partial x^{2}} \\Big ) \\ E \\ \\frac{\\partial^{2} w}{\\partial x^{2}} \\ dx \\ dy \\ dz = \\int \\delta w \\ q \\ dx + \\delta w_{1} \\ Z_{1} + \\delta w_{2} \\ Z_{2} + \\delta \\theta_{1} \\ M_{1} + \\delta \\theta_{2} \\ M_{2}\n",
      "\\end{equation}"
     ]
    },
    {
     "cell_type": "markdown",
     "metadata": {},
     "source": [
      "Simplificando:"
     ]
    },
    {
     "cell_type": "markdown",
     "metadata": {},
     "source": [
      "\\begin{equation}\n",
      "\\int \\delta \\Big ( \\frac{\\partial^{2} w}{\\partial x^{2}} \\Big ) \\ EI \\ \\frac{\\partial^{2} w}{\\partial x^{2}} \\ dx = \\int \\delta w \\ q \\ dx + \\delta w_{1} \\ Z_{1} + \\delta w_{2} \\ Z_{2} + \\delta \\theta_{1} \\ M_{1} + \\delta \\theta_{2} \\ M_{2}\n",
      "\\end{equation}"
     ]
    },
    {
     "cell_type": "markdown",
     "metadata": {},
     "source": [
      "Realizando un cambio de variable:"
     ]
    },
    {
     "cell_type": "markdown",
     "metadata": {},
     "source": [
      "\\begin{equation}\n",
      "\\int \\delta \\chi \\ EI \\ \\chi \\ dx = \\int \\delta w \\ q \\ dx + \\delta w_{1} \\ Z_{1} + \\delta w_{2} \\ Z_{2} + \\delta \\theta_{1} \\ M_{1} + \\delta \\theta_{2} \\ M_{2}\n",
      "\\end{equation}"
     ]
    },
    {
     "cell_type": "markdown",
     "metadata": {},
     "source": [
      "Interpolando el campo $w$ (desplazamientos) y $\\chi$ (curvatura):"
     ]
    },
    {
     "cell_type": "markdown",
     "metadata": {},
     "source": [
      "\\begin{eqnarray}\n",
      "w &=& N_{1} w_{1} + N_{2} \\theta_{1} + N_{3} w_{2} + N_{4} \\theta_{2} \\\\\\\n",
      "\\chi &=& \\frac{\\partial^{2} w}{\\partial x^{2}} = \\frac{\\partial^{2} N_{1}}{\\partial x^{2}} w_{1} + \\frac{\\partial^{2} N_{2}}{\\partial x^{2}} \\theta_{1} + \\frac{\\partial^{2} N_{3}}{\\partial x^{2}} w_{2} + \\frac{\\partial^{2} N_{4}}{\\partial x^{2}} \\theta_{2}\n",
      "\\end{eqnarray}"
     ]
    },
    {
     "cell_type": "markdown",
     "metadata": {},
     "source": [
      "Interpolando el campo $\\delta w$ (deformaciones virtuales) y $\\delta \\chi$ (curvatura virtual):"
     ]
    },
    {
     "cell_type": "markdown",
     "metadata": {},
     "source": [
      "\\begin{eqnarray}\n",
      "\\delta w &=& N_{1} \\delta w_{1} + N_{2} \\delta \\theta_{1} + N_{3} \\delta w_{2} + N_{4} \\delta \\theta_{2} \\\\\\\n",
      "\\delta \\chi &=& \\frac{\\partial^{2} \\delta w}{\\partial x^{2}} = \\frac{\\partial^{2} N_{1}}{\\partial x^{2}} \\delta w_{1} + \\frac{\\partial^{2} N_{2}}{\\partial x^{2}} \\delta \\theta_{1} + \\frac{\\partial^{2} N_{3}}{\\partial x^{2}} \\delta w_{2} + \\frac{\\partial^{2} N_{4}}{\\partial x^{2}} \\delta \\theta_{2}\n",
      "\\end{eqnarray}"
     ]
    },
    {
     "cell_type": "markdown",
     "metadata": {},
     "source": [
      "Reemplazando:"
     ]
    },
    {
     "cell_type": "markdown",
     "metadata": {},
     "source": [
      "\\begin{equation}\n",
      "\\int \\Big ( \\frac{\\partial^{2} N_{1}}{\\partial x^{2}} \\delta w_{1} + \\frac{\\partial^{2} N_{2}}{\\partial x^{2}} \\delta \\theta_{1} + \\frac{\\partial^{2} N_{3}}{\\partial x^{2}} \\delta w_{2} + \\frac{\\partial^{2} N_{4}}{\\partial x^{2}} \\delta \\theta_{2} \\Big ) \\ E I \\ \\Big ( \\frac{\\partial^{2} N_{1}}{\\partial x^{2}} w_{1} + \\frac{\\partial^{2} N_{2}}{\\partial x^{2}} \\theta_{1} + \\frac{\\partial^{2} N_{3}}{\\partial x^{2}} w_{2} + \\frac{\\partial^{2} N_{4}}{\\partial x^{2}} \\theta_{2} \\Big ) \\ dx = \\int ( N_{1} \\delta w_{1} + N_{2} \\delta \\theta_{1} + N_{3} \\delta w_{2} + N_{4} \\delta \\theta_{2} ) \\ q \\ dx + \\delta w_{1} \\ Z_{1} + \\delta w_{2} \\ Z_{2} + \\delta \\theta_{1} \\ M_{1} + \\delta \\theta_{2} \\ M_{2}\n",
      "\\end{equation}"
     ]
    },
    {
     "cell_type": "markdown",
     "metadata": {},
     "source": [
      "Expandiendo y agrupando t\u00e9rminos:"
     ]
    },
    {
     "cell_type": "markdown",
     "metadata": {},
     "source": [
      "\\begin{equation}\n",
      "\\int \\Big [ \\Big ( \\frac{\\partial^{2} N_{1}}{\\partial x^{2}} \\frac{\\partial^{2} N_{1}}{\\partial x^{2}} w_{1} + \\frac{\\partial^{2} N_{1}}{\\partial x^{2}} \\frac{\\partial^{2} N_{2}}{\\partial x^{2}} \\theta_{1} + \\frac{\\partial^{2} N_{1}}{\\partial x^{2}} \\frac{\\partial^{2} N_{3}}{\\partial x^{2}} w_{2} + \\frac{\\partial^{2} N_{1}}{\\partial x^{2}} \\frac{\\partial^{2} N_{4}}{\\partial x^{2}} \\theta_{2} \\Big ) \\delta w_{1} + \\Big ( \\frac{\\partial^{2} N_{1}}{\\partial x^{2}} \\frac{\\partial^{2} N_{2}}{\\partial x^{2}} w_{1} + \\frac{\\partial^{2} N_{2}}{\\partial x^{2}} \\frac{\\partial^{2} N_{2}}{\\partial x^{2}} \\theta_{1} + \\frac{\\partial^{2} N_{2}}{\\partial x^{2}} \\frac{\\partial^{2} N_{3}}{\\partial x^{2}} w_{2} + \\frac{\\partial^{2} N_{2}}{\\partial x^{2}} \\frac{\\partial^{2} N_{4}}{\\partial x^{2}} \\theta_{2} \\Big ) \\delta \\theta_{1} + \\Big ( \\frac{\\partial^{2} N_{1}}{\\partial x^{2}} \\frac{\\partial^{2} N_{3}}{\\partial x^{2}} w_{1} + \\frac{\\partial^{2} N_{2}}{\\partial x^{2}} \\frac{\\partial^{2} N_{3}}{\\partial x^{2}} \\theta_{1} + \\frac{\\partial^{2} N_{3}}{\\partial x^{2}} \\frac{\\partial^{2} N_{3}}{\\partial x^{2}} w_{2} + \\frac{\\partial^{2} N_{3}}{\\partial x^{2}} \\frac{\\partial^{2} N_{4}}{\\partial x^{2}} \\theta_{2} \\Big ) \\delta w_{2} + \\Big ( \\frac{\\partial^{2} N_{1}}{\\partial x^{2}} \\frac{\\partial^{2} N_{4}}{\\partial x^{2}} w_{1} + \\frac{\\partial^{2} N_{2}}{\\partial x^{2}} \\frac{\\partial^{2} N_{4}}{\\partial x^{2}} \\theta_{1} + \\frac{\\partial^{2} N_{3}}{\\partial x^{2}} \\frac{\\partial^{2} N_{4}}{\\partial x^{2}} w_{2} + \\frac{\\partial^{2} N_{4}}{\\partial x^{2}} \\frac{\\partial^{2} N_{4}}{\\partial x^{2}} \\theta_{2} \\Big ) \\delta \\theta_{2} \\Big ] \\ E I \\ dx = \\int ( N_{1} \\ q \\ \\delta w_{1} + N_{2} \\ q \\ \\delta \\theta_{1} + N_{3} \\ q \\ \\delta w_{2} + N_{4} \\ q \\ \\delta \\theta_{2} ) \\ dx + (  \\delta w_{1} \\ Z_{1} + \\delta w_{2} \\ Z_{2}) + (\\delta \\theta_{1} \\ M_{1} + \\delta \\theta_{2} \\ M_{2} \uff09\n",
      "\\end{equation}"
     ]
    },
    {
     "cell_type": "markdown",
     "metadata": {},
     "source": [
      "Las deformaciones virtuales y rotaciones virtuales son arbitrarias, para simplificar $\\delta w_{1} = \\delta \\theta_{1} = \\delta w_{2} = \\delta \\theta_{2} = 1$:"
     ]
    },
    {
     "cell_type": "markdown",
     "metadata": {},
     "source": [
      "\\begin{equation}\n",
      "\\int \\Big [ \\Big ( \\frac{\\partial^{2} N_{1}}{\\partial x^{2}} \\frac{\\partial^{2} N_{1}}{\\partial x^{2}} w_{1} + \\frac{\\partial^{2} N_{1}}{\\partial x^{2}} \\frac{\\partial^{2} N_{2}}{\\partial x^{2}} \\theta_{1} + \\frac{\\partial^{2} N_{1}}{\\partial x^{2}} \\frac{\\partial^{2} N_{3}}{\\partial x^{2}} w_{2} + \\frac{\\partial^{2} N_{1}}{\\partial x^{2}} \\frac{\\partial^{2} N_{4}}{\\partial x^{2}} \\theta_{2} \\Big ) + \\Big ( \\frac{\\partial^{2} N_{1}}{\\partial x^{2}} \\frac{\\partial^{2} N_{2}}{\\partial x^{2}} w_{1} + \\frac{\\partial^{2} N_{2}}{\\partial x^{2}} \\frac{\\partial^{2} N_{2}}{\\partial x^{2}} \\theta_{1} + \\frac{\\partial^{2} N_{2}}{\\partial x^{2}} \\frac{\\partial^{2} N_{3}}{\\partial x^{2}} w_{2} + \\frac{\\partial^{2} N_{2}}{\\partial x^{2}} \\frac{\\partial^{2} N_{4}}{\\partial x^{2}} \\theta_{2} \\Big ) + \\Big ( \\frac{\\partial^{2} N_{1}}{\\partial x^{2}} \\frac{\\partial^{2} N_{3}}{\\partial x^{2}} w_{1} + \\frac{\\partial^{2} N_{2}}{\\partial x^{2}} \\frac{\\partial^{2} N_{3}}{\\partial x^{2}} \\theta_{1} + \\frac{\\partial^{2} N_{3}}{\\partial x^{2}} \\frac{\\partial^{2} N_{3}}{\\partial x^{2}} w_{2} + \\frac{\\partial^{2} N_{3}}{\\partial x^{2}} \\frac{\\partial^{2} N_{4}}{\\partial x^{2}} \\theta_{2} \\Big ) + \\Big ( \\frac{\\partial^{2} N_{1}}{\\partial x^{2}} \\frac{\\partial^{2} N_{4}}{\\partial x^{2}} w_{1} + \\frac{\\partial^{2} N_{2}}{\\partial x^{2}} \\frac{\\partial^{2} N_{4}}{\\partial x^{2}} \\theta_{1} + \\frac{\\partial^{2} N_{3}}{\\partial x^{2}} \\frac{\\partial^{2} N_{4}}{\\partial x^{2}} w_{2} + \\frac{\\partial^{2} N_{4}}{\\partial x^{2}} \\frac{\\partial^{2} N_{4}}{\\partial x^{2}} \\theta_{2} \\Big ) \\Big ] \\ E I \\ dx = \\int ( N_{1} \\ q + N_{2} \\ q + N_{3} \\ q + N_{4} \\ q ) \\ dx + (Z_{1} + Z_{2}) + (M_{1} + M_{2} \uff09\n",
      "\\end{equation}"
     ]
    },
    {
     "cell_type": "markdown",
     "metadata": {},
     "source": [
      "Representando como un sistema de ecuaciones:"
     ]
    },
    {
     "cell_type": "markdown",
     "metadata": {},
     "source": [
      "\\begin{eqnarray}\n",
      "\\int \\Big ( \\frac{\\partial^{2} N_{1}}{\\partial x^{2}} \\frac{\\partial^{2} N_{1}}{\\partial x^{2}} w_{1} + \\frac{\\partial^{2} N_{1}}{\\partial x^{2}} \\frac{\\partial^{2} N_{2}}{\\partial x^{2}} \\theta_{1} + \\frac{\\partial^{2} N_{1}}{\\partial x^{2}} \\frac{\\partial^{2} N_{3}}{\\partial x^{2}} w_{2} + \\frac{\\partial^{2} N_{1}}{\\partial x^{2}} \\frac{\\partial^{2} N_{4}}{\\partial x^{2}} \\theta_{2} \\Big ) \\ E I \\ dx &=& \\int N_{1} \\ q \\ dx + Z_{1} + 0 \\\\\\\n",
      "\\int \\Big ( \\frac{\\partial^{2} N_{1}}{\\partial x^{2}} \\frac{\\partial^{2} N_{2}}{\\partial x^{2}} w_{1} + \\frac{\\partial^{2} N_{2}}{\\partial x^{2}} \\frac{\\partial^{2} N_{2}}{\\partial x^{2}} \\theta_{1} + \\frac{\\partial^{2} N_{2}}{\\partial x^{2}} \\frac{\\partial^{2} N_{3}}{\\partial x^{2}} w_{2} + \\frac{\\partial^{2} N_{2}}{\\partial x^{2}} \\frac{\\partial^{2} N_{4}}{\\partial x^{2}} \\theta_{2} \\Big ) \\ E I \\ dx &=& \\int N_{2} \\ q \\ dx + 0 + M_{1} \\\\\\\n",
      "\\int \\Big ( \\frac{\\partial^{2} N_{1}}{\\partial x^{2}} \\frac{\\partial^{2} N_{3}}{\\partial x^{2}} w_{1} + \\frac{\\partial^{2} N_{2}}{\\partial x^{2}} \\frac{\\partial^{2} N_{3}}{\\partial x^{2}} \\theta_{1} + \\frac{\\partial^{2} N_{3}}{\\partial x^{2}} \\frac{\\partial^{2} N_{3}}{\\partial x^{2}} w_{2} + \\frac{\\partial^{2} N_{3}}{\\partial x^{2}} \\frac{\\partial^{2} N_{4}}{\\partial x^{2}} \\theta_{2} \\Big ) \\ E I \\ dx &=& \\int N_{3} \\ q \\ dx + Z_{2} + 0 \\\\\\\n",
      "\\int \\Big ( \\frac{\\partial^{2} N_{1}}{\\partial x^{2}} \\frac{\\partial^{2} N_{4}}{\\partial x^{2}} w_{1} + \\frac{\\partial^{2} N_{2}}{\\partial x^{2}} \\frac{\\partial^{2} N_{4}}{\\partial x^{2}} \\theta_{1} + \\frac{\\partial^{2} N_{3}}{\\partial x^{2}} \\frac{\\partial^{2} N_{4}}{\\partial x^{2}} w_{2} + \\frac{\\partial^{2} N_{4}}{\\partial x^{2}} \\frac{\\partial^{2} N_{4}}{\\partial x^{2}} \\theta_{2} \\Big ) \\ E I \\ dx &=& \\int N_{4} \\ q \\ dx + 0 + M_{2}\n",
      "\\end{eqnarray}"
     ]
    },
    {
     "cell_type": "markdown",
     "metadata": {},
     "source": [
      "Representando en forma matricial:"
     ]
    },
    {
     "cell_type": "markdown",
     "metadata": {},
     "source": [
      "\\begin{equation}\n",
      "\\int \\left [\n",
      "\\begin{matrix}\n",
      "\\frac{\\partial^{2} N_{1}}{\\partial x^{2}} \\frac{\\partial^{2} N_{1}}{\\partial x^{2}} & \\frac{\\partial^{2} N_{1}}{\\partial x^{2}} \\frac{\\partial^{2} N_{2}}{\\partial x^{2}} & \\frac{\\partial^{2} N_{1}}{\\partial x^{2}} \\frac{\\partial^{2} N_{3}}{\\partial x^{2}} & \\frac{\\partial^{2} N_{1}}{\\partial x^{2}} \\frac{\\partial^{2} N_{4}}{\\partial x^{2}} \\\\\\\n",
      "\\frac{\\partial^{2} N_{2}}{\\partial x^{2}} \\frac{\\partial^{2} N_{1}}{\\partial x^{2}} & \\frac{\\partial^{2} N_{2}}{\\partial x^{2}} \\frac{\\partial^{2} N_{2}}{\\partial x^{2}} & \\frac{\\partial^{2} N_{2}}{\\partial x^{2}} \\frac{\\partial^{2} N_{3}}{\\partial x^{2}} & \\frac{\\partial^{2} N_{2}}{\\partial x^{2}} \\frac{\\partial^{2} N_{4}}{\\partial x^{2}} \\\\\\\n",
      "\\frac{\\partial^{2} N_{3}}{\\partial x^{2}} \\frac{\\partial^{2} N_{1}}{\\partial x^{2}} & \\frac{\\partial^{2} N_{3}}{\\partial x^{2}} \\frac{\\partial^{2} N_{2}}{\\partial x^{2}} & \\frac{\\partial^{2} N_{3}}{\\partial x^{2}} \\frac{\\partial^{2} N_{3}}{\\partial x^{2}} & \\frac{\\partial^{2} N_{3}}{\\partial x^{2}} \\frac{\\partial^{2} N_{4}}{\\partial x^{2}} \\\\\\\n",
      "\\frac{\\partial^{2} N_{4}}{\\partial x^{2}} \\frac{\\partial^{2} N_{1}}{\\partial x^{2}} & \\frac{\\partial^{2} N_{4}}{\\partial x^{2}} \\frac{\\partial^{2} N_{2}}{\\partial x^{2}} & \\frac{\\partial^{2} N_{4}}{\\partial x^{2}} \\frac{\\partial^{2} N_{3}}{\\partial x^{2}} & \\frac{\\partial^{2} N_{4}}{\\partial x^{2}} \\frac{\\partial^{2} N_{4}}{\\partial x^{2}}\n",
      "\\end{matrix}\n",
      "\\right ] E I\n",
      "\\left [\n",
      "\\begin{matrix}\n",
      "w_{1} \\\\\\\n",
      "\\theta_{1} \\\\\\\n",
      "w_{2} \\\\\\\n",
      "\\theta_{2}\n",
      "\\end{matrix}\n",
      "\\right ]\n",
      "\\ dx = \\int\n",
      "\\left [\n",
      "\\begin{matrix}\n",
      "N_{1} \\\\\\\n",
      "N_{2} \\\\\\\n",
      "N_{3} \\\\\\\n",
      "N_{4}\n",
      "\\end{matrix}\n",
      "\\right ]\n",
      "q \\ dx +\n",
      "\\left [\n",
      "\\begin{matrix}\n",
      "Z_{1} \\\\\\\n",
      "M_{1} \\\\\\\n",
      "Z_{2} \\\\\\\n",
      "M_{2}\n",
      "\\end{matrix}\n",
      "\\right ]\n",
      "\\end{equation}"
     ]
    },
    {
     "cell_type": "markdown",
     "metadata": {},
     "source": [
      "Factorizando:"
     ]
    },
    {
     "cell_type": "markdown",
     "metadata": {},
     "source": [
      "\\begin{equation}\n",
      "\\int \\left [\n",
      "\\begin{matrix}\n",
      "\\frac{\\partial^{2} N_{1}}{\\partial x^{2}} \\\\\\\n",
      "\\frac{\\partial^{2} N_{2}}{\\partial x^{2}} \\\\\\\n",
      "\\frac{\\partial^{2} N_{3}}{\\partial x^{2}} \\\\\\\n",
      "\\frac{\\partial^{2} N_{4}}{\\partial x^{2}}\n",
      "\\end{matrix}\n",
      "\\right ] E I\n",
      "\\left [\n",
      "\\begin{matrix}\n",
      "\\frac{\\partial^{2} N_{1}}{\\partial x^{2}} & \\frac{\\partial^{2} N_{2}}{\\partial x^{2}} & \\frac{\\partial^{2} N_{3}}{\\partial x^{2}} & \\frac{\\partial^{2} N_{4}}{\\partial x^{2}}\n",
      "\\end{matrix}\n",
      "\\right ]\n",
      "\\left [\n",
      "\\begin{matrix}\n",
      "w_{1} \\\\\\\n",
      "\\theta_{1} \\\\\\\n",
      "w_{2} \\\\\\\n",
      "\\theta_{2}\n",
      "\\end{matrix}\n",
      "\\right ]\n",
      "dx = \\int\n",
      "\\left [\n",
      "\\begin{matrix}\n",
      "N_{1} \\\\\\\n",
      "N_{2} \\\\\\\n",
      "N_{3} \\\\\\\n",
      "N_{4}\n",
      "\\end{matrix}\n",
      "\\right ]\n",
      "q \\ dx +\n",
      "\\left [\n",
      "\\begin{matrix}\n",
      "Z_{1} \\\\\\\n",
      "M_{1} \\\\\\\n",
      "Z_{2} \\\\\\\n",
      "M_{2}\n",
      "\\end{matrix}\n",
      "\\right ]\n",
      "\\end{equation}"
     ]
    },
    {
     "cell_type": "markdown",
     "metadata": {},
     "source": [
      "Representando en forma matricial reducida:"
     ]
    },
    {
     "cell_type": "markdown",
     "metadata": {},
     "source": [
      "\\begin{equation}\n",
      "\\int \\boldsymbol{B_{f}^{T}} \\ E I \\ \\boldsymbol{B_{f}} \\ dx \\ \\boldsymbol{u} = \\int \\boldsymbol{N^{T}} \\ q \\ dx + \\boldsymbol{q}\n",
      "\\end{equation}"
     ]
    },
    {
     "cell_type": "markdown",
     "metadata": {},
     "source": [
      "Siendo la matriz constitutiva:"
     ]
    },
    {
     "cell_type": "markdown",
     "metadata": {},
     "source": [
      "\\begin{equation}\n",
      "\\boldsymbol{D} = E I\n",
      "\\end{equation}"
     ]
    },
    {
     "cell_type": "markdown",
     "metadata": {},
     "source": [
      "Reemplazando:"
     ]
    },
    {
     "cell_type": "markdown",
     "metadata": {},
     "source": [
      "\\begin{equation}\n",
      "\\int \\boldsymbol{B_{f}^{T}} \\ \\boldsymbol{D} \\ \\boldsymbol{B_{f}} \\ dx \\ \\boldsymbol{u} = \\int \\boldsymbol{N^{T}} \\ q \\ dx + \\boldsymbol{q}\n",
      "\\end{equation}"
     ]
    },
    {
     "cell_type": "markdown",
     "metadata": {},
     "source": [
      "La anterior ecuaci\u00f3n es una generalizaci\u00f3n para un elemento con cualquier n\u00famero de nodos, teniendo en cuenta que est\u00e1 en coordenadas globales."
     ]
    },
    {
     "cell_type": "markdown",
     "metadata": {},
     "source": [
      "Reescribiendo la anterior expresi\u00f3n en coordenadas naturales:"
     ]
    },
    {
     "cell_type": "markdown",
     "metadata": {},
     "source": [
      "\\begin{equation}\n",
      "\\int_{-1}^{+1} \\color{Blue} {\\boldsymbol{B_{f}^{T}}} \\ \\boldsymbol{D} \\ \\color{Blue} { \\boldsymbol{B_{f}}} \\ J \\ d\\xi \\ \\boldsymbol{u} = \\int_{-1}^{+1} \\color{Blue} {\\boldsymbol{N^{T}}} \\ q \\ J \\ d\\xi + \\boldsymbol{q}\n",
      "\\end{equation}"
     ]
    },
    {
     "cell_type": "markdown",
     "metadata": {},
     "source": [
      "Tambi\u00e9n puede escribirse como:"
     ]
    },
    {
     "cell_type": "markdown",
     "metadata": {},
     "source": [
      "\\begin{equation}\n",
      "\\boldsymbol{K} \\ \\boldsymbol{u} = \\boldsymbol{f} + \\boldsymbol{q}\n",
      "\\end{equation}"
     ]
    },
    {
     "cell_type": "code",
     "collapsed": false,
     "input": [],
     "language": "python",
     "metadata": {},
     "outputs": []
    }
   ],
   "metadata": {}
  }
 ]
}