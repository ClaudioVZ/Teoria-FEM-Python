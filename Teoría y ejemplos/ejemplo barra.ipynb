{
 "metadata": {
  "name": "ejemplo barra"
 },
 "nbformat": 3,
 "nbformat_minor": 0,
 "worksheets": [
  {
   "cells": [
    {
     "cell_type": "heading",
     "level": 1,
     "metadata": {},
     "source": [
      "Ejemplo barra"
     ]
    },
    {
     "cell_type": "markdown",
     "metadata": {},
     "source": [
      "Discretizando la barra en un elemento de dos nodos, la matriz de rigidez local sera $2 \\times 2$ y la matriz de rigidez global sera $2 \\times 2$:"
     ]
    },
    {
     "cell_type": "markdown",
     "metadata": {},
     "source": [
      "\\begin{eqnarray}\n",
      "\\color{Blue} {\\boldsymbol{N}} &=& \\left [\n",
      "\\begin{matrix}\n",
      "N_{1} & N_{2}\n",
      "\\end{matrix}\n",
      "\\right ] = \\left [\n",
      "\\begin{matrix}\n",
      "\\frac{1}{2} - \\frac{1}{2} \\xi & \\frac{1}{2} + \\frac{1}{2} \\xi\n",
      "\\end{matrix}\n",
      "\\right ] \\\\\\\n",
      "\\boldsymbol{B_{f}} &=& \\left [\n",
      "\\begin{matrix}\n",
      "\\frac{\\partial N_{1}}{\\partial x} & \\frac{\\partial N_{2}}{\\partial x}\n",
      "\\end{matrix}\n",
      "\\right ]\n",
      "\\end{eqnarray}"
     ]
    },
    {
     "cell_type": "markdown",
     "metadata": {},
     "source": [
      "Usando la regla de la cadena:  "
     ]
    },
    {
     "cell_type": "markdown",
     "metadata": {},
     "source": [
      "\\begin{equation}\n",
      "\\frac{\\partial N}{\\partial x} = \\frac{\\partial N}{\\partial \\xi} \\frac{\\partial \\xi}{\\partial x}\n",
      "\\end{equation}"
     ]
    },
    {
     "cell_type": "markdown",
     "metadata": {},
     "source": [
      "Las funciones usadas para interpolar los desplazamientos est\u00e1n en coordenadas locales, para obtener la matriz de deformaciones debemos calcular el jacobiano y el jacobiano inverso:  "
     ]
    },
    {
     "cell_type": "markdown",
     "metadata": {},
     "source": [
      "\\begin{eqnarray}\n",
      "J = \\frac{\\partial x}{\\partial \\xi} \\\\\\\n",
      "J^{-1} = \\frac{\\partial \\xi}{\\partial x}\n",
      "\\end{eqnarray}"
     ]
    },
    {
     "cell_type": "markdown",
     "metadata": {},
     "source": [
      "La funci\u00f3n que interpola la geometr\u00eda es:"
     ]
    },
    {
     "cell_type": "markdown",
     "metadata": {},
     "source": [
      "\\begin{equation}\n",
      "x = \\Big ( \\frac{1}{2} - \\frac{1}{2} \\xi \\Big ) x_{1} + \\Big ( \\frac{1}{2} + \\frac{1}{2} \\xi \\Big ) x_{2}\n",
      "\\end{equation}"
     ]
    },
    {
     "cell_type": "markdown",
     "metadata": {},
     "source": [
      "Derivando:"
     ]
    },
    {
     "cell_type": "markdown",
     "metadata": {},
     "source": [
      "\\begin{equation}\n",
      "\\frac{\\partial x}{\\partial \\xi} = \\frac{x_{2} - x_{1}}{2} = \\frac{l}{2} \n",
      "\\end{equation}"
     ]
    },
    {
     "cell_type": "markdown",
     "metadata": {},
     "source": [
      "La matriz de deformaciones es:"
     ]
    },
    {
     "cell_type": "markdown",
     "metadata": {},
     "source": [
      "\\begin{eqnarray}\n",
      "\\color{Blue} {B_{f}} &=& \\left [\n",
      "\\begin{matrix}\n",
      "\\frac{\\partial N_{1}}{\\partial \\xi} & \\frac{\\partial N_{2}}{\\partial \\xi} \n",
      "\\end{matrix}\n",
      "\\right ] \\Big ( \\frac{\\partial \\xi}{\\partial x} \\Big ) \\\\\\\n",
      "&=& \\left [\n",
      "\\begin{matrix}\n",
      "-\\frac{1}{2} & \\frac{1}{2} \n",
      "\\end{matrix}\n",
      "\\right ] \\Big ( \\frac{2}{l} \\Big ) \\\\\\\n",
      "&=& \\left [\n",
      "\\begin{matrix}\n",
      "-\\frac{1}{l} & \\frac{1}{l}\n",
      "\\end{matrix}\n",
      "\\right ]\n",
      "\\end{eqnarray}"
     ]
    },
    {
     "cell_type": "markdown",
     "metadata": {},
     "source": [
      "La matriz de rigidez es:"
     ]
    },
    {
     "cell_type": "markdown",
     "metadata": {},
     "source": [
      "\\begin{eqnarray}\n",
      "K &=& \\int_{-1}^{+1}\n",
      "\\left[\n",
      "\\begin{matrix}\n",
      "\\frac{1}{l^{2}} & -\\frac{1}{l^{2}} \\\\\\\n",
      "-\\frac{1}{l^{2}} & \\frac{1}{l^{2}}\n",
      "\\end{matrix}\n",
      "\\right] A E \\ \\frac{l}{2} \\ d\\xi \\\\\\\n",
      "&=& \\left[\n",
      "\\begin{matrix}\n",
      "\\frac{A E}{l} & -\\frac{A E}{l} \\\\\\\n",
      "-\\frac{A E}{l} & \\frac{A E}{l}\n",
      "\\end{matrix}\n",
      "\\right]\n",
      "\\end{eqnarray}"
     ]
    },
    {
     "cell_type": "markdown",
     "metadata": {},
     "source": [
      "La matriz de cargas uniformes:"
     ]
    },
    {
     "cell_type": "markdown",
     "metadata": {},
     "source": [
      "\\begin{eqnarray}\n",
      "f &=& \\int_{-1}^{+1}\n",
      "\\left[\n",
      "\\begin{matrix}\n",
      "\\frac{1}{2} - \\frac{1}{2} \\xi \\\\\\\n",
      "\\frac{1}{2} + \\frac{1}{2} \\xi \n",
      "\\end{matrix}\n",
      "\\right] (1000) \\Big ( \\frac{l}{2} \\Big ) \\ d\\xi \\\\\\\n",
      "&=& \\left[\n",
      "\\begin{matrix}\n",
      "500 l \\\\\\\n",
      "500 l\n",
      "\\end{matrix}\n",
      "\\right]\n",
      "\\end{eqnarray}"
     ]
    },
    {
     "cell_type": "markdown",
     "metadata": {},
     "source": [
      "La matriz de cargas nodales:"
     ]
    },
    {
     "cell_type": "markdown",
     "metadata": {},
     "source": [
      "\\begin{equation}\n",
      "q = \\left[\n",
      "\\begin{matrix}\n",
      "A_{x} \\\\\\\n",
      "B_{x}\n",
      "\\end{matrix}\n",
      "\\right]\n",
      "\\end{equation}"
     ]
    },
    {
     "cell_type": "markdown",
     "metadata": {},
     "source": [
      "Ensamblando matrices:"
     ]
    },
    {
     "cell_type": "markdown",
     "metadata": {},
     "source": [
      "\\begin{equation}\n",
      "\\left[\n",
      "\\begin{matrix}\n",
      "\\frac{A E}{l} & -\\frac{A E}{l} \\\\\\\n",
      "-\\frac{A E}{l} & \\frac{A E}{l}\n",
      "\\end{matrix}\n",
      "\\right]\n",
      "\\left[\n",
      "\\begin{matrix}\n",
      "u_{1} \\\\\\\n",
      "u_{2}\n",
      "\\end{matrix}\n",
      "\\right] =\n",
      "\\left[\n",
      "\\begin{matrix}\n",
      "500 l \\\\\\\n",
      "500 l\n",
      "\\end{matrix}\n",
      "\\right] +\n",
      "\\left[\n",
      "\\begin{matrix}\n",
      "A_{x} \\\\\\\n",
      "B_{x}\n",
      "\\end{matrix}\n",
      "\\right]\n",
      "\\end{equation}"
     ]
    },
    {
     "cell_type": "markdown",
     "metadata": {},
     "source": [
      "Agregando las condiciones de contorno y reemplazando datos:"
     ]
    },
    {
     "cell_type": "markdown",
     "metadata": {},
     "source": [
      "\\begin{equation}\n",
      "\\left[\n",
      "\\begin{matrix}\n",
      "1 \\times 10^{9} & -1 \\times 10^{9} \\\\\\\n",
      "-1 \\times 10^{9} & 1 \\times 10^{9}\n",
      "\\end{matrix}\n",
      "\\right]\n",
      "\\left[\n",
      "\\begin{matrix}\n",
      "0 \\\\\\\n",
      "u_{2}\n",
      "\\end{matrix}\n",
      "\\right] =\n",
      "\\left[\n",
      "\\begin{matrix}\n",
      "1000 \\\\\\\n",
      "1000\n",
      "\\end{matrix}\n",
      "\\right] +\n",
      "\\left[\n",
      "\\begin{matrix}\n",
      "A_{x} \\\\\\\n",
      "250\n",
      "\\end{matrix}\n",
      "\\right]\n",
      "\\end{equation}"
     ]
    },
    {
     "cell_type": "markdown",
     "metadata": {},
     "source": [
      "Sumando fuerzas:"
     ]
    },
    {
     "cell_type": "markdown",
     "metadata": {},
     "source": [
      "\\begin{equation}\n",
      "\\left[\n",
      "\\begin{matrix}\n",
      "1 \\times 10^{9} & -1 \\times 10^{9} \\\\\\\n",
      "-1 \\times 10^{9} & 1 \\times 10^{9}\n",
      "\\end{matrix}\n",
      "\\right]\n",
      "\\left[\n",
      "\\begin{matrix}\n",
      "0 \\\\\\\n",
      "u_{2}\n",
      "\\end{matrix}\n",
      "\\right] =\n",
      "\\left[\n",
      "\\begin{matrix}\n",
      "1000 + A_{x} \\\\\\\n",
      "1250\n",
      "\\end{matrix}\n",
      "\\right]\n",
      "\\end{equation}"
     ]
    },
    {
     "cell_type": "markdown",
     "metadata": {},
     "source": [
      "Resolviendo el sistema:"
     ]
    },
    {
     "cell_type": "markdown",
     "metadata": {},
     "source": [
      "\\begin{eqnarray}\n",
      "u_{2} &=& 1.25 \\times 10^{-6} \\ [m] \\\\\\\n",
      "A_{x} &=& -2250 \\ [N]\n",
      "\\end{eqnarray}"
     ]
    },
    {
     "cell_type": "markdown",
     "metadata": {},
     "source": [
      "Discretizando la barra en dos elementos de dos nodos, la matriz de rigidez local sera $2 \\times 2$ y la matriz de rigidez global sera $3 \\times 3$:"
     ]
    },
    {
     "cell_type": "markdown",
     "metadata": {},
     "source": [
      "La matriz de rigidez del elemento 1:"
     ]
    },
    {
     "cell_type": "markdown",
     "metadata": {},
     "source": [
      "\\begin{eqnarray}\n",
      "K^{(1)} &=& \\int_{-1}^{+1}\n",
      "\\left[\n",
      "\\begin{matrix}\n",
      "\\frac{1}{l^{2}} & -\\frac{1}{l^{2}} \\\\\\\n",
      "-\\frac{1}{l^{2}} & \\frac{1}{l^{2}}\n",
      "\\end{matrix}\n",
      "\\right] A E \\ \\frac{l}{2} \\ d\\xi \\\\\\\n",
      "&=& \\left[\n",
      "\\begin{matrix}\n",
      "\\frac{A E}{l} & -\\frac{A E}{l} \\\\\\\n",
      "-\\frac{A E}{l} & \\frac{A E}{l}\n",
      "\\end{matrix}\n",
      "\\right]\n",
      "\\end{eqnarray}"
     ]
    },
    {
     "cell_type": "markdown",
     "metadata": {},
     "source": [
      "La matriz de cargas uniformes del elemento 1:"
     ]
    },
    {
     "cell_type": "markdown",
     "metadata": {},
     "source": [
      "\\begin{eqnarray}\n",
      "f^{(1)} &=& \\int_{-1}^{+1}\n",
      "\\left[\n",
      "\\begin{matrix}\n",
      "\\frac{1}{2} - \\frac{1}{2} \\xi \\\\\\\n",
      "\\frac{1}{2} + \\frac{1}{2} \\xi \n",
      "\\end{matrix}\n",
      "\\right] (1000) \\Big ( \\frac{l}{2} \\Big ) \\ d\\xi \\\\\\\n",
      "&=& \\left[\n",
      "\\begin{matrix}\n",
      "500 l \\\\\\\n",
      "500 l\n",
      "\\end{matrix}\n",
      "\\right]\n",
      "\\end{eqnarray}"
     ]
    },
    {
     "cell_type": "markdown",
     "metadata": {},
     "source": [
      "La matriz de rigidez del elemento 2:"
     ]
    },
    {
     "cell_type": "markdown",
     "metadata": {},
     "source": [
      "\\begin{eqnarray}\n",
      "K^{(2)} &=& \\int_{-1}^{+1}\n",
      "\\left[\n",
      "\\begin{matrix}\n",
      "\\frac{1}{l^{2}} & -\\frac{1}{l^{2}} \\\\\\\n",
      "-\\frac{1}{l^{2}} & \\frac{1}{l^{2}}\n",
      "\\end{matrix}\n",
      "\\right] A E \\ \\frac{l}{2} \\ d\\xi \\\\\\\n",
      "&=& \\left[\n",
      "\\begin{matrix}\n",
      "\\frac{A E}{l} & -\\frac{A E}{l} \\\\\\\n",
      "-\\frac{A E}{l} & \\frac{A E}{l}\n",
      "\\end{matrix}\n",
      "\\right]\n",
      "\\end{eqnarray}"
     ]
    },
    {
     "cell_type": "markdown",
     "metadata": {},
     "source": [
      "La matriz de cargas uniformes del elemento 2:"
     ]
    },
    {
     "cell_type": "markdown",
     "metadata": {},
     "source": [
      "\\begin{eqnarray}\n",
      "f^{(2)} &=& \\int_{-1}^{+1}\n",
      "\\left[\n",
      "\\begin{matrix}\n",
      "\\frac{1}{2} - \\frac{1}{2} \\xi \\\\\\\n",
      "\\frac{1}{2} + \\frac{1}{2} \\xi \n",
      "\\end{matrix}\n",
      "\\right] (1000) \\Big ( \\frac{l}{2} \\Big ) \\ d\\xi \\\\\\\n",
      "&=& \\left[\n",
      "\\begin{matrix}\n",
      "500 l \\\\\\\n",
      "500 l\n",
      "\\end{matrix}\n",
      "\\right]\n",
      "\\end{eqnarray}"
     ]
    },
    {
     "cell_type": "markdown",
     "metadata": {},
     "source": [
      "La matriz de cargas nodales:"
     ]
    },
    {
     "cell_type": "markdown",
     "metadata": {},
     "source": [
      "\\begin{equation}\n",
      "q = \\left[\n",
      "\\begin{matrix}\n",
      "A_{x} \\\\\\\n",
      "0 \\\\\\\n",
      "B_{x}\n",
      "\\end{matrix}\n",
      "\\right]\n",
      "\\end{equation}"
     ]
    },
    {
     "cell_type": "markdown",
     "metadata": {},
     "source": [
      "Ensamblando matrices:"
     ]
    },
    {
     "cell_type": "markdown",
     "metadata": {},
     "source": [
      "\\begin{equation}\n",
      "\\left[\n",
      "\\begin{matrix}\n",
      "\\frac{A E}{l} & -\\frac{A E}{l} & 0 \\\\\\\n",
      "-\\frac{A E}{l} & \\frac{A E}{l} + \\frac{A E}{l} & -\\frac{A E}{l} \\\\\\\n",
      "0 & -\\frac{A E}{l} & \\frac{A E}{l}\n",
      "\\end{matrix}\n",
      "\\right]\n",
      "\\left[\n",
      "\\begin{matrix}\n",
      "u_{1} \\\\\\\n",
      "u_{2} \\\\\\\n",
      "u_{3}\n",
      "\\end{matrix}\n",
      "\\right] =\n",
      "\\left[\n",
      "\\begin{matrix}\n",
      "500 l \\\\\\\n",
      "500 l + 500 l \\\\\\\n",
      "500 l\n",
      "\\end{matrix}\n",
      "\\right] +\n",
      "\\left[\n",
      "\\begin{matrix}\n",
      "A_{x} \\\\\\\n",
      "0 \\\\\\\n",
      "B_{x}\n",
      "\\end{matrix}\n",
      "\\right]\n",
      "\\end{equation}"
     ]
    },
    {
     "cell_type": "markdown",
     "metadata": {},
     "source": [
      "Agregando las condiciones de contorno y reemplazando datos:"
     ]
    },
    {
     "cell_type": "markdown",
     "metadata": {},
     "source": [
      "\\begin{equation}\n",
      "\\left[\n",
      "\\begin{matrix}\n",
      "2 \\times 10^{9} & -2 \\times 10^{9} & 0 \\\\\\\n",
      "-2 \\times 10^{9} & 4 \\times 10^{9} & -2 \\times 10^{9} \\\\\\\n",
      "0 & -2 \\times 10^{9} & 2 \\times 10^{9}\n",
      "\\end{matrix}\n",
      "\\right]\n",
      "\\left[\n",
      "\\begin{matrix}\n",
      "0 \\\\\\\n",
      "u_{2} \\\\\\\n",
      "u_{3}\n",
      "\\end{matrix}\n",
      "\\right] =\n",
      "\\left[\n",
      "\\begin{matrix}\n",
      "500 \\\\\\\n",
      "1000 \\\\\\\n",
      "500 \n",
      "\\end{matrix}\n",
      "\\right] +\n",
      "\\left[\n",
      "\\begin{matrix}\n",
      "A_{x} \\\\\\\n",
      "0 \\\\\\\n",
      "250\n",
      "\\end{matrix}\n",
      "\\right]\n",
      "\\end{equation}"
     ]
    },
    {
     "cell_type": "markdown",
     "metadata": {},
     "source": [
      "Sumando fuerzas:"
     ]
    },
    {
     "cell_type": "markdown",
     "metadata": {},
     "source": [
      "\\begin{equation}\n",
      "\\left[\n",
      "\\begin{matrix}\n",
      "2 \\times 10^{9} & -2 \\times 10^{9} & 0 \\\\\\\n",
      "-2 \\times 10^{9} & 4 \\times 10^{9} & -2 \\times 10^{9} \\\\\\\n",
      "0 & -2 \\times 10^{9} & 2 \\times 10^{9}\n",
      "\\end{matrix}\n",
      "\\right]\n",
      "\\left[\n",
      "\\begin{matrix}\n",
      "0 \\\\\\\n",
      "u_{2} \\\\\\\n",
      "u_{3}\n",
      "\\end{matrix}\n",
      "\\right] =\n",
      "\\left[\n",
      "\\begin{matrix}\n",
      "500 + A_{x} \\\\\\\n",
      "1000 \\\\\\\n",
      "750 \n",
      "\\end{matrix}\n",
      "\\right]\n",
      "\\end{equation}"
     ]
    },
    {
     "cell_type": "markdown",
     "metadata": {},
     "source": [
      "Resolviendo el sistema:"
     ]
    },
    {
     "cell_type": "markdown",
     "metadata": {},
     "source": [
      "\\begin{eqnarray}\n",
      "u_{2} &=& 8.75 \\times 10^{-7} \\ [m] \\\\\\\n",
      "u_{3} &=& 1.125 \\times 10^{-6} \\ [m] \\\\\\\n",
      "A_{x} &=& -2250 \\ [N]\n",
      "\\end{eqnarray}"
     ]
    },
    {
     "cell_type": "code",
     "collapsed": false,
     "input": [],
     "language": "python",
     "metadata": {},
     "outputs": []
    }
   ],
   "metadata": {}
  }
 ]
}