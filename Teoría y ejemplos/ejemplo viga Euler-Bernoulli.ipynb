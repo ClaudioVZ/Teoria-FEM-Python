{
 "metadata": {
  "name": "ejemplo viga Euler-Bernoulli"
 },
 "nbformat": 3,
 "nbformat_minor": 0,
 "worksheets": [
  {
   "cells": [
    {
     "cell_type": "heading",
     "level": 1,
     "metadata": {},
     "source": [
      "Ejemplo viga Euler-Bernoulli"
     ]
    },
    {
     "cell_type": "markdown",
     "metadata": {},
     "source": [
      "Discretizando la viga en un elemento de dos nodos:"
     ]
    },
    {
     "cell_type": "markdown",
     "metadata": {},
     "source": [
      "\\begin{eqnarray}\n",
      "\\color{Blue} {\\boldsymbol{N}} &=& \\left [\n",
      "\\begin{matrix}\n",
      "N_{1} & N_{2} & N_{3} & N_{4}\n",
      "\\end{matrix}\n",
      "\\right ] = \\left [\n",
      "\\begin{matrix}\n",
      "\\frac{1}{4} (\\xi + 2) (\\xi - 1)^{2} & \\frac{1}{4} (\\xi + 1) (\\xi - 1)^{2} & -\\frac{1}{4} (\\xi - 2) (\\xi + 1)^{2} & \\frac{1}{4} (\\xi - 1) (\\xi + 1)^{2}\n",
      "\\end{matrix}\n",
      "\\right ] \\\\\\\n",
      "\\boldsymbol{B_{f}} &=& \\left [\n",
      "\\begin{matrix}\n",
      "\\frac{\\partial^{2} N_{1}}{\\partial x^{2}} & \\frac{\\partial^{2} N_{2}}{\\partial x^{2}} & \\frac{\\partial^{2} N_{3}}{\\partial x^{2}} & \\frac{\\partial^{2} N_{4}}{\\partial x^{2}}\n",
      "\\end{matrix}\n",
      "\\right ]\n",
      "\\end{eqnarray}"
     ]
    },
    {
     "cell_type": "markdown",
     "metadata": {},
     "source": [
      "Usando la regla de la cadena:  "
     ]
    },
    {
     "cell_type": "markdown",
     "metadata": {},
     "source": [
      "\\begin{eqnarray}\n",
      "\\frac{\\partial^{2} N}{\\partial x^{2}} &=& \\frac{\\partial}{\\partial x} \\Big ( \\frac{\\partial N}{\\partial \\xi} \\frac{\\partial \\xi}{\\partial x} \\Big ) \\\\\\\n",
      "&=& \\frac{\\partial^{2} N}{\\partial x \\partial \\xi} \\frac{\\partial \\xi}{\\partial x} + \\frac{\\partial N}{\\partial \\xi} \\frac{\\partial^{2} \\xi}{\\partial x^{2}} \\\\\\\n",
      "&=& \\frac{\\partial}{\\partial \\xi} \\Big ( \\frac{\\partial N}{\\partial x} \\Big ) \\frac{\\partial \\xi}{\\partial x} + \\frac{\\partial N}{\\partial \\xi} \\frac{\\partial^{2} \\xi}{\\partial x^{2}} \\\\\\\n",
      "&=& \\frac{\\partial}{\\partial \\xi} \\Big ( \\frac{\\partial N}{\\partial \\xi} \\frac{\\partial \\xi}{\\partial x} \\Big ) \\frac{\\partial \\xi}{\\partial x} + \\frac{\\partial N}{\\partial \\xi} \\frac{\\partial^{2} \\xi}{\\partial x^{2}} \\\\\\\n",
      "&=& \\Big ( \\frac{\\partial^{2} N}{\\partial \\xi^{2}} \\frac{\\partial \\xi}{\\partial x} + \\frac{\\partial N}{\\partial \\xi} \\frac{\\partial^{2} \\xi}{\\partial \\xi \\partial x} \\Big ) \\frac{\\partial \\xi}{\\partial x} + \\frac{\\partial N}{\\partial \\xi} \\frac{\\partial^{2} \\xi}{\\partial x^{2}} \\\\\\\n",
      "&=& \\frac{\\partial^{2} N}{\\partial \\xi^{2}} \\Big ( \\frac{\\partial \\xi}{\\partial x} \\Big )^{2} + \\frac{\\partial N}{\\partial \\xi} \\frac{\\partial^{2} \\xi}{\\partial \\xi \\partial x} \\frac{\\partial \\xi}{\\partial x} + \\frac{\\partial N}{\\partial \\xi} \\frac{\\partial^{2} \\xi}{\\partial x^{2}} \\\\\\\n",
      "&=& \\frac{\\partial^{2} N}{\\partial \\xi^{2}} \\Big ( \\frac{\\partial \\xi}{\\partial x} \\Big )^{2} + 2 \\frac{\\partial N}{\\partial \\xi} \\frac{\\partial^{2} \\xi}{\\partial x^{2}} \\\\\\\n",
      "&=& \\frac{\\partial^{2} N}{\\partial \\xi^{2}} \\Big ( \\frac{\\partial \\xi}{\\partial x} \\Big )^{2}\n",
      "\\end{eqnarray}"
     ]
    },
    {
     "cell_type": "markdown",
     "metadata": {},
     "source": [
      "Las funciones usadas para interpolar los desplazamientos est\u00e1n en coordenadas locales, para obtener la matriz de flexi\u00f3n debemos calcular el jacobiano y el jacobiano inverso:  "
     ]
    },
    {
     "cell_type": "markdown",
     "metadata": {},
     "source": [
      "\\begin{eqnarray}\n",
      "J = \\frac{\\partial x}{\\partial \\xi} \\\\\\\n",
      "J^{-1} = \\frac{\\partial \\xi}{\\partial x}\n",
      "\\end{eqnarray}"
     ]
    },
    {
     "cell_type": "markdown",
     "metadata": {},
     "source": [
      "La funci\u00f3n que interpola la geometr\u00eda es:"
     ]
    },
    {
     "cell_type": "markdown",
     "metadata": {},
     "source": [
      "\\begin{equation}\n",
      "x = \\Big ( \\frac{1}{2} - \\frac{1}{2} \\xi \\Big ) x_{1} + \\Big ( \\frac{1}{2} + \\frac{1}{2} \\xi \\Big ) x_{2}\n",
      "\\end{equation}"
     ]
    },
    {
     "cell_type": "markdown",
     "metadata": {},
     "source": [
      "Derivando:"
     ]
    },
    {
     "cell_type": "markdown",
     "metadata": {},
     "source": [
      "\\begin{equation}\n",
      "\\frac{\\partial x}{\\partial \\xi} = \\frac{x_{2} - x_{1}}{2} = \\frac{l}{2} \n",
      "\\end{equation}"
     ]
    },
    {
     "cell_type": "markdown",
     "metadata": {},
     "source": [
      "La matriz de flexi\u00f3n es:"
     ]
    },
    {
     "cell_type": "markdown",
     "metadata": {},
     "source": [
      "\\begin{eqnarray}\n",
      "\\color{Blue} {B_{f}}&=& \\left [\n",
      "\\begin{matrix}\n",
      "\\frac{\\partial^{2} N_{1}}{\\partial \\xi^{2}} & \\frac{\\partial^{2} N_{2}}{\\partial \\xi^{2}} \\frac{\\partial x}{\\partial \\xi} & \\frac{\\partial^{2} N_{3}}{\\partial \\xi^{2}} & \\frac{\\partial^{2} N_{4}}{\\partial \\xi^{2}} \\frac{\\partial x}{\\partial \\xi}\n",
      "\\end{matrix}\n",
      "\\right ] \\Big ( \\frac{\\partial \\xi}{\\partial x} \\Big )^{2} \\\\\\\n",
      "&=& \\left [\n",
      "\\begin{matrix}\n",
      "\\frac{3}{2} \\xi & \\Big ( -\\frac{1}{2} + \\frac{3}{2} \\xi \\Big ) \\frac{l}{2} & -\\frac{3}{2} \\xi & \\Big ( \\frac{1}{2} + \\frac{3}{2} \\xi \\Big ) \\frac{l}{2}\n",
      "\\end{matrix}\n",
      "\\right ] \\Big ( \\frac{2}{l} \\Big )^{2} \\\\\\\n",
      "&=& \\left [\n",
      "\\begin{matrix}\n",
      "\\frac{6}{l^{2}} \\xi & -\\frac{1}{l} + \\frac{3}{l} \\xi & -\\frac{6}{l^{2}} \\xi & \\frac{1}{l} + \\frac{3}{l} \\xi\n",
      "\\end{matrix}\n",
      "\\right ]\n",
      "\\end{eqnarray}"
     ]
    },
    {
     "cell_type": "markdown",
     "metadata": {},
     "source": [
      "La matriz de rigidez es:"
     ]
    },
    {
     "cell_type": "markdown",
     "metadata": {},
     "source": [
      "\\begin{eqnarray}\n",
      "K &=& \\int_{-1}^{+1}\n",
      "\\left[\n",
      "\\begin{matrix}\n",
      "\\frac{36}{l^{4}} \\xi^{2} & \\frac{6}{l^{3}} \\xi \\ (3 \\xi - 1) & -\\frac{36}{l^{4}} \\xi^{2} & \\frac{6}{l^{3}} \\xi \\ (3 \\xi + 1) \\\\\\\n",
      "\\frac{6}{l^{3}} \\xi \\ (3 \\xi - 1) & \\frac{1}{l^{2}} (3 \\xi - 1)^{2} & -\\frac{6}{l^{3}} \\xi \\ (3 \\xi - 1) & \\frac{1}{l^{2}} (3 \\xi - 1) (3 \\xi + 1) \\\\\\\n",
      "-\\frac{36}{l^{4}} \\xi^{2} & -\\frac{6}{l^{3}} \\xi \\ (3 \\xi - 1) & \\frac{36}{l^{4}} \\xi^{2} & -\\frac{6}{l^{3}} \\xi \\ (3 \\xi + 1) \\\\\\\n",
      "\\frac{6}{l^{3}} \\xi \\ (3 \\xi + 1) & \\frac{1}{l^{2}} (3 \\xi - 1) (3 \\xi + 1) & -\\frac{6}{l^{3}} \\xi \\ (3 \\xi + 1) & \\frac{1}{l^{2}} (3 \\xi + 1)^{2}\n",
      "\\end{matrix}\n",
      "\\right] E I \\ \\frac{l}{2} \\ d\\xi \\\\\\\n",
      "&=& \\left[\n",
      "\\begin{matrix}\n",
      "\\frac{12 \\ E I}{l^{3}} & \\frac{6 \\ E I}{l^{2}} & -\\frac{12 \\ E I}{l^{3}} & \\frac{6 \\ E I}{l^{2}} \\\\\\\n",
      "\\frac{6 \\ E I}{l^{2}} & \\frac{4 \\ E I}{l} & -\\frac{6 \\ E I}{l^{2}} & \\frac{2 \\ E I}{l} \\\\\\\n",
      "-\\frac{12 \\ E I}{l^{3}} & -\\frac{6 \\ E I}{l^{2}} & \\frac{12 \\ E I}{l^{3}} & -\\frac{6 \\ E I}{l^{2}} \\\\\\\n",
      "\\frac{6 \\ E I}{l^{2}} & \\frac{2 \\ E I}{l} & -\\frac{6 \\ E I}{l^{2}} & \\frac{4 \\ E I}{l}\n",
      "\\end{matrix}\n",
      "\\right]\n",
      "\\end{eqnarray}"
     ]
    },
    {
     "cell_type": "markdown",
     "metadata": {},
     "source": [
      "La matriz de cargas uniformes:"
     ]
    },
    {
     "cell_type": "markdown",
     "metadata": {},
     "source": [
      "\\begin{eqnarray}\n",
      "f &=& \\int_{-1}^{+1}\n",
      "\\left[\n",
      "\\begin{matrix}\n",
      "\\frac{1}{4} (\\xi + 2) (\\xi - 1)^{2} \\\\\\\n",
      "\\frac{1}{4} (\\xi + 1) (\\xi - 1)^{2} \\\\\\\n",
      "-\\frac{1}{4} (\\xi - 2) (\\xi + 1)^{2} \\\\\\\n",
      "\\frac{1}{4} (\\xi - 1) (\\xi + 1)^{2} \n",
      "\\end{matrix}\n",
      "\\right] (0) \\Big ( \\frac{l}{2} \\Big ) \\ d\\xi \\\\\\\n",
      "&=& \\left[\n",
      "\\begin{matrix}\n",
      "0 \\\\\\\n",
      "0 \\\\\\\n",
      "0 \\\\\\\n",
      "0\n",
      "\\end{matrix}\n",
      "\\right]\n",
      "\\end{eqnarray}"
     ]
    },
    {
     "cell_type": "markdown",
     "metadata": {},
     "source": [
      "La matriz de cargas nodales:"
     ]
    },
    {
     "cell_type": "markdown",
     "metadata": {},
     "source": [
      "\\begin{equation}\n",
      "q = \\left[\n",
      "\\begin{matrix}\n",
      "A_{z} \\\\\\\n",
      "M_{A} \\\\\\\n",
      "B_{z} \\\\\\\n",
      "M_{B}\n",
      "\\end{matrix}\n",
      "\\right]\n",
      "\\end{equation}"
     ]
    },
    {
     "cell_type": "markdown",
     "metadata": {},
     "source": [
      "Ensamblando matrices:"
     ]
    },
    {
     "cell_type": "markdown",
     "metadata": {},
     "source": [
      "\\begin{equation}\n",
      "\\left[\n",
      "\\begin{matrix}\n",
      "\\frac{A E}{l} & -\\frac{A E}{l} \\\\\\\n",
      "-\\frac{A E}{l} & \\frac{A E}{l}\n",
      "\\end{matrix}\n",
      "\\right]\n",
      "\\left[\n",
      "\\begin{matrix}\n",
      "u_{1} \\\\\\\n",
      "u_{2}\n",
      "\\end{matrix}\n",
      "\\right] =\n",
      "\\left[\n",
      "\\begin{matrix}\n",
      "500 l \\\\\\\n",
      "500 l\n",
      "\\end{matrix}\n",
      "\\right] +\n",
      "\\left[\n",
      "\\begin{matrix}\n",
      "A_{x} \\\\\\\n",
      "B_{x}\n",
      "\\end{matrix}\n",
      "\\right]\n",
      "\\end{equation}"
     ]
    },
    {
     "cell_type": "markdown",
     "metadata": {},
     "source": [
      "Agregando las condiciones de contorno y reemplazando datos:"
     ]
    },
    {
     "cell_type": "code",
     "collapsed": false,
     "input": [],
     "language": "python",
     "metadata": {},
     "outputs": []
    }
   ],
   "metadata": {}
  }
 ]
}