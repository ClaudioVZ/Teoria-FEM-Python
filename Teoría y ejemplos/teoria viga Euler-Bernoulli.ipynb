{
 "metadata": {
  "name": "teoria viga Euler-Bernoulli"
 },
 "nbformat": 3,
 "nbformat_minor": 0,
 "worksheets": [
  {
   "cells": [
    {
     "cell_type": "heading",
     "level": 1,
     "metadata": {},
     "source": [
      "Teor\u00eda viga Euler-Bernoulli"
     ]
    },
    {
     "cell_type": "heading",
     "level": 2,
     "metadata": {},
     "source": [
      "Campo de desplazamientos"
     ]
    },
    {
     "cell_type": "markdown",
     "metadata": {},
     "source": [
      "\\begin{eqnarray}\n",
      "u(x, y, z) &=& -z \\tan \\theta (x) = -z \\frac{\\partial w (x)}{\\partial x} \\approx -z \\ \\theta (x) \\\\\\\n",
      "v(x, y, z) &=& 0 \\\\\\\n",
      "w(x, y, z) &=& w(x)\n",
      "\\end{eqnarray}"
     ]
    },
    {
     "cell_type": "heading",
     "level": 2,
     "metadata": {},
     "source": [
      "Campo de deformaciones"
     ]
    },
    {
     "cell_type": "markdown",
     "metadata": {},
     "source": [
      "\\begin{eqnarray}\n",
      "\\varepsilon_{x}(x, y, z) &=& \\frac{\\partial u}{\\partial x} = -z \\frac{\\partial^{2} w}{\\partial x^{2}} \\\\\\\n",
      "\\varepsilon_{y}(x, y, z) &=& \\frac{\\partial v}{\\partial x} = 0 \\\\\\\n",
      "\\varepsilon_{z}(x, y, z) &=& \\frac{\\partial w}{\\partial x} = 0 \\\\\\\n",
      "\\gamma_{xy}(x, y, z) &=& \\frac{\\partial u}{\\partial y} + \\frac{\\partial v}{\\partial x} = 0 \\\\\\\n",
      "\\gamma_{xz}(x, y, z) &=& \\frac{\\partial u}{\\partial z} + \\frac{\\partial w}{\\partial x} = 0 \\\\\\\n",
      "\\gamma_{yz}(x, y, z) &=& \\frac{\\partial v}{\\partial z} + \\frac{\\partial w}{\\partial y} = 0 \n",
      "\\end{eqnarray}"
     ]
    },
    {
     "cell_type": "heading",
     "level": 2,
     "metadata": {},
     "source": [
      "Campo de esfuerzos"
     ]
    },
    {
     "cell_type": "markdown",
     "metadata": {},
     "source": [
      "\\begin{eqnarray}\n",
      "\\sigma_{x} &=& \\lambda e + 2 G \\varepsilon_{x} \\\\\\\n",
      "\\sigma_{y} &=& \\lambda e + 2 G \\varepsilon_{y} \\\\\\\n",
      "\\sigma_{z} &=& \\lambda e + 2 G \\varepsilon_{z} \\\\\\\n",
      "\\tau_{xy} &=& G \\gamma_{xy} \\\\\\\n",
      "\\tau_{xz} &=& G \\gamma_{xz} \\\\\\\n",
      "\\tau_{yz} &=& G \\gamma_{yz} \\\\\\\n",
      "\\lambda &=& \\frac{\\mathrm{v} E}{(1 + \\mathrm{v})(1 - 2 \\mathrm{v})} \\\\\\\n",
      "G &=& \\frac{E}{2 (1 + \\mathrm{v})}\n",
      "\\end{eqnarray}"
     ]
    },
    {
     "cell_type": "markdown",
     "metadata": {},
     "source": [
      "Para los esfuerzos normales y cortantes $\\mathrm{v} = 0$ en $\\lambda$ y $G$:"
     ]
    },
    {
     "cell_type": "markdown",
     "metadata": {},
     "source": [
      "\\begin{eqnarray}\n",
      "\\sigma_{x} &=& -z \\ E(x) \\frac{\\partial^{2} w}{\\partial x^{2}} \\\\\\\n",
      "\\sigma_{y} &=& 0 \\\\\\\n",
      "\\sigma_{z} &=& 0 \\\\\\\n",
      "\\tau_{xy} &=& 0 \\\\\\\n",
      "\\tau_{xz} &=& 0 \\\\\\\n",
      "\\tau_{yz} &=& 0\n",
      "\\end{eqnarray}"
     ]
    },
    {
     "cell_type": "heading",
     "level": 2,
     "metadata": {},
     "source": [
      "Momento flector"
     ]
    },
    {
     "cell_type": "markdown",
     "metadata": {},
     "source": [
      "\\begin{equation}\n",
      "M(x) = - \\int_{A} z \\ \\sigma \\ dA\n",
      "\\end{equation}"
     ]
    },
    {
     "cell_type": "markdown",
     "metadata": {},
     "source": [
      "Reemplazando:"
     ]
    },
    {
     "cell_type": "markdown",
     "metadata": {},
     "source": [
      "\\begin{equation}\n",
      "M(x) = \\iint z^{2} \\ E(x) \\frac{\\partial^{2} w}{\\partial x^{2}} dy \\ dz = E(x) \\ I(x) \\frac{\\partial^{2} w}{\\partial x^{2}}\n",
      "\\end{equation}"
     ]
    },
    {
     "cell_type": "heading",
     "level": 2,
     "metadata": {},
     "source": [
      "Fuerza cortante"
     ]
    },
    {
     "cell_type": "markdown",
     "metadata": {},
     "source": [
      "\\begin{equation}\n",
      "V(x) = \\frac{\\partial M(x)}{\\partial x}\n",
      "\\end{equation}"
     ]
    },
    {
     "cell_type": "heading",
     "level": 2,
     "metadata": {},
     "source": [
      "Carga"
     ]
    },
    {
     "cell_type": "markdown",
     "metadata": {},
     "source": [
      "\\begin{eqnarray}\n",
      "q(x) = - \\frac{\\partial V(x)}{\\partial x}\n",
      "\\end{eqnarray}"
     ]
    },
    {
     "cell_type": "heading",
     "level": 2,
     "metadata": {},
     "source": [
      "Ecuaci\u00f3n diferencial de la viga Euler-Bernoulli"
     ]
    },
    {
     "cell_type": "markdown",
     "metadata": {},
     "source": [
      "\\begin{equation}\n",
      "q(x) = - \\frac{\\partial^{2}}{\\partial x^{2}} \\Big [ E(x) \\ I(x) \\frac{\\partial^{2} w}{\\partial x^{2}} \\Big ]\n",
      "\\end{equation}"
     ]
    },
    {
     "cell_type": "code",
     "collapsed": false,
     "input": [],
     "language": "python",
     "metadata": {},
     "outputs": []
    },
    {
     "cell_type": "code",
     "collapsed": false,
     "input": [],
     "language": "python",
     "metadata": {},
     "outputs": []
    }
   ],
   "metadata": {}
  }
 ]
}