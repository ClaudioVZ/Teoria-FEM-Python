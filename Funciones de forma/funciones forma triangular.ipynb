{
 "metadata": {
  "name": "funciones forma triangular"
 },
 "nbformat": 3,
 "nbformat_minor": 0,
 "worksheets": [
  {
   "cells": [
    {
     "cell_type": "heading",
     "level": 1,
     "metadata": {},
     "source": [
      "Funciones de forma triangulares"
     ]
    },
    {
     "cell_type": "markdown",
     "metadata": {},
     "source": [
      "Elemento de tres nodos:"
     ]
    },
    {
     "cell_type": "markdown",
     "metadata": {},
     "source": [
      "\\begin{equation}\n",
      "\\left[\n",
      "\\begin{array}{ccc}\n",
      "& 1 & \\\\\\ \n",
      "x & & y\n",
      "\\end{array}\n",
      "\\right]\n",
      "\\end{equation}"
     ]
    },
    {
     "cell_type": "markdown",
     "metadata": {},
     "source": [
      "El campo de desplazamientos debido a los seis grados de libertad es:"
     ]
    },
    {
     "cell_type": "markdown",
     "metadata": {},
     "source": [
      "\\begin{eqnarray}\n",
      "u &=& \\alpha_{1} + \\alpha_{2} x + \\alpha_{3} y \\\\\\\n",
      "v &=& \\alpha_{4} + \\alpha_{5} x + \\alpha_{6} y\n",
      "\\end{eqnarray}"
     ]
    },
    {
     "cell_type": "markdown",
     "metadata": {},
     "source": [
      "En forma matricial:"
     ]
    },
    {
     "cell_type": "markdown",
     "metadata": {},
     "source": [
      "\\begin{equation}\n",
      "\\left [\n",
      "\\begin{matrix}\n",
      "u \\\\\\\n",
      "v\n",
      "\\end{matrix}\n",
      "\\right ] =\n",
      "\\left [\n",
      "\\begin{matrix}\n",
      "1 & x & y & 0 & 0 & 0 \\\\\\\n",
      "0 & 0 & 0 & 1 & x & y\n",
      "\\end{matrix}\n",
      "\\right ]\n",
      "\\left [\n",
      "\\begin{matrix}\n",
      "\\alpha_{1} \\\\\\\n",
      "\\alpha_{2} \\\\\\\n",
      "\\alpha_{3} \\\\\\\n",
      "\\alpha_{4} \\\\\\\n",
      "\\alpha_{5} \\\\\\\n",
      "\\alpha_{6}\n",
      "\\end{matrix}\n",
      "\\right ]\n",
      "\\end{equation}"
     ]
    },
    {
     "cell_type": "markdown",
     "metadata": {},
     "source": [
      "En forma matricial reducida:"
     ]
    },
    {
     "cell_type": "markdown",
     "metadata": {},
     "source": [
      "\\begin{equation}\n",
      "u = R \\ \\alpha\n",
      "\\end{equation}"
     ]
    },
    {
     "cell_type": "markdown",
     "metadata": {},
     "source": [
      "Interpolando en coordenadas rectangulares:"
     ]
    },
    {
     "cell_type": "markdown",
     "metadata": {},
     "source": [
      "\\begin{eqnarray}\n",
      "\\alpha_{1} + \\alpha_{2} x_{1} + \\alpha_{3} y_{1} &=& u_{1} \\\\\\\n",
      "\\alpha_{4} + \\alpha_{5} x_{1} + \\alpha_{6} y_{1} &=& v_{1} \\\\\\\n",
      "\\alpha_{1} + \\alpha_{2} x_{2} + \\alpha_{3} y_{2} &=& u_{2} \\\\\\\n",
      "\\alpha_{4} + \\alpha_{5} x_{2} + \\alpha_{6} y_{2} &=& v_{2} \\\\\\\n",
      "\\alpha_{1} + \\alpha_{2} x_{3} + \\alpha_{3} y_{3} &=& u_{3} \\\\\\\n",
      "\\alpha_{4} + \\alpha_{5} x_{3} + \\alpha_{6} y_{3} &=& v_{3}\n",
      "\\end{eqnarray}"
     ]
    },
    {
     "cell_type": "markdown",
     "metadata": {},
     "source": [
      "En forma matricial:"
     ]
    },
    {
     "cell_type": "markdown",
     "metadata": {},
     "source": [
      "\\begin{equation}\n",
      "\\left [\n",
      "\\begin{matrix}\n",
      "1 & x_{1} & y_{1} & 0 & 0 & 0 \\\\\\\n",
      "0 & 0 & 0 & 1 & x_{1} & y_{1} \\\\\\\n",
      "1 & x_{2} & y_{2} & 0 & 0 & 0 \\\\\\\n",
      "0 & 0 & 0 & 1 & x_{2} & y_{2} \\\\\\\n",
      "1 & x_{3} & y_{3} & 0 & 0 & 0 \\\\\\\n",
      "0 & 0 & 0 & 1 & x_{3} & y_{3}\n",
      "\\end{matrix}\n",
      "\\right ]\n",
      "\\left [\n",
      "\\begin{matrix}\n",
      "\\alpha_{1} \\\\\\\n",
      "\\alpha_{2} \\\\\\\n",
      "\\alpha_{3} \\\\\\\n",
      "\\alpha_{4} \\\\\\\n",
      "\\alpha_{5} \\\\\\\n",
      "\\alpha_{6}\n",
      "\\end{matrix}\n",
      "\\right ] =\n",
      "\\left [\n",
      "\\begin{matrix}\n",
      "u_{1} \\\\\\\n",
      "v_{1} \\\\\\\n",
      "u_{2} \\\\\\\n",
      "v_{2} \\\\\\\n",
      "u_{3} \\\\\\\n",
      "v_{3}\n",
      "\\end{matrix}\n",
      "\\right ]\n",
      "\\end{equation}"
     ]
    },
    {
     "cell_type": "markdown",
     "metadata": {},
     "source": [
      "Resolviendo el sistema:"
     ]
    },
    {
     "cell_type": "markdown",
     "metadata": {},
     "source": [
      "\\begin{equation}\n",
      "\\left [\n",
      "\\begin{matrix}\n",
      "\\alpha_{1} \\\\\\\n",
      "\\alpha_{2} \\\\\\\n",
      "\\alpha_{3} \\\\\\\n",
      "\\alpha_{4} \\\\\\\n",
      "\\alpha_{5} \\\\\\\n",
      "\\alpha_{6}\n",
      "\\end{matrix}\n",
      "\\right ] =\n",
      "\\left [\n",
      "\\begin{matrix}\n",
      "\\frac{x_{2} y_{3} - x_{3} y_{2}}{y_{1} x_{3} - y_{1} x_{2} - x_{1} y_{3} + x_{1} y_{2} + x_{2} y_{3} - x_{3} y_{2}} & 0 & \\frac{y_{1} x_{3} - x_{1} y_{3}}{y_{1} x_{3} - y_{1} x_{2} - x_{1} y_{3} + x_{1} y_{2} + x_{2} y_{3} - x_{3} y_{2}} & 0 & \\frac{x_{1} y_{2} - y_{1} x_{2}}{y_{1} x_{3} - y_{1} x_{2} - x_{1} y_{3} + x_{1} y_{2} + x_{2} y_{3} - x_{3} y_{2}} & 0 \\\\\\\n",
      "\\frac{y_{2} - y_{3}}{y_{1} x_{3} - y_{1} x_{2} - x_{1} y_{3} + x_{1} y_{2} + x_{2} y_{3} - x_{3} y_{2}} & 0 & \\frac{y_{3} - y_{1}}{y_{1} x_{3} - y_{1} x_{2} - x_{1} y_{3} + x_{1} y_{2} + x_{2} y_{3} - x_{3} y_{2}} & 0 & \\frac{y_{1} - y_{2}}{y_{1} x_{3} - y_{1} x_{2} - x_{1} y_{3} + x_{1} y_{2} + x_{2} y_{3} - x_{3} y_{2}} & 0 \\\\\\\n",
      "\\frac{x_{3} - x_{2}}{y_{1} x_{3} - y_{1} x_{2} - x_{1} y_{3} + x_{1} y_{2} + x_{2} y_{3} - x_{3} y_{2}} & 0 & \\frac{x_{1} - x_{3}}{y_{1} x_{3} - y_{1} x_{2} - x_{1} y_{3} + x_{1} y_{2} + x_{2} y_{3} - x_{3} y_{2}} & 0 & \\frac{x_{2} - x_{1}}{y_{1} x_{3} - y_{1} x_{2} - x_{1} y_{3} + x_{1} y_{2} + x_{2} y_{3} - x_{3} y_{2}} & 0 \\\\\\\n",
      "0 & \\frac{x_{2} y_{3} - x_{3} y_{2}}{y_{1} x_{3} - y_{1} x_{2} - x_{1} y_{3} + x_{1} y_{2} + x_{2} y_{3} - x_{3} y_{2}} & 0 & \\frac{y_{1} x_{3} - x_{1} y_{3}}{y_{1} x_{3} - y_{1} x_{2} - x_{1} y_{3} + x_{1} y_{2} + x_{2} y_{3} - x_{3} y_{2}} & 0 & \\frac{x_{1} y_{2} - y_{1} x_{2}}{y_{1} x_{3} - y_{1} x_{2} - x_{1} y_{3} + x_{1} y_{2} + x_{2} y_{3} - x_{3} y_{2}} \\\\\\\n",
      "0 & \\frac{y_{2} - y_{3}}{y_{1} x_{3} - y_{1} x_{2} - x_{1} y_{3} + x_{1} y_{2} + x_{2} y_{3} - x_{3} y_{2}} & 0 & \\frac{y_{3} - y_{1}}{y_{1} x_{3} - y_{1} x_{2} - x_{1} y_{3} + x_{1} y_{2} + x_{2} y_{3} - x_{3} y_{2}} & 0 & \\frac{y_{1} - y_{2}}{y_{1} x_{3} - y_{1} x_{2} - x_{1} y_{3} + x_{1} y_{2} + x_{2} y_{3} - x_{3} y_{2}} \\\\\\\n",
      "0 & \\frac{x_{3} - x_{2}}{y_{1} x_{3} - y_{1} x_{2} - x_{1} y_{3} + x_{1} y_{2} + x_{2} y_{3} - x_{3} y_{2}} & 0 & \\frac{x_{1} - x_{3}}{y_{1} x_{3} - y_{1} x_{2} - x_{1} y_{3} + x_{1} y_{2} + x_{2} y_{3} - x_{3} y_{2}} & 0 & \\frac{x_{2} - x_{1}}\n",
      "{y_{1} x_{3} - y_{1} x_{2} - x_{1} y_{3} + x_{1} y_{2} + x_{2} y_{3} - x_{3} y_{2}}\n",
      "\\end{matrix}\n",
      "\\right ]\n",
      "\\left [\n",
      "\\begin{matrix}\n",
      "u_{1} \\\\\\\n",
      "v_{1} \\\\\\\n",
      "u_{2} \\\\\\\n",
      "v_{2} \\\\\\\n",
      "u_{3} \\\\\\\n",
      "v_{3}\n",
      "\\end{matrix}\n",
      "\\right ]\n",
      "\\end{equation}"
     ]
    },
    {
     "cell_type": "markdown",
     "metadata": {},
     "source": [
      "Reemplazando:"
     ]
    },
    {
     "cell_type": "markdown",
     "metadata": {},
     "source": [
      "\\begin{equation}\n",
      "u =\n",
      "\\left [\n",
      "\\begin{matrix}\n",
      "1 & x & y & 0 & 0 & 0 \\\\\\\n",
      "0 & 0 & 0 & 1 & x & y\n",
      "\\end{matrix}\n",
      "\\right ]\n",
      "\\left [\n",
      "\\begin{matrix}\n",
      "\\frac{x_{2} y_{3} - x_{3} y_{2}}{y_{1} x_{3} - y_{1} x_{2} - x_{1} y_{3} + x_{1} y_{2} + x_{2} y_{3} - x_{3} y_{2}} & 0 & \\frac{y_{1} x_{3} - x_{1} y_{3}}{y_{1} x_{3} - y_{1} x_{2} - x_{1} y_{3} + x_{1} y_{2} + x_{2} y_{3} - x_{3} y_{2}} & 0 & \\frac{x_{1} y_{2} - y_{1} x_{2}}{y_{1} x_{3} - y_{1} x_{2} - x_{1} y_{3} + x_{1} y_{2} + x_{2} y_{3} - x_{3} y_{2}} & 0 \\\\\\\n",
      "\\frac{y_{2} - y_{3}}{y_{1} x_{3} - y_{1} x_{2} - x_{1} y_{3} + x_{1} y_{2} + x_{2} y_{3} - x_{3} y_{2}} & 0 & \\frac{y_{3} - y_{1}}{y_{1} x_{3} - y_{1} x_{2} - x_{1} y_{3} + x_{1} y_{2} + x_{2} y_{3} - x_{3} y_{2}} & 0 & \\frac{y_{1} - y_{2}}{y_{1} x_{3} - y_{1} x_{2} - x_{1} y_{3} + x_{1} y_{2} + x_{2} y_{3} - x_{3} y_{2}} & 0 \\\\\\\n",
      "\\frac{x_{3} - x_{2}}{y_{1} x_{3} - y_{1} x_{2} - x_{1} y_{3} + x_{1} y_{2} + x_{2} y_{3} - x_{3} y_{2}} & 0 & \\frac{x_{1} - x_{3}}{y_{1} x_{3} - y_{1} x_{2} - x_{1} y_{3} + x_{1} y_{2} + x_{2} y_{3} - x_{3} y_{2}} & 0 & \\frac{x_{2} - x_{1}}{y_{1} x_{3} - y_{1} x_{2} - x_{1} y_{3} + x_{1} y_{2} + x_{2} y_{3} - x_{3} y_{2}} & 0 \\\\\\\n",
      "0 & \\frac{x_{2} y_{3} - x_{3} y_{2}}{y_{1} x_{3} - y_{1} x_{2} - x_{1} y_{3} + x_{1} y_{2} + x_{2} y_{3} - x_{3} y_{2}} & 0 & \\frac{y_{1} x_{3} - x_{1} y_{3}}{y_{1} x_{3} - y_{1} x_{2} - x_{1} y_{3} + x_{1} y_{2} + x_{2} y_{3} - x_{3} y_{2}} & 0 & \\frac{x_{1} y_{2} - y_{1} x_{2}}{y_{1} x_{3} - y_{1} x_{2} - x_{1} y_{3} + x_{1} y_{2} + x_{2} y_{3} - x_{3} y_{2}} \\\\\\\n",
      "0 & \\frac{y_{2} - y_{3}}{y_{1} x_{3} - y_{1} x_{2} - x_{1} y_{3} + x_{1} y_{2} + x_{2} y_{3} - x_{3} y_{2}} & 0 & \\frac{y_{3} - y_{1}}{y_{1} x_{3} - y_{1} x_{2} - x_{1} y_{3} + x_{1} y_{2} + x_{2} y_{3} - x_{3} y_{2}} & 0 & \\frac{y_{1} - y_{2}}{y_{1} x_{3} - y_{1} x_{2} - x_{1} y_{3} + x_{1} y_{2} + x_{2} y_{3} - x_{3} y_{2}} \\\\\\\n",
      "0 & \\frac{x_{3} - x_{2}}{y_{1} x_{3} - y_{1} x_{2} - x_{1} y_{3} + x_{1} y_{2} + x_{2} y_{3} - x_{3} y_{2}} & 0 & \\frac{x_{1} - x_{3}}{y_{1} x_{3} - y_{1} x_{2} - x_{1} y_{3} + x_{1} y_{2} + x_{2} y_{3} - x_{3} y_{2}} & 0 & \\frac{x_{2} - x_{1}}\n",
      "{y_{1} x_{3} - y_{1} x_{2} - x_{1} y_{3} + x_{1} y_{2} + x_{2} y_{3} - x_{3} y_{2}}\n",
      "\\end{matrix}\n",
      "\\right ]\n",
      "\\left [\n",
      "\\begin{matrix}\n",
      "u_{1} \\\\\\\n",
      "v_{1} \\\\\\\n",
      "u_{2} \\\\\\\n",
      "v_{2} \\\\\\\n",
      "u_{3} \\\\\\\n",
      "v_{3}\n",
      "\\end{matrix}\n",
      "\\right ]\n",
      "\\end{equation}"
     ]
    },
    {
     "cell_type": "markdown",
     "metadata": {},
     "source": [
      "Multiplicando:"
     ]
    },
    {
     "cell_type": "markdown",
     "metadata": {},
     "source": [
      "\\begin{equation}\n",
      "u =\n",
      "\\left[\n",
      "\\begin{matrix}\n",
      "\\frac{x_{2} y_{3} - x_{3} y_{2}}{y_{1} x_{3} - y_{1} x_{2} - x_{1} y_{3} + x_{1} y_{2} + x_{2} y_{3} - x_{3} y_{2}} + \\frac{(y_{2} - y_{3}) x}{y_{1} x_{3} - y_{1} x_{2} - x_{1} y_{3} + x_{1} y_{2} + x_{2} y_{3} - x_{3} y_{2}} + \\frac{(x_{3} - x_{2}) y}{y_{1} x_{3} - y_{1} x_{2} - x_{1} y_{3} + x_{1} y_{2} + x_{2} y_{3} - x_{3} y_{2}} & 0 & \\frac{x_{1} y_{1} - y_{3} x_{3}}{y_{1} x_{3} - y_{1} x_{2} - x_{1} y_{3} + x_{1} y_{2} + x_{2} y_{3} - x_{3} y_{2}} + \\frac{(y_{3} - y_{1}) x}{y_{1} x_{3} - y_{1} x_{2} - x_{1} y_{3} + x_{1} y_{2} + x_{2} y_{3} - x_{3} y_{2}} + \\frac{(x_{1} - x_{3}) y}{y_{1} x_{3} - y_{1} x_{2} - x_{1} y_{3} + x_{1} y_{2} + x_{2} y_{3} - x_{3} y_{2}} & 0 & \\frac{x_{1} y_{2} - y_{1} x_{2}}{y_{1} x_{3} - y_{1} x_{2} - x_{1} y_{3} + x_{1} y_{2} + x_{2} y_{3} - x_{3} y_{2}} + \\frac{(y_{1} - y_{2}) x}{y_{1} x_{3} - y_{1} x_{2} - x_{1} y_{3} + x_{1} y_{2} + x_{2} y_{3} - x_{3} y_{2}} + \\frac{(x_{2} - x_{1}) y}{y_{1} x_{3} - y_{1} x_{2} - x_{1} y_{3} + x_{1} y_{2} + x_{2} y_{3} - x_{3} y_{2}} & 0 \\\\\\\n",
      "0 & \\frac{x_{2} y_{3} - x_{3} y_{2}}{y_{1} x_{3} - y_{1} x_{2} - x_{1} y_{3} + x_{1} y_{2} + x_{2} y_{3} - x_{3} y_{2}} + \\frac{(y_{2} - y_{3}) x}{y_{1} x_{3} - y_{1} x_{2} - x_{1} y_{3} + x_{1} y_{2} + x_{2} y_{3} - x_{3} y_{2}} + \\frac{(x_{3} - x_{2}) y}{y_{1} x_{3} - y_{1} x_{2} - x_{1} y_{3} + x_{1} y_{2} + x_{2} y_{3} - x_{3} y_{2}} & 0 & \\frac{x_{1} y_{1} - y_{3} x_{3}}{y_{1} x_{3} - y_{1} x_{2} - x_{1} y_{3} + x_{1} y_{2} + x_{2} y_{3} - x_{3} y_{2}} + \\frac{(y_{3} - y_{1}) x}{y_{1} x_{3} - y_{1} x_{2} - x_{1} y_{3} + x_{1} y_{2} + x_{2} y_{3} - x_{3} y_{2}} + \\frac{(x_{1} - x_{3}) y}{y_{1} x_{3} - y_{1} x_{2} - x_{1} y_{3} + x_{1} y_{2} + x_{2} y_{3} - x_{3} y_{2}} & 0 & \\frac{x_{1} y_{2} - y_{1} x_{2}}{y_{1} x_{3} - y_{1} x_{2} - x_{1} y_{3} + x_{1} y_{2} + x_{2} y_{3} - x_{3} y_{2}} + \\frac{(y_{1} - y_{2}) x}{y_{1} x_{3} - y_{1} x_{2} - x_{1} y_{3} + x_{1} y_{2} + x_{2} y_{3} - x_{3} y_{2}} + \\frac{(x_{2} - x_{1}) y}{y_{1} x_{3} - y_{1} x_{2} - x_{1} y_{3} + x_{1} y_{2} + x_{2} y_{3} - x_{3} y_{2}}\n",
      "\\end{matrix}\n",
      "\\right]\n",
      "\\left [\n",
      "\\begin{matrix}\n",
      "u_{1} \\\\\\\n",
      "v_{1} \\\\\\\n",
      "u_{2} \\\\\\\n",
      "v_{2} \\\\\\\n",
      "u_{3} \\\\\\\n",
      "v_{3}\n",
      "\\end{matrix}\n",
      "\\right ]\n",
      "\\end{equation}"
     ]
    },
    {
     "cell_type": "markdown",
     "metadata": {},
     "source": [
      "El \u00e1rea de un tri\u00e1ngulo con v\u00e9rtices $(x_{1}, y_{1})$, $(x_{2}, y_{2})$ y $(x_{3}, y_{3})$ es:"
     ]
    },
    {
     "cell_type": "markdown",
     "metadata": {},
     "source": [
      "\\begin{equation}\n",
      "A = \\frac{1}{2} \n",
      "\\left |\n",
      "\\begin{matrix}\n",
      "x_{1} & y_{1} & 1 \\\\\\\n",
      "x_{2} & y_{2} & 1 \\\\\\\n",
      "x_{3} & y_{3} & 1\n",
      "\\end{matrix}\n",
      "\\right | =\n",
      "\\frac{1}{2} (y_{1} x_{3} - y_{1} x_{2} - x_{1} y_{3} + x_{1} y_{2} + x_{2} y_{3} - x_{3} y_{2})\n",
      "\\end{equation}"
     ]
    },
    {
     "cell_type": "markdown",
     "metadata": {},
     "source": [
      "Reemplazando en el anterior sistema:"
     ]
    },
    {
     "cell_type": "markdown",
     "metadata": {},
     "source": [
      "\\begin{equation}\n",
      "u = \\frac{1}{2 A}\n",
      "\\left[\n",
      "\\begin{matrix}\n",
      "(x_{2} y_{3} - x_{3} y_{2}) + (y_{2} - y_{3}) x + (x_{3} - x_{2}) y & 0 & (x_{1} y_{1} - y_{3} x_{3}) + (y_{3} - y_{1}) x + (x_{1} - x_{3}) y & 0 & (x_{1} y_{2} - y_{1} x_{2}) + (y_{1} - y_{2}) x + (x_{2} - x_{1}) y & 0 \\\\\\\n",
      "0 & (x_{2} y_{3} - x_{3} y_{2}) + (y_{2} - y_{3}) x + (x_{3} - x_{2}) y & 0 & (x_{1} y_{1} - y_{3} x_{3}) + (y_{3} - y_{1}) x + (x_{1} - x_{3}) y & 0 & (x_{1} y_{2} - y_{1} x_{2}) + (y_{1} - y_{2}) x + (x_{2} - x_{1}) y\n",
      "\\end{matrix}\n",
      "\\right]\n",
      "\\left [\n",
      "\\begin{matrix}\n",
      "u_{1} \\\\\\\n",
      "v_{1} \\\\\\\n",
      "u_{2} \\\\\\\n",
      "v_{2} \\\\\\\n",
      "u_{3} \\\\\\\n",
      "v_{3}\n",
      "\\end{matrix}\n",
      "\\right ]\n",
      "\\end{equation}"
     ]
    },
    {
     "cell_type": "markdown",
     "metadata": {},
     "source": [
      "En forma matricial:"
     ]
    },
    {
     "cell_type": "markdown",
     "metadata": {},
     "source": [
      "\\begin{equation}\n",
      "u =\n",
      "\\left[\n",
      "\\begin{matrix}\n",
      "N_{1} & 0 & N_{2} & 0 & N_{3} & 0 \\\\\\\n",
      "0 & N_{1} & 0 & N_{2} & 0 & N_{3}\n",
      "\\end{matrix}\n",
      "\\right]\n",
      "\\left [\n",
      "\\begin{matrix}\n",
      "u_{1} \\\\\\\n",
      "v_{1} \\\\\\\n",
      "u_{2} \\\\\\\n",
      "v_{2} \\\\\\\n",
      "u_{3} \\\\\\\n",
      "v_{3}\n",
      "\\end{matrix}\n",
      "\\right ]\n",
      "\\end{equation}"
     ]
    },
    {
     "cell_type": "markdown",
     "metadata": {},
     "source": [
      "En forma matricial reducida:"
     ]
    },
    {
     "cell_type": "markdown",
     "metadata": {},
     "source": [
      "\\begin{equation}\n",
      "u = N \\ u\n",
      "\\end{equation}"
     ]
    },
    {
     "cell_type": "markdown",
     "metadata": {},
     "source": [
      "Interpolando en coordenadas de \u00e1rea:"
     ]
    },
    {
     "cell_type": "markdown",
     "metadata": {},
     "source": [
      "\\begin{eqnarray}\n",
      "N_{1} + N_{2} + N_{3} &=& 1 \\\\\\\n",
      "x_{1} N_{1} + x_{2} N_{2} + x_{3} N_{3} &=& x \\\\\\\n",
      "y_{1} N_{1} + y_{2} N_{2} + y_{3} N_{3} &=& y\n",
      "\\end{eqnarray}"
     ]
    },
    {
     "cell_type": "markdown",
     "metadata": {},
     "source": [
      "En forma matricial:"
     ]
    },
    {
     "cell_type": "markdown",
     "metadata": {},
     "source": [
      "\\begin{equation}\n",
      "\\left [\n",
      "\\begin{matrix}\n",
      "1 & 1 & 1 \\\\\\\n",
      "x_{1} & x_{2} & x_{3} \\\\\\\n",
      "y_{1} & y_{2} & y_{3}\n",
      "\\end{matrix}\n",
      "\\right ]\n",
      "\\left [\n",
      "\\begin{matrix}\n",
      "N_{1} \\\\\\\n",
      "N_{2} \\\\\\\n",
      "N_{3}\n",
      "\\end{matrix}\n",
      "\\right ] =\n",
      "\\left [\n",
      "\\begin{matrix}\n",
      "1 \\\\\\\n",
      "x \\\\\\\n",
      "y\n",
      "\\end{matrix}\n",
      "\\right ]\n",
      "\\end{equation}"
     ]
    },
    {
     "cell_type": "markdown",
     "metadata": {},
     "source": [
      "Resolviendo el sistema:"
     ]
    },
    {
     "cell_type": "markdown",
     "metadata": {},
     "source": [
      "\\begin{equation}\n",
      "\\left [\n",
      "\\begin{matrix}\n",
      "N_{1} \\\\\\\n",
      "N_{2} \\\\\\\n",
      "N_{3}\n",
      "\\end{matrix}\n",
      "\\right ] =\n",
      "\\left [\n",
      "\\begin{matrix}\n",
      "\\frac{y_{3} x_{2} - y_{2} x_{3}}{y_{1} x_{3} - y_{1} x_{2} - x_{1} y_{3} + x_{1} y_{2} + x_{2} y_{3} - x_{3} y_{2}} & \\frac{y_{2} - y_{3}}{y_{1} x_{3} - y_{1} x_{2} - x_{1} y_{3} + x_{1} y_{2} + x_{2} y_{3} - x_{3} y_{2}} & \\frac{x_{3} - x_{2}}{y_{1} x_{3} - y_{1} x_{2} - x_{1} y_{3} + x_{1} y_{2} + x_{2} y_{3} - x_{3} y_{2}} \\\\\\\n",
      "\\frac{y_{1} x_{3} - y_{3} x_{1}}{y_{1} x_{3} - y_{1} x_{2} - x_{1} y_{3} + x_{1} y_{2} + x_{2} y_{3} - x_{3} y_{2}} & \\frac{y_{3} - y_{1}}{y_{1} x_{3} - y_{1} x_{2} - x_{1} y_{3} + x_{1} y_{2} + x_{2} y_{3} - x_{3} y_{2}} & \\frac{x_{1} - x_{3}}{y_{1} x_{3} - y_{1} x_{2} - x_{1} y_{3} + x_{1} y_{2} + x_{2} y_{3} - x_{3} y_{2}} \\\\\\\n",
      "\\frac{y_{2} x_{1} - y_{1} x_{2}}{y_{1} x_{3} - y_{1} x_{2} - x_{1} y_{3} + x_{1} y_{2} + x_{2} y_{3} - x_{3} y_{2}} & \\frac{y_{1} - y_{2}}{y_{1} x_{3} - y_{1} x_{2} - x_{1} y_{3} + x_{1} y_{2} + x_{2} y_{3} - x_{3} y_{2}} & \\frac{x_{2} - x_{1}}{y_{1} x_{3} - y_{1} x_{2} - x_{1} y_{3} + x_{1} y_{2} + x_{2} y_{3} - x_{3} y_{2}}\n",
      "\\end{matrix}\n",
      "\\right ]\n",
      "\\left [\n",
      "\\begin{matrix}\n",
      "1 \\\\\\\n",
      "x \\\\\\\n",
      "y\n",
      "\\end{matrix}\n",
      "\\right ]\n",
      "\\end{equation}"
     ]
    },
    {
     "cell_type": "markdown",
     "metadata": {},
     "source": [
      "El \u00e1rea de un tri\u00e1ngulo con v\u00e9rtices $(x_{1}, y_{1})$, $(x_{2}, y_{2})$ y $(x_{3}, y_{3})$ es:"
     ]
    },
    {
     "cell_type": "markdown",
     "metadata": {},
     "source": [
      "\\begin{equation}\n",
      "A = \\frac{1}{2} \n",
      "\\left |\n",
      "\\left [\n",
      "\\begin{matrix}\n",
      "x_{3} - x_{1} & y_{3} - y_{1} & 0\n",
      "\\end{matrix}\n",
      "\\right ] \\times\n",
      "\\left [\n",
      "\\begin{matrix}\n",
      "x_{2} - x_{1} & y_{2} - y_{1} & 0\n",
      "\\end{matrix}\n",
      "\\right ] \\right | =\n",
      "\\frac{1}{2} (y_{1} x_{3} - y_{1} x_{2} - x_{1} y_{3} + x_{1} y_{2} + x_{2} y_{3} - x_{3} y_{2})\n",
      "\\end{equation}"
     ]
    },
    {
     "cell_type": "markdown",
     "metadata": {},
     "source": [
      "Tambi\u00e9n puede ser escrito en forma de determinante:"
     ]
    },
    {
     "cell_type": "markdown",
     "metadata": {},
     "source": [
      "\\begin{equation}\n",
      "A = \\frac{1}{2} \n",
      "\\left |\n",
      "\\begin{matrix}\n",
      "x_{1} & y_{1} & 1 \\\\\\\n",
      "x_{2} & y_{2} & 1 \\\\\\\n",
      "x_{3} & y_{3} & 1\n",
      "\\end{matrix}\n",
      "\\right | =\n",
      "\\frac{1}{2} (y_{1} x_{3} - y_{1} x_{2} - x_{1} y_{3} + x_{1} y_{2} + x_{2} y_{3} - x_{3} y_{2})\n",
      "\\end{equation}"
     ]
    },
    {
     "cell_type": "markdown",
     "metadata": {},
     "source": [
      "Reemplazando en el anterior sistema:"
     ]
    },
    {
     "cell_type": "markdown",
     "metadata": {},
     "source": [
      "\\begin{equation}\n",
      "\\left [\n",
      "\\begin{matrix}\n",
      "N_{1} \\\\\\\n",
      "N_{2} \\\\\\\n",
      "N_{3}\n",
      "\\end{matrix}\n",
      "\\right ] =\n",
      "\\frac{1}{2 A} \\left [\n",
      "\\begin{matrix}\n",
      "y_{3} x_{2} - y_{2} x_{3} & y_{2} - y_{3} & x_{3} - x_{2} \\\\\\\n",
      "y_{1} x_{3} - y_{3} x_{1} & y_{3} - y_{1} & x_{1} - x_{3} \\\\\\\n",
      "y_{2} x_{1} - y_{1} x_{2} & y_{1} - y_{2} & x_{2} - x_{1}\n",
      "\\end{matrix}\n",
      "\\right ]\n",
      "\\left [\n",
      "\\begin{matrix}\n",
      "1 \\\\\\\n",
      "x \\\\\\\n",
      "y\n",
      "\\end{matrix}\n",
      "\\right ]\n",
      "\\end{equation}"
     ]
    },
    {
     "cell_type": "markdown",
     "metadata": {},
     "source": [
      "Multiplicando:"
     ]
    },
    {
     "cell_type": "markdown",
     "metadata": {},
     "source": [
      "\\begin{eqnarray}\n",
      "N_{1} &=& \\frac{1}{2 A} [(y_{3} x_{2} - y_{2} x_{3}) + (y_{2} - y_{3}) x + (x_{3} - x_{2}) y] \\\\\\\n",
      "N_{2} &=& \\frac{1}{2 A} [(y_{1} x_{3} - y_{3} x_{1}) + (y_{3} - y_{1}) x + (x_{1} - x_{3}) y] \\\\\\\n",
      "N_{3} &=& \\frac{1}{2 A} [(y_{2} x_{1} - y_{1} x_{2}) + (y_{1} - y_{2}) x + (x_{2} - x_{1}) y]\n",
      "\\end{eqnarray}"
     ]
    },
    {
     "cell_type": "markdown",
     "metadata": {},
     "source": [
      "El \u00e1rea del tri\u00e1ngulo $1$ con v\u00e9rtices $(x, y)$, $(x_{2}, y_{2})$ y $(x_{3}, y_{3})$ es:"
     ]
    },
    {
     "cell_type": "markdown",
     "metadata": {},
     "source": [
      "\\begin{equation}\n",
      "A_{1} = \\frac{1}{2} \n",
      "\\left |\n",
      "\\left [\n",
      "\\begin{matrix}\n",
      "x_{3} - x & y_{3} - y & 0\n",
      "\\end{matrix}\n",
      "\\right ] \\times\n",
      "\\left [\n",
      "\\begin{matrix}\n",
      "x_{2} - x & y_{2} - y & 0\n",
      "\\end{matrix}\n",
      "\\right ] \\right | =\n",
      "\\frac{1}{2} [(y_{3} x_{2} - y_{2} x_{3}) + (y_{2} - y_{3}) x + (x_{3} - x_{2}) y]\n",
      "\\end{equation}"
     ]
    },
    {
     "cell_type": "markdown",
     "metadata": {},
     "source": [
      "En forma de determinante:"
     ]
    },
    {
     "cell_type": "markdown",
     "metadata": {},
     "source": [
      "\\begin{equation}\n",
      "A_{1} = \\frac{1}{2} \n",
      "\\left |\n",
      "\\begin{matrix}\n",
      "x & y & 1 \\\\\\\n",
      "x_{1} & y_{1} & 1 \\\\\\\n",
      "x_{2} & y_{2} & 1\n",
      "\\end{matrix}\n",
      "\\right | =\n",
      "\\frac{1}{2} [(y_{3} x_{2} - y_{2} x_{3}) + (y_{2} - y_{3}) x + (x_{3} - x_{2}) y]\n",
      "\\end{equation}"
     ]
    },
    {
     "cell_type": "markdown",
     "metadata": {},
     "source": [
      "El \u00e1rea del tri\u00e1ngulo $2$ con v\u00e9rtices $(x, y)$, $(x_{3}, y_{3})$ y $(x_{1}, y_{1})$ es:"
     ]
    },
    {
     "cell_type": "markdown",
     "metadata": {},
     "source": [
      "\\begin{equation}\n",
      "A_{2} = \\frac{1}{2} \n",
      "\\left |\n",
      "\\left [\n",
      "\\begin{matrix}\n",
      "x_{1} - x & y_{1} - y & 0\n",
      "\\end{matrix}\n",
      "\\right ] \\times\n",
      "\\left [\n",
      "\\begin{matrix}\n",
      "x_{3} - x & y_{3} - y & 0\n",
      "\\end{matrix}\n",
      "\\right ] \\right | =\n",
      "\\frac{1}{2} [(y_{1} x_{3} - y_{3} x_{1}) + (y_{3} - y_{1}) x + (x_{1} - x_{3}) y]\n",
      "\\end{equation}"
     ]
    },
    {
     "cell_type": "markdown",
     "metadata": {},
     "source": [
      "En forma de determinante:"
     ]
    },
    {
     "cell_type": "markdown",
     "metadata": {},
     "source": [
      "\\begin{equation}\n",
      "A_{2} = \\frac{1}{2} \n",
      "\\left |\n",
      "\\begin{matrix}\n",
      "x & y & 1 \\\\\\\n",
      "x_{3} & y_{3} & 1 \\\\\\\n",
      "x_{1} & y_{1} & 1\n",
      "\\end{matrix}\n",
      "\\right | =\n",
      "\\frac{1}{2} [(y_{1} x_{3} - y_{3} x_{1}) + (y_{3} - y_{1}) x + (x_{1} - x_{3}) y]\n",
      "\\end{equation}"
     ]
    },
    {
     "cell_type": "markdown",
     "metadata": {},
     "source": [
      "El \u00e1rea del tri\u00e1ngulo $3$ con v\u00e9rtices $(x, y)$, $(x_{1}, y_{1})$ y $(x_{2}, y_{2})$ es:"
     ]
    },
    {
     "cell_type": "markdown",
     "metadata": {},
     "source": [
      "\\begin{equation}\n",
      "A_{3} = \\frac{1}{2} \n",
      "\\left |\n",
      "\\left [\n",
      "\\begin{matrix}\n",
      "x_{2} - x & y_{2} - y & 0\n",
      "\\end{matrix}\n",
      "\\right ] \\times\n",
      "\\left [\n",
      "\\begin{matrix}\n",
      "x_{1} - x & y_{1} - y & 0\n",
      "\\end{matrix}\n",
      "\\right ] \\right | =\n",
      "\\frac{1}{2} [(y_{2} x_{1} - y_{1} x_{2}) + (y_{1} - y_{2}) x + (x_{2} - x_{1}) y]\n",
      "\\end{equation}"
     ]
    },
    {
     "cell_type": "markdown",
     "metadata": {},
     "source": [
      "En forma de determinante:"
     ]
    },
    {
     "cell_type": "markdown",
     "metadata": {},
     "source": [
      "\\begin{equation}\n",
      "A_{3} = \\frac{1}{2} \n",
      "\\left |\n",
      "\\begin{matrix}\n",
      "x & y & 1 \\\\\\\n",
      "x_{2} & y_{2} & 1 \\\\\\\n",
      "x_{1} & y_{1} & 1\n",
      "\\end{matrix}\n",
      "\\right | =\n",
      "\\frac{1}{2} [(y_{2} x_{1} - y_{1} x_{2}) + (y_{1} - y_{2}) x + (x_{2} - x_{1}) y]\n",
      "\\end{equation}"
     ]
    },
    {
     "cell_type": "markdown",
     "metadata": {},
     "source": [
      "Reemplazando:"
     ]
    },
    {
     "cell_type": "markdown",
     "metadata": {},
     "source": [
      "\\begin{eqnarray}\n",
      "N_{1} &=& \\frac{2 A_{1}}{2 A} = \\frac{A_{1}}{A} = L_{1} \\\\\\\n",
      "N_{2} &=& \\frac{2 A_{2}}{2 A} = \\frac{A_{2}}{A} = L_{2} \\\\\\\n",
      "N_{3} &=& \\frac{2 A_{3}}{2 A} = \\frac{A_{3}}{A} = L_{3}\n",
      "\\end{eqnarray}"
     ]
    },
    {
     "cell_type": "markdown",
     "metadata": {},
     "source": [
      "Interpolando en coordenadas naturales:"
     ]
    },
    {
     "cell_type": "markdown",
     "metadata": {},
     "source": [
      "\\begin{eqnarray}\n",
      "N_{1} + N_{2} + N_{3} &=& 1 \\\\\\\n",
      "\\xi_{1} N_{1} + \\xi_{2} N_{2} + \\xi_{3} N_{3} &=& \\xi \\\\\\\n",
      "\\eta_{1} N_{1} + \\eta_{2} N_{2} + \\eta_{3} N_{3} &=& \\eta\n",
      "\\end{eqnarray}"
     ]
    },
    {
     "cell_type": "markdown",
     "metadata": {},
     "source": [
      "Reemplazando los valores nodales: "
     ]
    },
    {
     "cell_type": "markdown",
     "metadata": {},
     "source": [
      "\\begin{eqnarray}\n",
      "N_{1} + N_{2} + N_{3} &=& 1 \\\\\\\n",
      "(0) N_{1} + (1) N_{2} + (0) N_{3} &=& \\xi \\\\\\\n",
      "(0) N_{1} + (0) N_{2} + (1) N_{3} &=& \\eta\n",
      "\\end{eqnarray}"
     ]
    },
    {
     "cell_type": "markdown",
     "metadata": {},
     "source": [
      "En forma matricial:"
     ]
    },
    {
     "cell_type": "markdown",
     "metadata": {},
     "source": [
      "\\begin{equation}\n",
      "\\left [\n",
      "\\begin{matrix}\n",
      "1 & 1 & 1 \\\\\\\n",
      "0 & 1 & 0\\\\\\\n",
      "0 & 0 & 1\n",
      "\\end{matrix}\n",
      "\\right ]\n",
      "\\left [\n",
      "\\begin{matrix}\n",
      "N_{1} \\\\\\\n",
      "N_{2} \\\\\\\n",
      "N_{3}\n",
      "\\end{matrix}\n",
      "\\right ] =\n",
      "\\left [\n",
      "\\begin{matrix}\n",
      "1 \\\\\\\n",
      "\\xi \\\\\\\n",
      "\\eta\n",
      "\\end{matrix}\n",
      "\\right ]\n",
      "\\end{equation}"
     ]
    },
    {
     "cell_type": "markdown",
     "metadata": {},
     "source": [
      "Resolviendo el sistema:"
     ]
    },
    {
     "cell_type": "markdown",
     "metadata": {},
     "source": [
      "\\begin{equation}\n",
      "\\left [\n",
      "\\begin{matrix}\n",
      "N_{1} \\\\\\\n",
      "N_{2} \\\\\\\n",
      "N_{3}\n",
      "\\end{matrix}\n",
      "\\right ] =\n",
      "\\left [\n",
      "\\begin{matrix}\n",
      "1 & -1 & -1 \\\\\\\n",
      "0 & 1 & 0 \\\\\\\n",
      "0 & 0 & 1\n",
      "\\end{matrix}\n",
      "\\right ]\n",
      "\\left [\n",
      "\\begin{matrix}\n",
      "1 \\\\\\\n",
      "\\xi \\\\\\\n",
      "\\eta\n",
      "\\end{matrix}\n",
      "\\right ]\n",
      "\\end{equation}"
     ]
    },
    {
     "cell_type": "markdown",
     "metadata": {},
     "source": [
      "Multiplicando:"
     ]
    },
    {
     "cell_type": "markdown",
     "metadata": {},
     "source": [
      "\\begin{eqnarray}\n",
      "N_{1} &=& 1 - \\xi - \\eta = L_{1} \\\\\\\n",
      "N_{2} &=& \\xi = L_{2} \\\\\\\n",
      "N_{3} &=& \\eta = L_{3}\n",
      "\\end{eqnarray}"
     ]
    },
    {
     "cell_type": "markdown",
     "metadata": {},
     "source": [
      "Elemento de seis nodos:"
     ]
    },
    {
     "cell_type": "markdown",
     "metadata": {},
     "source": [
      "\\begin{equation}\n",
      "\\left[\n",
      "\\begin{array}{ccccc}\n",
      "& & 1 & & \\\\\\ \n",
      "& x & & y & \\\\\\\n",
      "x^{2} & & x y & & y^{2}\n",
      "\\end{array}\n",
      "\\right]\n",
      "\\end{equation}"
     ]
    },
    {
     "cell_type": "markdown",
     "metadata": {},
     "source": [
      "El campo de desplazamientos debido a los doce grados de libertad es:"
     ]
    },
    {
     "cell_type": "markdown",
     "metadata": {},
     "source": [
      "\\begin{eqnarray}\n",
      "u &=& \\alpha_{1} + \\alpha_{2} x + \\alpha_{3} y + \\alpha_{4} x^{2} + \\alpha_{5} x y + \\alpha_{6} y^{2} \\\\\\\n",
      "v &=& \\alpha_{7} + \\alpha_{8} x + \\alpha_{9} y + \\alpha_{10} x^{2} + \\alpha_{11} x y + \\alpha_{12} y^{2}\n",
      "\\end{eqnarray}"
     ]
    },
    {
     "cell_type": "markdown",
     "metadata": {},
     "source": [
      "En forma matricial:"
     ]
    },
    {
     "cell_type": "markdown",
     "metadata": {},
     "source": [
      "\\begin{equation}\n",
      "\\left [\n",
      "\\begin{matrix}\n",
      "u \\\\\\\n",
      "v\n",
      "\\end{matrix}\n",
      "\\right ] =\n",
      "\\left [\n",
      "\\begin{matrix}\n",
      "1 & x & y & x^{2} & x y & y^{2} & 0 & 0 & 0 & 0 & 0 & 0 \\\\\\\n",
      "0 & 0 & 0 & 0 & 0 & 0 & 1 & x & y & x^{2} & x y & y^{2}\n",
      "\\end{matrix}\n",
      "\\right ]\n",
      "\\left [\n",
      "\\begin{matrix}\n",
      "\\alpha_{1} \\\\\\\n",
      "\\alpha_{2} \\\\\\\n",
      "\\alpha_{3} \\\\\\\n",
      "\\alpha_{4} \\\\\\\n",
      "\\alpha_{5} \\\\\\\n",
      "\\alpha_{6} \\\\\\\n",
      "\\alpha_{7} \\\\\\\n",
      "\\alpha_{8} \\\\\\\n",
      "\\alpha_{9} \\\\\\\n",
      "\\alpha_{10} \\\\\\\n",
      "\\alpha_{11} \\\\\\\n",
      "\\alpha_{12}\n",
      "\\end{matrix}\n",
      "\\right ]\n",
      "\\end{equation}"
     ]
    },
    {
     "cell_type": "markdown",
     "metadata": {},
     "source": [
      "Interpolando en coordenadas naturales:"
     ]
    },
    {
     "cell_type": "markdown",
     "metadata": {},
     "source": [
      "\\begin{eqnarray}\n",
      "N_{1} + N_{2} + N_{3} + N_{4} + N_{5} + N_{6} &=& 1 \\\\\\\n",
      "\\xi_{1} N_{1} + \\xi_{2} N_{2} + \\xi_{3} N_{3} + \\xi_{4} N_{4} + \\xi_{5} N_{5} + \\xi_{6} N_{6}&=& \\xi \\\\\\\n",
      "\\eta_{1} N_{1} + \\eta_{2} N_{2} + \\eta_{3} N_{3} + \\eta_{4} N_{4} + \\eta_{5} N_{5} + \\eta_{6} N_{6} &=& \\eta \\\\\\\n",
      "\\xi_{1}^{2} N_{1} + \\xi_{2}^{2} N_{2} + \\xi_{3}^{2} N_{3} + \\xi_{4}^{2} N_{4} + \\xi_{5}^{2} N_{5} + \\xi_{6}^{2} N_{6} &=& \\xi^{2} \\\\\\\n",
      "\\xi_{1} \\eta_{1} N_{1} + \\xi_{2} \\eta_{2} N_{2} + \\xi_{3} \\eta_{3} N_{3} + \\xi_{4} \\eta_{4} N_{4} + \\xi_{5} \\eta_{5} N_{5} + \\xi_{6} \\eta_{6} N_{6} &=& \\xi \\eta \\\\\\\n",
      "\\eta_{1}^{2} N_{1} + \\eta_{2}^{2} N_{2} + \\eta_{3}^{2} N_{3} + \\eta_{4}^{2} N_{4} + \\eta_{5}^{2} N_{5} + \\eta_{6}^{2} N_{6} &=& \\eta^{2}\n",
      "\\end{eqnarray}"
     ]
    },
    {
     "cell_type": "markdown",
     "metadata": {},
     "source": [
      "Reemplazando los valores nodales: "
     ]
    },
    {
     "cell_type": "markdown",
     "metadata": {},
     "source": [
      "\\begin{eqnarray}\n",
      "N_{1} + N_{2} + N_{3} + N_{4} + N_{5} + N_{6} &=& 1 \\\\\\\n",
      "(0) N_{1} + \\Big ( \\frac{1}{2} \\Big ) N_{2} + (1) N_{3} + \\Big ( \\frac{1}{2} \\Big ) N_{4} + (0) N_{5} + (0) N_{6} &=& \\xi \\\\\\\n",
      "(0) N_{1} + (0) N_{2} + (0) N_{3} + \\Big ( \\frac{1}{2} \\Big ) N_{4} + (1) N_{5} + \\Big ( \\frac{1}{2} \\Big ) N_{6} &=& \\eta \\\\\\\n",
      "(0)^{2} N_{1} + \\Big ( \\frac{1}{2} \\Big )^{2} N_{2} + (1)^{2} N_{3} + \\Big ( \\frac{1}{2} \\Big )^{2} N_{4} + (0)^{2} N_{5} + (0)^{2} N_{6} &=& \\xi^{2} \\\\\\\n",
      "(0) (0) N_{1} + \\Big ( \\frac{1}{2} \\Big ) (0) N_{2} + (1) (0) N_{3} + \\Big ( \\frac{1}{2} \\Big ) \\Big ( \\frac{1}{2} \\Big ) N_{4} + (0) (1) N_{5} + (0) \\Big ( \\frac{1}{2} \\Big ) N_{6} &=& \\xi \\eta \\\\\\\n",
      "(0)^{2} N_{1} + (0)^{2} N_{2} + (0)^{2} N_{3} + \\Big ( \\frac{1}{2} \\Big )^{2} N_{4} + (1)^{2} N_{5} + \\Big ( \\frac{1}{2} \\Big )^{2} N_{6} &=& \\eta^{2}\n",
      "\\end{eqnarray}"
     ]
    },
    {
     "cell_type": "markdown",
     "metadata": {},
     "source": [
      "En forma matricial:"
     ]
    },
    {
     "cell_type": "markdown",
     "metadata": {},
     "source": [
      "\\begin{equation}\n",
      "\\left [\n",
      "\\begin{matrix}\n",
      "1 & 1 & 1 & 1 & 1 & 1 \\\\\\\n",
      "0 & \\frac{1}{2} & 1 & \\frac{1}{2} & 0 & 0 \\\\\\\n",
      "0 & 0 & 0 & \\frac{1}{2} & 1 & \\frac{1}{2} \\\\\\\n",
      "0 & \\frac{1}{4} & 1 & \\frac{1}{4} & 0 & 0 \\\\\\\n",
      "0 & 0 & 0 & \\frac{1}{4} & 0 & 0 \\\\\\\n",
      "0 & 0 & 0 & \\frac{1}{4} & 1 & \\frac{1}{4}\n",
      "\\end{matrix}\n",
      "\\right ]\n",
      "\\left [\n",
      "\\begin{matrix}\n",
      "N_{1} \\\\\\\n",
      "N_{2} \\\\\\\n",
      "N_{3} \\\\\\\n",
      "N_{4} \\\\\\\n",
      "N_{5} \\\\\\\n",
      "N_{6}\n",
      "\\end{matrix}\n",
      "\\right ] =\n",
      "\\left [\n",
      "\\begin{matrix}\n",
      "1 \\\\\\\n",
      "\\xi \\\\\\\n",
      "\\eta \\\\\\\n",
      "\\xi^{2} \\\\\\\n",
      "\\xi \\eta \\\\\\\n",
      "\\eta^{2}\n",
      "\\end{matrix}\n",
      "\\right ]\n",
      "\\end{equation}"
     ]
    },
    {
     "cell_type": "markdown",
     "metadata": {},
     "source": [
      "Resolviendo el sistema:"
     ]
    },
    {
     "cell_type": "markdown",
     "metadata": {},
     "source": [
      "\\begin{equation}\n",
      "\\left [\n",
      "\\begin{matrix}\n",
      "N_{1} \\\\\\\n",
      "N_{2} \\\\\\\n",
      "N_{3} \\\\\\\n",
      "N_{4} \\\\\\\n",
      "N_{5} \\\\\\\n",
      "N_{6}\n",
      "\\end{matrix}\n",
      "\\right ] =\n",
      "\\left [\n",
      "\\begin{matrix}\n",
      "1 & -3 & -3 & 2 & 4 & 2 \\\\\\\n",
      "0 & 4 & 0 & -4 & -4 & 0 \\\\\\\n",
      "0 & -1 & 0 & 2 & 0 & 0 \\\\\\\n",
      "0 & 0 & 0 & 0 & 4 & 0 \\\\\\\n",
      "0 & 0 & -1 & 0 & 0 & 2 \\\\\\\n",
      "0 & 0 & 4 & 0 & -4 & -4\n",
      "\\end{matrix}\n",
      "\\right ]\n",
      "\\left [\n",
      "\\begin{matrix}\n",
      "1 \\\\\\\n",
      "\\xi \\\\\\\n",
      "\\eta \\\\\\\n",
      "\\xi^{2} \\\\\\\n",
      "\\xi \\eta \\\\\\\n",
      "\\eta^{2}\n",
      "\\end{matrix}\n",
      "\\right ]\n",
      "\\end{equation}"
     ]
    },
    {
     "cell_type": "markdown",
     "metadata": {},
     "source": [
      "Multiplicando:"
     ]
    },
    {
     "cell_type": "markdown",
     "metadata": {},
     "source": [
      "\\begin{eqnarray}\n",
      "N_{1} &=& 1 - 3 \\xi - 3 \\eta + 2 \\xi^{2} + 4 \\xi \\eta + 2 \\eta^{2} = (1 - \\xi - \\eta) [2 (1 - \\xi - \\eta) - 1] = L_{1} (2 L_{1} - 1) \\\\\\\n",
      "N_{2} &=& 4 \\xi - 4 \\xi^{2} - 4 \\xi \\eta = 4 (1 - \\xi - \\eta) \\xi = 4 L_{1} L_{2} \\\\\\\n",
      "N_{3} &=& -\\xi + 2 \\xi^{2} = \\xi (2 \\xi - 1) = L_{2} (2 L_{2} - 1) \\\\\\\n",
      "N_{4} &=& 4 \\xi \\eta = 4 L_{2} L_{3} \\\\\\\n",
      "N_{5} &=& -\\eta + 2 \\eta^{2} = \\eta (2 \\eta - 1) = L_{3} (2 L_{3} - 1) \\\\\\\n",
      "N_{6} &=& 4 \\eta - 4 \\xi \\eta - 4 \\eta^{2} = 4 (1 - \\xi - \\eta) \\eta = 4 L_{1} L_{3}\n",
      "\\end{eqnarray}"
     ]
    },
    {
     "cell_type": "markdown",
     "metadata": {},
     "source": [
      "Elemento de diez nodos:"
     ]
    },
    {
     "cell_type": "markdown",
     "metadata": {},
     "source": [
      "\\begin{equation}\n",
      "\\left[\n",
      "\\begin{array}{ccccccc}\n",
      "& & & 1 & & & \\\\\\ \n",
      "& & x & & y & & \\\\\\\n",
      "& x^{2} & & x y & & y^{2} & \\\\\\\n",
      "x^{3} & & x^{2} y & & x y^{2} & & y^{3}\n",
      "\\end{array}\n",
      "\\right]\n",
      "\\end{equation}"
     ]
    },
    {
     "cell_type": "markdown",
     "metadata": {},
     "source": [
      "El campo de desplazamientos debido a los veinte grados de libertad es:"
     ]
    },
    {
     "cell_type": "markdown",
     "metadata": {},
     "source": [
      "\\begin{eqnarray}\n",
      "u &=& \\alpha_{1} + \\alpha_{2} x + \\alpha_{3} y + \\alpha_{4} x^{2} + \\alpha_{5} x y + \\alpha_{6} y^{2} + \\alpha_{7} x^{3} + \\alpha_{8} x^{2} y + \\alpha_{9} x y^{2} + \\alpha_{10} y^{3} \\\\\\\n",
      "v &=& \\alpha_{11} + \\alpha_{12} x + \\alpha_{13} y + \\alpha_{14} x^{2} + \\alpha_{15} x y + \\alpha_{16} y^{2} + \\alpha_{17} x^{3} + \\alpha_{18} x^{2} y + \\alpha_{19} x y^{2} + \\alpha_{20} y^{3}\n",
      "\\end{eqnarray}"
     ]
    },
    {
     "cell_type": "markdown",
     "metadata": {},
     "source": [
      "En forma matricial:"
     ]
    },
    {
     "cell_type": "markdown",
     "metadata": {},
     "source": [
      "\\begin{equation}\n",
      "\\left [\n",
      "\\begin{matrix}\n",
      "u \\\\\\\n",
      "v\n",
      "\\end{matrix}\n",
      "\\right ] =\n",
      "\\left [\n",
      "\\begin{matrix}\n",
      "1 & x & y & x^{2} & x y & y^{2} & x^{3} & x^{2} y & x y^{2} & y^{3} & 0 & 0 & 0 & 0 & 0 & 0 & 0 & 0 & 0 & 0 \\\\\\\n",
      "0 & 0 & 0 & 0 & 0 & 0 & 0 & 0 & 0 & 0 & 1 & x & y & x^{2} & x y & y^{2} & x^{3} & x^{2} y & x y^{2} & y^{3}\n",
      "\\end{matrix}\n",
      "\\right ]\n",
      "\\left [\n",
      "\\begin{matrix}\n",
      "\\alpha_{1} \\\\\\\n",
      "\\alpha_{2} \\\\\\\n",
      "\\alpha_{3} \\\\\\\n",
      "\\alpha_{4} \\\\\\\n",
      "\\alpha_{5} \\\\\\\n",
      "\\alpha_{6} \\\\\\\n",
      "\\alpha_{7} \\\\\\\n",
      "\\alpha_{8} \\\\\\\n",
      "\\alpha_{9} \\\\\\\n",
      "\\alpha_{10} \\\\\\\n",
      "\\alpha_{11} \\\\\\\n",
      "\\alpha_{12} \\\\\\\n",
      "\\alpha_{13} \\\\\\\n",
      "\\alpha_{14} \\\\\\\n",
      "\\alpha_{15} \\\\\\\n",
      "\\alpha_{16} \\\\\\\n",
      "\\alpha_{17} \\\\\\\n",
      "\\alpha_{18} \\\\\\\n",
      "\\alpha_{19} \\\\\\\n",
      "\\alpha_{20}\n",
      "\\end{matrix}\n",
      "\\right ]\n",
      "\\end{equation}"
     ]
    },
    {
     "cell_type": "markdown",
     "metadata": {},
     "source": [
      "Interpolando en coordenadas naturales:"
     ]
    },
    {
     "cell_type": "markdown",
     "metadata": {},
     "source": [
      "\\begin{eqnarray}\n",
      "N_{1} + N_{2} + N_{3} + N_{4} + N_{5} + N_{6} + N_{7} + N_{8} + N_{9} + N_{10} &=& 1 \\\\\\\n",
      "\\xi_{1} N_{1} + \\xi_{2} N_{2} + \\xi_{3} N_{3} + \\xi_{4} N_{4} + \\xi_{5} N_{5} + \\xi_{6} N_{6} + \\xi_{7} N_{7} + \\xi_{8} N_{8} + \\xi_{9} N_{9} + \\xi_{10} N_{10} &=& \\xi \\\\\\\n",
      "\\eta_{1} N_{1} + \\eta_{2} N_{2} + \\eta_{3} N_{3} + \\eta_{4} N_{4} + \\eta_{5} N_{5} + \\eta_{6} N_{6} + \\eta_{7} N_{7} + \\eta_{8} N_{8} + \\eta_{9} N_{9} + \\eta_{10} N_{10} &=& \\eta \\\\\\\n",
      "\\xi_{1}^{2} N_{1} + \\xi_{2}^{2} N_{2} + \\xi_{3}^{2} N_{3} + \\xi_{4}^{2} N_{4} + \\xi_{5}^{2} N_{5} + \\xi_{6}^{2} N_{6} + \\xi_{7}^{2} N_{7} + \\xi_{8}^{2} N_{8} + \\xi_{9}^{2} N_{9} + \\xi_{10}^{2} N_{10} &=& \\xi^{2} \\\\\\\n",
      "\\xi_{1} \\eta_{1} N_{1} + \\xi_{2} \\eta_{2} N_{2} + \\xi_{3} \\eta_{3} N_{3} + \\xi_{4} \\eta_{4} N_{4} + \\xi_{5} \\eta_{5} N_{5} + \\xi_{6} \\eta_{6} N_{6} + \\xi_{7} \\eta_{7} N_{7} + \\xi_{8} \\eta_{8} N_{8} + \\xi_{9} \\eta_{9} N_{9} + \\xi_{10} \\eta_{10} N_{10} &=& \\xi \\eta \\\\\\\n",
      "\\eta_{1}^{2} N_{1} + \\eta_{2}^{2} N_{2} + \\eta_{3}^{2} N_{3} + \\eta_{4}^{2} N_{4} + \\eta_{5}^{2} N_{5} + \\eta_{6}^{2} N_{6} + \\eta_{7}^{2} N_{7} + \\eta_{8}^{2} N_{8} + \\eta_{9}^{2} N_{9} + \\eta_{10}^{2} N_{10} &=& \\eta^{2} \\\\\\\n",
      "\\xi_{1}^{3} N_{1} + \\xi_{2}^{3} N_{2} + \\xi_{3}^{3} N_{3} + \\xi_{4}^{3} N_{4} + \\xi_{5}^{3} N_{5} + \\xi_{6}^{3} N_{6} + \\xi_{7}^{3} N_{7} + \\xi_{8}^{3} N_{8} + \\xi_{9}^{3} N_{9} + \\xi_{10}^{3} N_{10} &=& \\xi^{3} \\\\\\\n",
      "\\xi_{1}^{2} \\eta_{1} N_{1} + \\xi_{2}^{2} \\eta_{2} N_{2} + \\xi_{3}^{2} \\eta_{3} N_{3} + \\xi_{4}^{2} \\eta_{4} N_{4} + \\xi_{5}^{2} \\eta_{5} N_{5} + \\xi_{6}^{2} \\eta_{6} N_{6} + \\xi_{7}^{2} \\eta_{7} N_{7} + \\xi_{8}^{2} \\eta_{8} N_{8} + \\xi_{9}^{2} \\eta_{9} N_{9} + \\xi_{10}^{2} \\eta_{10} N_{10} &=& \\xi^{2} \\eta \\\\\\\n",
      "\\xi_{1} \\eta_{1}^{2} N_{1} + \\xi_{2} \\eta_{2}^{2} N_{2} + \\xi_{3} \\eta_{3}^{2} N_{3} + \\xi_{4} \\eta_{4}^{2} N_{4} + \\xi_{5} \\eta_{5}^{2} N_{5} + \\xi_{6} \\eta_{6}^{2} N_{6} + \\xi_{7} \\eta_{7}^{2} N_{7} + \\xi_{8} \\eta_{8}^{2} N_{8} + \\xi_{9} \\eta_{9}^{2} N_{9} + \\xi_{10} \\eta_{10}^{2} N_{10} &=& \\xi \\eta^{2} \\\\\\\n",
      "\\eta_{1}^{3} N_{1} + \\eta_{2}^{3} N_{2} + \\eta_{3}^{3} N_{3} + \\eta_{4}^{3} N_{4} + \\eta_{5}^{3} N_{5} + \\eta_{6}^{3} N_{6} + \\eta_{7}^{3} N_{7} + \\eta_{8}^{3} N_{8} + \\eta_{9}^{3} N_{9} + \\eta_{10}^{3} N_{10} &=& \\eta^{3}\n",
      "\\end{eqnarray}"
     ]
    },
    {
     "cell_type": "markdown",
     "metadata": {},
     "source": [
      "Reemplazando los valores nodales: "
     ]
    },
    {
     "cell_type": "markdown",
     "metadata": {},
     "source": [
      "\\begin{eqnarray}\n",
      "N_{1} + N_{2} + N_{3} + N_{4} + N_{5} + N_{6} + N_{7} + N_{8} + N_{9} + N_{10} &=& 1 \\\\\\\n",
      "(0) N_{1} + \\Big (\\frac{1}{3} \\Big) N_{2} + \\Big (\\frac{2}{3} \\Big) N_{3} + (1) N_{4} + \\Big (\\frac{2}{3} \\Big) N_{5} + \\Big (\\frac{1}{3} \\Big) N_{6} + (0) N_{7} + (0) N_{8} + (0) N_{9} + \\Big (\\frac{1}{3} \\Big) N_{10} &=& \\xi \\\\\\\n",
      "(0) N_{1} + (0) N_{2} + (0) N_{3} + (0) N_{4} + \\Big (\\frac{1}{3} \\Big) N_{5} + \\Big (\\frac{2}{3} \\Big) N_{6} + (1) N_{7} + \\Big (\\frac{2}{3} \\Big) N_{8} + \\Big (\\frac{1}{3} \\Big) N_{9} + \\Big (\\frac{1}{3} \\Big) N_{10} &=& \\eta \\\\\\\n",
      "(0)^{2} N_{1} + \\Big (\\frac{1}{3} \\Big)^{2} N_{2} + \\Big (\\frac{2}{3} \\Big)^{2} N_{3} + (1)^{2} N_{4} + \\Big (\\frac{2}{3} \\Big)^{2} N_{5} + \\Big (\\frac{1}{3} \\Big)^{2} N_{6} + (0)^{2} N_{7} + (0)^{2} N_{8} + (0)^{2} N_{9} + \\Big (\\frac{1}{3} \\Big)^{2} N_{10} &=& \\xi^{2} \\\\\\\n",
      "(0) (0) N_{1} + \\Big (\\frac{1}{3} \\Big) (0) N_{2} + \\Big (\\frac{2}{3} \\Big) (0) N_{3} + (1) (0) N_{4} + \\Big (\\frac{2}{3} \\Big) \\Big (\\frac{1}{3} \\Big) N_{5} + \\Big (\\frac{1}{3} \\Big) \\Big (\\frac{2}{3} \\Big) N_{6} + (0) (1) N_{7} + (0) \\Big (\\frac{2}{3} \\Big) N_{8} + (0) \\Big (\\frac{1}{3} \\Big) N_{9} + \\Big (\\frac{1}{3} \\Big) \\Big (\\frac{1}{3} \\Big) N_{10} &=& \\xi \\eta \\\\\\\n",
      "(0)^{2} N_{1} + (0)^{2} N_{2} + (0)^{2} N_{3} + (0)^{2} N_{4} + \\Big (\\frac{1}{3} \\Big)^{2} N_{5} + \\Big (\\frac{2}{3} \\Big)^{2} N_{6} + (1)^{2} N_{7} + \\Big (\\frac{2}{3} \\Big)^{2} N_{8} + \\Big (\\frac{1}{3} \\Big)^{2} N_{9} + \\Big (\\frac{1}{3} \\Big)^{2} N_{10} &=& \\eta^{2} \\\\\\\n",
      "(0)^{3} N_{1} + \\Big (\\frac{1}{3} \\Big)^{3} N_{2} + \\Big (\\frac{2}{3} \\Big)^{3} N_{3} + (1)^{3} N_{4} + \\Big (\\frac{2}{3} \\Big)^{3} N_{5} + \\Big (\\frac{1}{3} \\Big)^{3} N_{6} + (0)^{3} N_{7} + (0)^{3} N_{8} + (0)^{3} N_{9} + \\Big (\\frac{1}{3} \\Big)^{3} N_{10} &=& \\xi^{3} \\\\\\\n",
      "(0)^{2} (0) N_{1} + \\Big (\\frac{1}{3} \\Big)^{2} (0) N_{2} + \\Big (\\frac{2}{3} \\Big)^{2} (0) N_{3} + (1)^{2} (0) N_{4} + \\Big (\\frac{2}{3} \\Big)^{2} \\Big (\\frac{1}{3} \\Big) N_{5} + \\Big (\\frac{1}{3} \\Big)^{2} \\Big (\\frac{2}{3} \\Big) N_{6} + (0)^{2} (1) N_{7} + (0)^{2} \\Big (\\frac{2}{3} \\Big) N_{8} + (0)^{2} \\Big (\\frac{1}{3} \\Big) N_{9} + \\Big (\\frac{1}{3} \\Big)^{2} \\Big (\\frac{1}{3} \\Big) N_{10} &=& \\xi^{2} \\eta \\\\\\\n",
      "(0) (0)^{2} N_{1} + \\Big (\\frac{1}{3} \\Big) (0)^{2} N_{2} + \\Big (\\frac{2}{3} \\Big) (0)^{2} N_{3} + (1) (0)^{2} N_{4} + \\Big (\\frac{2}{3} \\Big) \\Big (\\frac{1}{3} \\Big)^{2} N_{5} + \\Big (\\frac{1}{3} \\Big) \\Big (\\frac{2}{3} \\Big)^{2} N_{6} + (0) (1)^{2} N_{7} + (0) \\Big (\\frac{2}{3} \\Big)^{2} N_{8} + (0) \\Big (\\frac{1}{3} \\Big)^{2} N_{9} + \\Big (\\frac{1}{3} \\Big) \\Big (\\frac{1}{3} \\Big)^{2} N_{10} &=& \\xi \\eta^{2} \\\\\\\n",
      "(0)^{3} N_{1} + (0)^{3} N_{2} + (0)^{3} N_{3} + (0)^{3} N_{4} + \\Big (\\frac{1}{3} \\Big)^{3} N_{5} + \\Big (\\frac{2}{3} \\Big)^{3} N_{6} + (1)^{3} N_{7} + \\Big (\\frac{2}{3} \\Big)^{3} N_{8} + \\Big (\\frac{1}{3} \\Big)^{3} N_{9} + \\Big (\\frac{1}{3} \\Big)^{3} N_{10} &=& \\eta^{3}\n",
      "\\end{eqnarray}"
     ]
    },
    {
     "cell_type": "markdown",
     "metadata": {},
     "source": [
      "En forma matricial:"
     ]
    },
    {
     "cell_type": "markdown",
     "metadata": {},
     "source": [
      "\\begin{equation}\n",
      "\\left [\n",
      "\\begin{matrix}\n",
      "1 & 1 & 1 & 1 & 1 & 1 & 1 & 1 & 1 & 1 \\\\\\\n",
      "0 & \\frac{1}{3} & \\frac{2}{3} & 1 & \\frac{2}{3} & \\frac{1}{3} & 0 & 0 & 0 & \\frac{1}{3} \\\\\\\n",
      "0 & 0 & 0 & 0 & \\frac{1}{3} & \\frac{2}{3} & 1 & \\frac{2}{3} & \\frac{1}{3} & \\frac{1}{3} \\\\\\\n",
      "0 & \\frac{1}{9} & \\frac{4}{9} & 1 & \\frac{4}{9} & \\frac{1}{9} & 0 & 0 & 0 & \\frac{1}{9} \\\\\\\n",
      "0 & 0 & 0 & 0 & \\frac{2}{9} & \\frac{2}{9} & 0 & 0 & 0 & \\frac{1}{9} \\\\\\\n",
      "0 & 0 & 0 & 0 & \\frac{1}{9} & \\frac{4}{9} & 1 & \\frac{4}{9} & \\frac{1}{9} & \\frac{1}{9} \\\\\\\n",
      "0 & \\frac{1}{27} & \\frac{8}{27} & 1 & \\frac{8}{27} & \\frac{1}{27} & 0 & 0 & 0 & \\frac{1}{27} \\\\\\\n",
      "0 & 0 & 0 & 0 & \\frac{4}{27} & \\frac{2}{27} & 0 & 0 & 0 & \\frac{1}{27} \\\\\\\n",
      "0 & 0 & 0 & 0 & \\frac{2}{27} & \\frac{4}{27} & 0 & 0 & 0 & \\frac{1}{27} \\\\\\\n",
      "0 & 0 & 0 & 0 & \\frac{1}{27} & \\frac{8}{27} & 1 & \\frac{8}{27} & \\frac{1}{27} & \\frac{1}{27}\n",
      "\\end{matrix}\n",
      "\\right ]\n",
      "\\left [\n",
      "\\begin{matrix}\n",
      "N_{1} \\\\\\\n",
      "N_{2} \\\\\\\n",
      "N_{3} \\\\\\\n",
      "N_{4} \\\\\\\n",
      "N_{5} \\\\\\\n",
      "N_{6} \\\\\\\n",
      "N_{7} \\\\\\\n",
      "N_{8} \\\\\\\n",
      "N_{9} \\\\\\\n",
      "N_{10}\n",
      "\\end{matrix}\n",
      "\\right ] =\n",
      "\\left [\n",
      "\\begin{matrix}\n",
      "1 \\\\\\\n",
      "\\xi \\\\\\\n",
      "\\eta \\\\\\\n",
      "\\xi^{2} \\\\\\\n",
      "\\xi \\eta \\\\\\\n",
      "\\eta^{2} \\\\\\\n",
      "\\xi^{3} \\\\\\\n",
      "\\xi^{2} \\eta \\\\\\\n",
      "\\xi \\eta^{2} \\\\\\\n",
      "\\eta^{3}\n",
      "\\end{matrix}\n",
      "\\right ]\n",
      "\\end{equation}"
     ]
    },
    {
     "cell_type": "markdown",
     "metadata": {},
     "source": [
      "Resolviendo el sistema:"
     ]
    },
    {
     "cell_type": "markdown",
     "metadata": {},
     "source": [
      "\\begin{equation}\n",
      "\\left [\n",
      "\\begin{matrix}\n",
      "N_{1} \\\\\\\n",
      "N_{2} \\\\\\\n",
      "N_{3} \\\\\\\n",
      "N_{4} \\\\\\\n",
      "N_{5} \\\\\\\n",
      "N_{6} \\\\\\\n",
      "N_{7} \\\\\\\n",
      "N_{8} \\\\\\\n",
      "N_{9} \\\\\\\n",
      "N_{10}\n",
      "\\end{matrix}\n",
      "\\right ] =\n",
      "\\left [\n",
      "\\begin{matrix}\n",
      "1 & -\\frac{11}{2} & -\\frac{11}{2} & 9 & 18 & 9 & -\\frac{9}{2} & -\\frac{27}{2} & -\\frac {27}{2} & -\\frac{9}{2} \\\\\\\n",
      "0 & 9 & 0 & -\\frac{45}{2} & -\\frac{45}{2} & 0 & \\frac{27}{2} & 27 & \\frac{27}{2} & 0 \\\\\\\n",
      "0 & -\\frac{9}{2} & 0 & 18 & \\frac{9}{2} & 0 & -\\frac{27}{2} & -\\frac{27}{2} & 0 & 0 \\\\\\\n",
      "0 & 1 & 0 & -\\frac{9}{2} & 0 & 0 & \\frac{9}{2} & 0 & 0 & 0 \\\\\\\n",
      "0 & 0 & 0 & 0 & -\\frac{9}{2} & 0 & 0 & \\frac{27}{2} & 0 & 0 \\\\\\\n",
      "0 & 0 & 0 & 0 & -\\frac{9}{2} & 0 & 0 & 0 & \\frac{27}{2} & 0 \\\\\\\n",
      "0 & 0 & 1 & 0 & 0 & -\\frac{9}{2} & 0 & 0 & 0 & \\frac{9}{2} \\\\\\\n",
      "0 & 0 & -\\frac{9}{2} & 0 & \\frac{9}{2} & 18 & 0 & 0 & -\\frac{27}{2} & -\\frac{27}{2} \\\\\\\n",
      "0 & 0 & 9 & 0 & -\\frac{45}{2} & -\\frac{45}{2} & 0 & \\frac{27}{2} & 27 & \\frac{27}{2} \\\\\\\n",
      "0 & 0 & 0 & 0 & 27 & 0 & 0 & -27 & -27 & 0\n",
      "\\end{matrix}\n",
      "\\right ]\n",
      "\\left [\n",
      "\\begin{matrix}\n",
      "1 \\\\\\\n",
      "\\xi \\\\\\\n",
      "\\eta \\\\\\\n",
      "\\xi^{2} \\\\\\\n",
      "\\xi \\eta \\\\\\\n",
      "\\eta^{2} \\\\\\\n",
      "\\xi^{3} \\\\\\\n",
      "\\xi^{2} \\eta \\\\\\\n",
      "\\xi \\eta^{2} \\\\\\\n",
      "\\eta^{3}\n",
      "\\end{matrix}\n",
      "\\right ]\n",
      "\\end{equation}"
     ]
    },
    {
     "cell_type": "markdown",
     "metadata": {},
     "source": [
      "Multiplicando:"
     ]
    },
    {
     "cell_type": "markdown",
     "metadata": {},
     "source": [
      "\\begin{eqnarray}\n",
      "N_{1} &=& 1 - \\frac{11}{2} \\xi - \\frac{11}{2} \\eta + 9 \\xi^{2} + 18 \\xi y + 9 \\eta^{2} - \\frac{9}{2} \\xi^{3} - \\frac{27}{2} \\xi^{2} \\eta - \\frac{27}{2} \\xi \\eta^{2} - \\frac{9}{2} \\eta^{3} = \\frac{1}{2} (1 - \\xi - \\eta) [3 (1 - \\xi - \\eta) - 2] [3 (1 - \\xi - \\eta) - 1] = \\frac{1}{2} L_{1} (3 L_{1} - 2) (3 L_{1} - 1) \\\\\\\n",
      "N_{2} &=& 9 \\xi - \\frac{45}{2} \\xi^{2} - \\frac{45}{2} \\xi \\eta + \\frac{27}{2} \\xi^{3} + 27 \\xi^{2} \\eta + \\frac{27}{2} \\xi \\eta^{2} = \\frac{9}{2} (1 - \\xi - \\eta) \\xi [3 (1 - \\xi - \\eta) - 1] = \\frac{9}{2} L_{1} L_{2} (3 L_{1} - 1) \\\\\\\n",
      "N_{3} &=& -\\frac{9}{2} \\xi + 18 \\xi^{2} + \\frac{9}{2} \\xi \\eta - \\frac{27}{2} \\xi^{3} - \\frac{27}{2} \\xi^{2} \\eta = \\frac{9}{2} (1 - \\xi - \\eta) \\xi (3 \\xi - 1) = \\frac{9}{2} L_{1} L_{2} (3 L_{2} - 1) \\\\\\\n",
      "N_{4} &=& \\xi - \\frac{9}{2} \\xi^{2} + \\frac{9}{2} \\xi^{3} = \\frac{1}{2} \\xi (3 \\xi - 2) (3 \\xi - 1) = \\frac{1}{2} L_{2} (3 L_{2} - 2) (3 L_{2} - 1) \\\\\\\n",
      "N_{5} &=& -\\frac{9}{2} \\xi \\eta + \\frac{27}{2} \\xi^{2} \\eta = \\frac{9}{2} \\xi \\eta (3 \\xi - 1) = \\frac{9}{2} L_{2} L_{3} (3 L_{2} - 1) \\\\\\\n",
      "N_{6} &=& -\\frac{9}{2} \\xi \\eta + \\frac{27}{2} \\xi \\eta^{2} = \\frac{9}{2} \\xi \\eta (3 \\eta - 1) = \\frac{9}{2} L_{2} L_{3} (3 L_{3} - 1) \\\\\\\n",
      "N_{7} &=& \\eta - \\frac{9}{2} \\eta^{2} + \\frac{9}{2} \\eta^{3} = \\frac{1}{2} \\eta (3 \\eta - 2) (3 \\eta - 1) = \\frac{1}{2} L_{3} (3 L_{3} - 2) (3 L_{3} - 1) \\\\\\\n",
      "N_{8} &=& -\\frac{9}{2} \\eta + \\frac{9}{2} \\xi \\eta + 18 \\eta^{2} - \\frac{27}{2} \\xi \\eta^{2} - \\frac{27}{2} \\eta^{3} = \\frac{9}{2} (1 - \\xi - \\eta) \\eta (3 \\xi - 1) = \\frac{9}{2} L_{1} L_{3} (3 L_{3} - 1) \\\\\\\n",
      "N_{9} &=& 9 \\eta - \\frac{45}{2} \\xi \\eta - \\frac{45}{2} \\eta^{2} + \\frac{27}{2} \\xi^{2} \\eta + 27 \\xi \\eta^{2} + \\frac{27}{2} \\eta^{3} = \\frac{9}{2} (1 - \\xi - \\eta) \\eta [3 (1 - \\xi - \\eta) - 1] = \\frac{9}{2} L_{1} L_{3} (3 L_{1} - 1) \\\\\\\n",
      "N_{10} &=& 27 \\xi \\eta - 27 \\xi^{2} \\eta - 27 \\xi \\eta^{2} = 27 (1 - \\xi - \\eta) \\xi \\eta = 27 L_{1} L_{2} L_{3}\n",
      "\\end{eqnarray}"
     ]
    },
    {
     "cell_type": "code",
     "collapsed": false,
     "input": [],
     "language": "python",
     "metadata": {},
     "outputs": []
    }
   ],
   "metadata": {}
  }
 ]
}