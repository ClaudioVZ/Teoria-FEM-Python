{
 "metadata": {
  "name": "funciones de forma viga"
 },
 "nbformat": 3,
 "nbformat_minor": 0,
 "worksheets": [
  {
   "cells": [
    {
     "cell_type": "heading",
     "level": 1,
     "metadata": {},
     "source": [
      "Funciones de forma unidimensionales"
     ]
    },
    {
     "cell_type": "markdown",
     "metadata": {},
     "source": [
      "Las funciones de forma unidimensionales sirven para aproximar los desplazamientos: "
     ]
    },
    {
     "cell_type": "markdown",
     "metadata": {},
     "source": [
      "\\begin{equation}\n",
      "w = \\alpha_{0} + \\alpha_{1} x + \\cdots + \\alpha_{n} x^{n} = \\sum_{i = 0}^{n} \\alpha_{i} x^{i}\n",
      "\\end{equation}"
     ]
    },
    {
     "cell_type": "heading",
     "level": 2,
     "metadata": {},
     "source": [
      "Elemento viga Euler-Bernoulli"
     ]
    },
    {
     "cell_type": "markdown",
     "metadata": {},
     "source": [
      "Los elementos viga soportan esfuerzos debido a flexi\u00f3n."
     ]
    },
    {
     "cell_type": "heading",
     "level": 3,
     "metadata": {},
     "source": [
      "Elemento de dos nodos"
     ]
    },
    {
     "cell_type": "markdown",
     "metadata": {},
     "source": [
      "Para un elemento de dos nodos y cuatro grados de libertad:"
     ]
    },
    {
     "cell_type": "markdown",
     "metadata": {},
     "source": [
      "\\begin{equation}\n",
      "w = \\alpha_{0} + \\alpha_{1} x + \\alpha_{2} x^{2} + \\alpha_{3} x^{3} =\n",
      "\\left [\n",
      "\\begin{matrix}\n",
      "1 & x & x^{2} & x^{3}\n",
      "\\end{matrix}\n",
      "\\right ]\n",
      "\\left [\n",
      "\\begin{matrix}\n",
      "\\alpha_{0} \\\\\\\n",
      "\\alpha_{1} \\\\\\\n",
      "\\alpha_{2} \\\\\\\n",
      "\\alpha_{3}\n",
      "\\end{matrix}\n",
      "\\right ]\n",
      "\\end{equation}"
     ]
    },
    {
     "cell_type": "markdown",
     "metadata": {},
     "source": [
      "La deformaci\u00f3n angular:"
     ]
    },
    {
     "cell_type": "markdown",
     "metadata": {},
     "source": [
      "\\begin{equation}\n",
      "\\theta = \\frac{\\partial{w}}{\\partial{x}} = \\alpha_{1} + 2 \\alpha_{2} x + 3 \\alpha_{3} x^{2}\n",
      "\\end{equation}"
     ]
    },
    {
     "cell_type": "markdown",
     "metadata": {},
     "source": [
      "Reemplazando los valores nodales en coordenadas naturales:"
     ]
    },
    {
     "cell_type": "markdown",
     "metadata": {},
     "source": [
      "\\begin{eqnarray}\n",
      "\\alpha_{0} + \\alpha_{1} (-1) + \\alpha_{2} (-1)^{2} + \\alpha_{3} (-1)^{3} &=& w_{1} \\\\\\\n",
      "\\alpha_{1} + 2 \\alpha_{2} (-1) + 3 \\alpha_{3} (-1)^{2} &=& \\theta_{1} \\\\\\\n",
      "\\alpha_{0} + \\alpha_{1} (1) + \\alpha_{2} (1)^{2} + \\alpha_{3} (1)^{3} &=& w_{2} \\\\\\\n",
      "\\alpha_{1} + 2 \\alpha_{2} (1) + 3 \\alpha_{3} (1)^{2} &=& \\theta_{2}\n",
      "\\end{eqnarray}"
     ]
    },
    {
     "cell_type": "markdown",
     "metadata": {},
     "source": [
      "Evaluando:"
     ]
    },
    {
     "cell_type": "markdown",
     "metadata": {},
     "source": [
      "\\begin{eqnarray}\n",
      "\\alpha_{0} - \\alpha_{1} + \\alpha_{2} - \\alpha_{3} &=& w_{1} \\\\\\\n",
      "\\alpha_{1} - 2 \\alpha_{2} + 3 \\alpha_{3} &=& \\theta_{1} \\\\\\\n",
      "\\alpha_{0} + \\alpha_{1} + \\alpha_{2} + \\alpha_{3} &=& w_{2} \\\\\\\n",
      "\\alpha_{1} + 2 \\alpha_{2} + 3 \\alpha_{3} &=& \\theta_{2}\n",
      "\\end{eqnarray}"
     ]
    },
    {
     "cell_type": "markdown",
     "metadata": {},
     "source": [
      "En forma matricial:"
     ]
    },
    {
     "cell_type": "markdown",
     "metadata": {},
     "source": [
      "\\begin{equation}\n",
      "\\left [\n",
      "\\begin{matrix}\n",
      "1 & -1 & 1 & -1 \\\\\\\n",
      "0 & 1 & -2 & 3 \\\\\\\n",
      "1 & 1 & 1 & 1 \\\\\\\n",
      "0 & 1 & 2 & 3\n",
      "\\end{matrix}\n",
      "\\right ]\n",
      "\\left [\n",
      "\\begin{matrix}\n",
      "\\alpha_{0} \\\\\\\n",
      "\\alpha_{1} \\\\\\\n",
      "\\alpha_{2} \\\\\\\n",
      "\\alpha_{3}\n",
      "\\end{matrix}\n",
      "\\right ] =\n",
      "\\left [\n",
      "\\begin{matrix}\n",
      "w_{1} \\\\\\\n",
      "\\theta_{1} \\\\\\\n",
      "w_{2} \\\\\\\n",
      "\\theta_{2}\n",
      "\\end{matrix}\n",
      "\\right ]\n",
      "\\end{equation}"
     ]
    },
    {
     "cell_type": "markdown",
     "metadata": {},
     "source": [
      "Resolviendo el sistema:"
     ]
    },
    {
     "cell_type": "markdown",
     "metadata": {},
     "source": [
      "\\begin{equation}\n",
      "\\left [\n",
      "\\begin{matrix}\n",
      "\\alpha_{0} \\\\\\\n",
      "\\alpha_{1} \\\\\\\n",
      "\\alpha_{2} \\\\\\\n",
      "\\alpha_{3}\n",
      "\\end{matrix}\n",
      "\\right ] =\n",
      "\\left [\n",
      "\\begin{matrix}\n",
      "\\frac{1}{2} & \\frac{1}{4} & \\frac{1}{2} & -\\frac{1}{4} \\\\\\\n",
      "-\\frac{3}{4} & -\\frac{1}{4} & \\frac{3}{4} & -\\frac{1}{4} \\\\\\\n",
      "0 & -\\frac{1}{4} & 0 & \\frac{1}{4} \\\\\\\n",
      "\\frac{1}{4} & \\frac{1}{4} & -\\frac{1}{4} & \\frac{1}{4}\n",
      "\\end{matrix}\n",
      "\\right ]\n",
      "\\left [\n",
      "\\begin{matrix}\n",
      "w_{1} \\\\\\\n",
      "\\theta_{1} \\\\\\\n",
      "w_{2} \\\\\\\n",
      "\\theta_{2}\n",
      "\\end{matrix}\n",
      "\\right ]\n",
      "\\end{equation}"
     ]
    },
    {
     "cell_type": "markdown",
     "metadata": {},
     "source": [
      "Reemplazando:"
     ]
    },
    {
     "cell_type": "markdown",
     "metadata": {},
     "source": [
      "\\begin{equation}\n",
      "w =\n",
      "\\left [\n",
      "\\begin{matrix}\n",
      "1 & x & x^{2} & x^{3}\n",
      "\\end{matrix}\n",
      "\\right ]\n",
      "\\left [\n",
      "\\begin{matrix}\n",
      "\\alpha_{0} \\\\\\\n",
      "\\alpha_{1} \\\\\\\n",
      "\\alpha_{2} \\\\\\\n",
      "\\alpha_{3}\n",
      "\\end{matrix}\n",
      "\\right ] =\n",
      "\\left [\n",
      "\\begin{matrix}\n",
      "1 & x & x^{2} & x^{3}\n",
      "\\end{matrix}\n",
      "\\right ]\n",
      "\\left [\n",
      "\\begin{matrix}\n",
      "\\frac{1}{2} & \\frac{1}{4} & \\frac{1}{2} & -\\frac{1}{4} \\\\\\\n",
      "-\\frac{3}{4} & -\\frac{1}{4} & \\frac{3}{4} & -\\frac{1}{4} \\\\\\\n",
      "0 & -\\frac{1}{4} & 0 & \\frac{1}{4} \\\\\\\n",
      "\\frac{1}{4} & \\frac{1}{4} & -\\frac{1}{4} & \\frac{1}{4}\n",
      "\\end{matrix}\n",
      "\\right ]\n",
      "\\left [\n",
      "\\begin{matrix}\n",
      "w_{1} \\\\\\\n",
      "\\theta_{1} \\\\\\\n",
      "w_{2} \\\\\\\n",
      "\\theta_{2}\n",
      "\\end{matrix}\n",
      "\\right ] =\n",
      "\\left [\n",
      "\\begin{matrix}\n",
      "\\frac{1}{4} (x+2) (x-1)^{2} & \\frac{1}{4} (x+1) (x-1)^{2} & -\\frac{1}{4} (x-2) (x+1)^{2} & \\frac{1}{4} (x-1) (x+1)^{2}\n",
      "\\end{matrix}\n",
      "\\right ]\n",
      "\\left [\n",
      "\\begin{matrix}\n",
      "w_{1} \\\\\\\n",
      "\\theta_{1} \\\\\\\n",
      "w_{2} \\\\\\\n",
      "\\theta_{2}\n",
      "\\end{matrix}\n",
      "\\right ]\n",
      "\\end{equation}"
     ]
    },
    {
     "cell_type": "markdown",
     "metadata": {},
     "source": [
      "Reescribiendo $w$:"
     ]
    },
    {
     "cell_type": "markdown",
     "metadata": {},
     "source": [
      "\\begin{equation}\n",
      "w = \\Big [ \\frac{1}{4} (x+2) (x-1)^{2} \\Big ] w_{1} + \\Big [ \\frac{1}{4} (x+1) (x-1)^{2} \\Big ] \\theta_{1} + \\Big [ -\\frac{1}{4} (x-2) (x+1)^{2} \\Big ] w_{2} + \\Big [ \\frac{1}{4} (x-1) (x+1)^{2} \\Big ] \\theta_{2} = H_{01} w_{1} + H_{11} \\theta_{1} + H_{02} w_{2} + H_{12} \\theta_{2}\n",
      "\\end{equation}"
     ]
    },
    {
     "cell_type": "heading",
     "level": 3,
     "metadata": {},
     "source": [
      "Elemento de tres nodos"
     ]
    },
    {
     "cell_type": "markdown",
     "metadata": {},
     "source": [
      "Para un elemento de tres nodos y seis grados de libertad:"
     ]
    },
    {
     "cell_type": "markdown",
     "metadata": {},
     "source": [
      "\\begin{equation}\n",
      "w = \\alpha_{0} + \\alpha_{1} x + \\alpha_{2} x^{2} + \\alpha_{3} x^{3} + \\alpha_{4} x^{4} + \\alpha_{5} x^{5} =\n",
      "\\left [\n",
      "\\begin{matrix}\n",
      "1 & x & x^{2} & x^{3} & x^{4} & x^{5}\n",
      "\\end{matrix}\n",
      "\\right ]\n",
      "\\left [\n",
      "\\begin{matrix}\n",
      "\\alpha_{0} \\\\\\\n",
      "\\alpha_{1} \\\\\\\n",
      "\\alpha_{2} \\\\\\\n",
      "\\alpha_{3} \\\\\\\n",
      "\\alpha_{4} \\\\\\\n",
      "\\alpha_{5}\n",
      "\\end{matrix}\n",
      "\\right ]\n",
      "\\end{equation}"
     ]
    },
    {
     "cell_type": "markdown",
     "metadata": {},
     "source": [
      "La deformaci\u00f3n angular:"
     ]
    },
    {
     "cell_type": "markdown",
     "metadata": {},
     "source": [
      "\\begin{equation}\n",
      "\\theta = \\frac{\\partial{w}}{\\partial{x}} = \\alpha_{1} + 2 \\alpha_{2} x + 3 \\alpha_{3} x^{2} + 4 \\alpha_{4} x^{3} + 5 \\alpha_{5} x^{4}\n",
      "\\end{equation}"
     ]
    },
    {
     "cell_type": "markdown",
     "metadata": {},
     "source": [
      "Reemplazando los valores nodales en coordenadas naturales:"
     ]
    },
    {
     "cell_type": "markdown",
     "metadata": {},
     "source": [
      "\\begin{eqnarray}\n",
      "\\alpha_{0} + \\alpha_{1} (-1) + \\alpha_{2} (-1)^{2} + \\alpha_{3} (-1)^{3} + \\alpha_{4} (-1)^{4} + \\alpha_{5} (-1)^{5} &=& w_{1} \\\\\\\n",
      "\\alpha_{1} + 2 \\alpha_{2} (-1) + 3 \\alpha_{3} (-1)^{2} + 4 \\alpha_{4} (-1)^{3} + 5 \\alpha_{5} (-1)^{4} &=& \\theta_{1} \\\\\\\n",
      "\\alpha_{0} + \\alpha_{1} (0) + \\alpha_{2} (0)^{2} + \\alpha_{3} (0)^{3} + \\alpha_{4} (0)^{4} + \\alpha_{5} (0)^{5} &=& w_{2} \\\\\\\n",
      "\\alpha_{1} + 2 \\alpha_{2} (0) + 3 \\alpha_{3} (0)^{2} + 4 \\alpha_{4} (0)^{3} + 5 \\alpha_{5} (0)^{4} &=& \\theta_{2} \\\\\\\n",
      "\\alpha_{0} + \\alpha_{1} (1) + \\alpha_{2} (1)^{2} + \\alpha_{3} (1)^{3} + \\alpha_{4} (1)^{4} + \\alpha_{5} (1)^{5} &=& w_{3} \\\\\\\n",
      "\\alpha_{1} + 2 \\alpha_{2} (1) + 3 \\alpha_{3} (1)^{2} + 4 \\alpha_{4} (1)^{3} + 5 \\alpha_{5} (1)^{4} &=& \\theta_{3}\n",
      "\\end{eqnarray}"
     ]
    },
    {
     "cell_type": "markdown",
     "metadata": {},
     "source": [
      "Evaluando:"
     ]
    },
    {
     "cell_type": "markdown",
     "metadata": {},
     "source": [
      "\\begin{eqnarray}\n",
      "\\alpha_{0} - \\alpha_{1} + \\alpha_{2} - \\alpha_{3} + \\alpha_{4} - \\alpha_{5} &=& w_{1} \\\\\\\n",
      "\\alpha_{1} - 2 \\alpha_{2} + 3 \\alpha_{3} - 4 \\alpha_{4} + 5 \\alpha_{5} &=& \\theta_{1} \\\\\\\n",
      "\\alpha_{0} &=& w_{2} \\\\\\\n",
      "\\alpha_{1} &=& \\theta_{2} \\\\\\\n",
      "\\alpha_{0} + \\alpha_{1} + \\alpha_{2} + \\alpha_{3} + \\alpha_{4} + \\alpha_{5} &=& w_{3} \\\\\\\n",
      "\\alpha_{1} + 2 \\alpha_{2} + 3 \\alpha_{3} + 4 \\alpha_{4} + 5 \\alpha_{5} &=& \\theta_{3}\n",
      "\\end{eqnarray}"
     ]
    },
    {
     "cell_type": "markdown",
     "metadata": {},
     "source": [
      "En forma matricial:"
     ]
    },
    {
     "cell_type": "markdown",
     "metadata": {},
     "source": [
      "\\begin{equation}\n",
      "\\left [\n",
      "\\begin{matrix}\n",
      "1 & -1 & 1 & -1 & 1 & -1 \\\\\\\n",
      "0 & 1 & -2 & 3 & -4 & 5 \\\\\\\n",
      "1 & 0 & 0 & 0 & 0 & 0 \\\\\\\n",
      "0 & 1 & 0 & 0 & 0 & 0 \\\\\\\n",
      "1 & 1 & 1 & 1 & 1 & 1 \\\\\\\n",
      "0 & 1 & 2 & 3 & 4 & 5\n",
      "\\end{matrix}\n",
      "\\right ]\n",
      "\\left [\n",
      "\\begin{matrix}\n",
      "\\alpha_{0} \\\\\\\n",
      "\\alpha_{1} \\\\\\\n",
      "\\alpha_{2} \\\\\\\n",
      "\\alpha_{3} \\\\\\\n",
      "\\alpha_{4} \\\\\\\n",
      "\\alpha_{5}\n",
      "\\end{matrix}\n",
      "\\right ] =\n",
      "\\left [\n",
      "\\begin{matrix}\n",
      "w_{1} \\\\\\\n",
      "\\theta_{1} \\\\\\\n",
      "w_{2} \\\\\\\n",
      "\\theta_{2} \\\\\\\n",
      "w_{3} \\\\\\\n",
      "\\theta_{3}\n",
      "\\end{matrix}\n",
      "\\right ]\n",
      "\\end{equation}"
     ]
    },
    {
     "cell_type": "markdown",
     "metadata": {},
     "source": [
      "Resolviendo el sistema:"
     ]
    },
    {
     "cell_type": "markdown",
     "metadata": {},
     "source": [
      "\\begin{equation}\n",
      "\\left [\n",
      "\\begin{matrix}\n",
      "\\alpha_{0} \\\\\\\n",
      "\\alpha_{1} \\\\\\\n",
      "\\alpha_{2} \\\\\\\n",
      "\\alpha_{3} \\\\\\\n",
      "\\alpha_{4} \\\\\\\n",
      "\\alpha_{5}\n",
      "\\end{matrix}\n",
      "\\right ] =\n",
      "\\left [\n",
      "\\begin{matrix}\n",
      "0 & 0 & 1 & 0 & 0 & 0 \\\\\\\n",
      "0 & 0 & 0 & 1 & 0 & 0 \\\\\\\n",
      "1 & \\frac{1}{4} & -2 & 0 & 1 & -\\frac{1}{4} \\\\\\\n",
      "-\\frac{5}{4} & -\\frac{1}{4} & 0 & -2 & \\frac{5}{4} & -\\frac{1}{4} \\\\\\\n",
      "-\\frac{1}{2} & -\\frac{1}{4} & 1 & 0 & -\\frac{1}{2} & \\frac{1}{4} \\\\\\\n",
      "\\frac{3}{4} & \\frac{1}{4} & 0 & 1 & -\\frac{3}{4} & \\frac{1}{4}\n",
      "\\end{matrix}\n",
      "\\right ]\n",
      "\\left [\n",
      "\\begin{matrix}\n",
      "w_{1} \\\\\\\n",
      "\\theta_{1} \\\\\\\n",
      "w_{2} \\\\\\\n",
      "\\theta_{2} \\\\\\\n",
      "w_{3} \\\\\\\n",
      "\\theta_{3}\n",
      "\\end{matrix}\n",
      "\\right ]\n",
      "\\end{equation}"
     ]
    },
    {
     "cell_type": "markdown",
     "metadata": {},
     "source": [
      "Reemplazando:"
     ]
    },
    {
     "cell_type": "markdown",
     "metadata": {},
     "source": [
      "\\begin{equation}\n",
      "w =\n",
      "\\left [\n",
      "\\begin{matrix}\n",
      "1 & x & x^{2} & x^{3} & x^{4} & x^{5}\n",
      "\\end{matrix}\n",
      "\\right ]\n",
      "\\left [\n",
      "\\begin{matrix}\n",
      "\\alpha_{0} \\\\\\\n",
      "\\alpha_{1} \\\\\\\n",
      "\\alpha_{2} \\\\\\\n",
      "\\alpha_{3} \\\\\\\n",
      "\\alpha_{4} \\\\\\\n",
      "\\alpha_{5}\n",
      "\\end{matrix}\n",
      "\\right ] =\n",
      "\\left [\n",
      "\\begin{matrix}\n",
      "1 & x & x^{2} & x^{3} & x^{4} & x^{5}\n",
      "\\end{matrix}\n",
      "\\right ]\n",
      "\\left [\n",
      "\\begin{matrix}\n",
      "0 & 0 & 1 & 0 & 0 & 0 \\\\\\\n",
      "0 & 0 & 0 & 1 & 0 & 0 \\\\\\\n",
      "1 & \\frac{1}{4} & -2 & 0 & 1 & -\\frac{1}{4} \\\\\\\n",
      "-\\frac{5}{4} & -\\frac{1}{4} & 0 & -2 & \\frac{5}{4} & -\\frac{1}{4} \\\\\\\n",
      "-\\frac{1}{2} & -\\frac{1}{4} & 1 & 0 & -\\frac{1}{2} & \\frac{1}{4} \\\\\\\n",
      "\\frac{3}{4} & \\frac{1}{4} & 0 & 1 & -\\frac{3}{4} & \\frac{1}{4}\n",
      "\\end{matrix}\n",
      "\\right ]\n",
      "\\left [\n",
      "\\begin{matrix}\n",
      "w_{1} \\\\\\\n",
      "\\theta_{1} \\\\\\\n",
      "w_{2} \\\\\\\n",
      "\\theta_{2} \\\\\\\n",
      "w_{3} \\\\\\\n",
      "\\theta_{3}\n",
      "\\end{matrix}\n",
      "\\right ] =\n",
      "\\left [\n",
      "\\begin{matrix}\n",
      "\\frac{1}{4} x^{2} (3x+4) (x-1)^{2} & \\frac{1}{4} x^{2} (x+1) (x-1)^{2} & (x-1)^{2} (x+1)^{2} & x (x-1)^{2} (x+1)^{2} & -\\frac{1}{4} x^{2} (3x-4) (x+1)^{2} & \\frac{1}{4} x^{2} (x-1) (x+1)^{2}\n",
      "\\end{matrix}\n",
      "\\right ]\n",
      "\\left [\n",
      "\\begin{matrix}\n",
      "w_{1} \\\\\\\n",
      "\\theta_{1} \\\\\\\n",
      "w_{2} \\\\\\\n",
      "\\theta_{2} \\\\\\\n",
      "w_{3} \\\\\\\n",
      "\\theta_{3}\n",
      "\\end{matrix}\n",
      "\\right ]\n",
      "\\end{equation}"
     ]
    },
    {
     "cell_type": "markdown",
     "metadata": {},
     "source": [
      "Reescribiendo $u$:"
     ]
    },
    {
     "cell_type": "markdown",
     "metadata": {},
     "source": [
      "\\begin{equation}\n",
      "w = \\Big [ \\frac{1}{4} x^{2} (3x+4) (x-1)^{2} \\Big ] w_{1} + \\Big [ \\frac{1}{4} x^{2} (x+1) (x-1)^{2} \\Big ] \\theta_{1} + \\Big [ (x-1)^{2} (x+1)^{2} \\Big ] w_{2} + \\Big [ x (x-1)^{2} (x+1)^{2} \\Big ] \\theta_{2} + \\Big [ -\\frac{1}{4} x^{2} (3x-4) (x+1)^{2} \\Big ] w_{3} + \\Big [ \\frac{1}{4} x^{2} (x-1) (x+1)^{2} \\Big ] \\theta_{3} = H_{01} w_{1} + H_{11} \\theta_{1} + H_{02} w_{2} + H_{12} \\theta_{2} + H_{03} w_{3} + H_{13} \\theta_{3}\n",
      "\\end{equation}"
     ]
    },
    {
     "cell_type": "heading",
     "level": 2,
     "metadata": {},
     "source": [
      "Elementos viga Euler-Bernoulli de mayor grado polinomial"
     ]
    },
    {
     "cell_type": "markdown",
     "metadata": {},
     "source": [
      "Los elementos de mayor grado pueden obtenerse mediante polinomios de Hermite:"
     ]
    },
    {
     "cell_type": "markdown",
     "metadata": {},
     "source": [
      "\\begin{eqnarray}\n",
      "H_{0i} &=& [1 - 2 \\ \\ell_{(x_{i})}^{\\prime} (x - x_{i})] [\\ell_{(x)}]^{2} \\\\\\\n",
      "H_{1i} &=& (x - x_{i}) [\\ell_{(x)}]^{2}\n",
      "\\end{eqnarray}"
     ]
    },
    {
     "cell_type": "heading",
     "level": 3,
     "metadata": {},
     "source": [
      "Elemento de dos nodos"
     ]
    },
    {
     "cell_type": "markdown",
     "metadata": {},
     "source": [
      "Usando la f\u00f3rmula para polinomios de Lagrange:"
     ]
    },
    {
     "cell_type": "markdown",
     "metadata": {},
     "source": [
      "\\begin{eqnarray}\n",
      "\\ell_{1} &=& \\frac{x - 1}{-1 - 1} = \\frac{1}{2} - \\frac{1}{2} x \\\\\\\n",
      "\\ell_{1}^{\\prime} &=& - \\frac{1}{2} \\\\\\\n",
      "\\ell_{2} &=& \\frac{x - (-1)}{1 - (-1)} = \\frac{1}{2} + \\frac{1}{2} x \\\\\\\n",
      "\\ell_{2}^{\\prime} &=& \\frac{1}{2}\n",
      "\\end{eqnarray}"
     ]
    },
    {
     "cell_type": "markdown",
     "metadata": {},
     "source": [
      "Usando la f\u00f3rmula para polinomios de Hermite:"
     ]
    },
    {
     "cell_type": "markdown",
     "metadata": {},
     "source": [
      "\\begin{eqnarray}\n",
      "H_{01} &=& \\Big \\\\{ 1 - 2 \\Big [ -\\frac{1}{2} \\Big ] [x - (-1)] \\Big \\\\} \\Big ( \\frac{1}{2} - \\frac{1}{2} x \\Big )^{2} = \\frac{1}{4} (x+2) (x-1)^{2} \\\\\\\n",
      "H_{11} &=& [x - (-1)] \\Big ( \\frac{1}{2} - \\frac{1}{2} x \\Big )^{2} = \\frac{1}{4} (x+1) (x-1)^{2} \\\\\\\n",
      "H_{02} &=& \\Big [ 1 - 2 \\Big ( \\frac{1}{2} \\Big ) (x - 1) \\Big ] \\Big ( \\frac{1}{2} + \\frac{1}{2} x \\Big )^{2} = -\\frac{1}{4} (x-2) (x+1)^{2} \\\\\\\n",
      "H_{12} &=& (x - 1) \\Big ( \\frac{1}{2} + \\frac{1}{2} x \\Big )^{2} = \\frac{1}{4} (x-1) (x+1)^{2}\n",
      "\\end{eqnarray}"
     ]
    },
    {
     "cell_type": "heading",
     "level": 3,
     "metadata": {},
     "source": [
      "Elemento de tres nodos"
     ]
    },
    {
     "cell_type": "markdown",
     "metadata": {},
     "source": [
      "Usando la f\u00f3rmula para polinomios de Lagrange:"
     ]
    },
    {
     "cell_type": "markdown",
     "metadata": {},
     "source": [
      "\\begin{eqnarray}\n",
      "\\ell_{1} &=& \\frac{x - 0}{-1 - 0} \\frac{x - 1}{-1 - 1} = -\\frac{1}{2} x + \\frac{1}{2} x^{2} \\\\\\\n",
      "\\ell_{1}^{\\prime} &=& -\\frac{1}{2} + x \\\\\\\n",
      "\\ell_{2} &=& \\frac{x - (-1)}{0 - (-1)} \\frac{x - 1}{0 - 1} = 1 - x^{2} \\\\\\\n",
      "\\ell_{2}^{\\prime} &=& - 2 x \\\\\\\n",
      "\\ell_{3} &=& \\frac{x - 0}{1 - 0} \\frac{x - 1}{1 - 1} = \\frac{1}{2} x + \\frac{1}{2} x^{2} \\\\\\\n",
      "\\ell_{3}^{\\prime} &=& \\frac{1}{2} + x\n",
      "\\end{eqnarray}"
     ]
    },
    {
     "cell_type": "markdown",
     "metadata": {},
     "source": [
      "Usando la f\u00f3rmula para polinomios de Hermite:"
     ]
    },
    {
     "cell_type": "markdown",
     "metadata": {},
     "source": [
      "\\begin{eqnarray}\n",
      "H_{01} &=& \\Big \\\\{ 1 - 2 \\Big [ -\\frac{1}{2} + (-1) \\Big ] [x - (-1)] \\Big \\\\} \\Big ( -\\frac{1}{2} x + \\frac{1}{2} x^{2} \\Big )^{2} = \\frac{1}{4} x^{2} (3x+4) (x-1)^{2} \\\\\\\n",
      "H_{11} &=& [x - (-1)] \\Big ( -\\frac{1}{2} x + \\frac{1}{2} x^{2} \\Big )^{2} = \\frac{1}{4} x^{2} (x+1) (x-1)^{2} \\\\\\\n",
      "H_{02} &=& \\Big \\\\{ 1 - 2 \\Big [ - 2 (0) \\Big ] (x - 0) \\Big \\\\} \\Big ( 1 - x^{2} \\Big )^{2} = (x-1)^{2} (x+1)^{2} \\\\\\\n",
      "H_{12} &=& (x - 0) \\Big ( 1 - x^{2} \\Big )^{2} = x (x-1)^{2} (x+1)^{2} \\\\\\\n",
      "H_{03} &=& \\Big \\\\{ 1 - 2 \\Big [ \\frac{1}{2} + (1) \\Big ] \\Big \\\\} \\Big ( \\frac{1}{2} x + \\frac{1}{2} x^{2} \\Big )^{2} = -\\frac{1}{4} x^{2} (3x-4) (x+1)^{2} \\\\\\\n",
      "H_{13} &=& [x - (1)] \\Big ( \\frac{1}{2} x + \\frac{1}{2} x^{2} \\Big )^{2} = \\frac{1}{4} x^{2} (x-1) (x+1)^{2}\n",
      "\\end{eqnarray}"
     ]
    },
    {
     "cell_type": "code",
     "collapsed": false,
     "input": [],
     "language": "python",
     "metadata": {},
     "outputs": []
    },
    {
     "cell_type": "code",
     "collapsed": false,
     "input": [],
     "language": "python",
     "metadata": {},
     "outputs": []
    }
   ],
   "metadata": {}
  }
 ]
}