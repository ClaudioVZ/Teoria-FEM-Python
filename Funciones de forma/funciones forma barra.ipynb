{
 "metadata": {
  "name": "funciones de forma barra"
 },
 "nbformat": 3,
 "nbformat_minor": 0,
 "worksheets": [
  {
   "cells": [
    {
     "cell_type": "heading",
     "level": 1,
     "metadata": {},
     "source": [
      "Funciones de forma unidimensionales"
     ]
    },
    {
     "cell_type": "markdown",
     "metadata": {},
     "source": [
      "Las funciones de forma unidimensionales sirven para aproximar los desplazamientos: "
     ]
    },
    {
     "cell_type": "markdown",
     "metadata": {},
     "source": [
      "\\begin{equation}\n",
      "u = \\alpha_{0} + \\alpha_{1} x + \\cdots + \\alpha_{n} x^{n} = \\sum_{i = 0}^{n} \\alpha_{i} x^{i}\n",
      "\\end{equation}"
     ]
    },
    {
     "cell_type": "heading",
     "level": 2,
     "metadata": {},
     "source": [
      "Elemento barra"
     ]
    },
    {
     "cell_type": "markdown",
     "metadata": {},
     "source": [
      "Los elementos barra soportan esfuerzos debidos a tracci\u00f3n o compresi\u00f3n."
     ]
    },
    {
     "cell_type": "heading",
     "level": 3,
     "metadata": {},
     "source": [
      "Elemento de dos nodos"
     ]
    },
    {
     "cell_type": "markdown",
     "metadata": {},
     "source": [
      "Para un elemento de dos nodos y dos grados de libertad:"
     ]
    },
    {
     "cell_type": "markdown",
     "metadata": {},
     "source": [
      "\\begin{equation}\n",
      "u = \\alpha_{0} + \\alpha_{1} x  =\n",
      "\\left [\n",
      "\\begin{matrix}\n",
      "1 & x\n",
      "\\end{matrix}\n",
      "\\right ]\n",
      "\\left [\n",
      "\\begin{matrix}\n",
      "\\alpha_{0} \\\\\\\n",
      "\\alpha_{1}\n",
      "\\end{matrix}\n",
      "\\right ]\n",
      "\\end{equation}"
     ]
    },
    {
     "cell_type": "markdown",
     "metadata": {},
     "source": [
      "Reemplazando los valores nodales en coordenadas naturales:"
     ]
    },
    {
     "cell_type": "markdown",
     "metadata": {},
     "source": [
      "\\begin{eqnarray}\n",
      "\\alpha_{0} + \\alpha_{1}(-1) &=& u_{1}\\\\\\\n",
      "\\alpha_{0} + \\alpha_{1}(1) &=& u_{2}\n",
      "\\end{eqnarray}"
     ]
    },
    {
     "cell_type": "markdown",
     "metadata": {},
     "source": [
      "Evaluando:"
     ]
    },
    {
     "cell_type": "markdown",
     "metadata": {},
     "source": [
      "\\begin{eqnarray}\n",
      "\\alpha_{0} - \\alpha_{1} &=& u_{1}\\\\\\\n",
      "\\alpha_{0} + \\alpha_{1} &=& u_{2}\n",
      "\\end{eqnarray}"
     ]
    },
    {
     "cell_type": "markdown",
     "metadata": {},
     "source": [
      "En forma matricial:"
     ]
    },
    {
     "cell_type": "markdown",
     "metadata": {},
     "source": [
      "\\begin{equation}\n",
      "\\left [\n",
      "\\begin{matrix}\n",
      "1 & -1 \\\\\\\n",
      "1 & 1\n",
      "\\end{matrix}\n",
      "\\right ]\n",
      "\\left [\n",
      "\\begin{matrix}\n",
      "\\alpha_{0} \\\\\\\n",
      "\\alpha_{1}\n",
      "\\end{matrix}\n",
      "\\right ] =\n",
      "\\left [\n",
      "\\begin{matrix}\n",
      "u_{1} \\\\\\\n",
      "u_{2}\n",
      "\\end{matrix}\n",
      "\\right ]\n",
      "\\end{equation}"
     ]
    },
    {
     "cell_type": "markdown",
     "metadata": {},
     "source": [
      "Resolviendo el sistema:"
     ]
    },
    {
     "cell_type": "markdown",
     "metadata": {},
     "source": [
      "\\begin{equation}\n",
      "\\left [\n",
      "\\begin{matrix}\n",
      "\\alpha_{0} \\\\\\\n",
      "\\alpha_{1}\n",
      "\\end{matrix}\n",
      "\\right ] =\n",
      "\\left [\n",
      "\\begin{matrix}\n",
      "\\frac{1}{2} & \\frac{1}{2} \\\\\\\n",
      "-\\frac{1}{2} & \\frac{1}{2}\n",
      "\\end{matrix}\n",
      "\\right ]\n",
      "\\left [\n",
      "\\begin{matrix}\n",
      "u_{1} \\\\\\\n",
      "u_{2}\n",
      "\\end{matrix}\n",
      "\\right ]\n",
      "\\end{equation}"
     ]
    },
    {
     "cell_type": "markdown",
     "metadata": {},
     "source": [
      "Reemplazando:"
     ]
    },
    {
     "cell_type": "markdown",
     "metadata": {},
     "source": [
      "\\begin{equation}\n",
      "u =\n",
      "\\left [\n",
      "\\begin{matrix}\n",
      "1 & x\n",
      "\\end{matrix}\n",
      "\\right ]\n",
      "\\left [\n",
      "\\begin{matrix}\n",
      "\\alpha_{0} \\\\\\\n",
      "\\alpha_{1}\n",
      "\\end{matrix}\n",
      "\\right ] =\n",
      "\\left [\n",
      "\\begin{matrix}\n",
      "1 & x\n",
      "\\end{matrix}\n",
      "\\right ]\n",
      "\\left [\n",
      "\\begin{matrix}\n",
      "\\frac{1}{2} & \\frac{1}{2} \\\\\\\n",
      "-\\frac{1}{2} & \\frac{1}{2}\n",
      "\\end{matrix}\n",
      "\\right ]\n",
      "\\left [\n",
      "\\begin{matrix}\n",
      "u_{1} \\\\\\\n",
      "u_{2}\n",
      "\\end{matrix}\n",
      "\\right ] =\n",
      "\\left [\n",
      "\\begin{matrix}\n",
      "\\frac{1}{2} - \\frac{1}{2} x  & \\frac{1}{2} + \\frac{1}{2} x\n",
      "\\end{matrix}\n",
      "\\right ]\n",
      "\\left [\n",
      "\\begin{matrix}\n",
      "u_{1} \\\\\\\n",
      "u_{2}\n",
      "\\end{matrix}\n",
      "\\right ]\n",
      "\\end{equation}"
     ]
    },
    {
     "cell_type": "markdown",
     "metadata": {},
     "source": [
      "Reescribiendo $u$:"
     ]
    },
    {
     "cell_type": "markdown",
     "metadata": {},
     "source": [
      "\\begin{equation}\n",
      "u = \\Big ( \\frac{1}{2} - \\frac{1}{2} x \\Big ) u_{1} + \\Big ( \\frac{1}{2} + \\frac{1}{2} x \\Big ) u_{2} = N_{1} u_{1} + N_{2} u_{2}\n",
      "\\end{equation}"
     ]
    },
    {
     "cell_type": "heading",
     "level": 3,
     "metadata": {},
     "source": [
      "Elemento de tres nodos"
     ]
    },
    {
     "cell_type": "markdown",
     "metadata": {},
     "source": [
      "Para un elemento de tres nodos y tres grados de libertad:"
     ]
    },
    {
     "cell_type": "markdown",
     "metadata": {},
     "source": [
      "\\begin{equation}\n",
      "u = \\alpha_{0} + \\alpha_{1} x + \\alpha_{2} x^{2} =\n",
      "\\left [\n",
      "\\begin{matrix}\n",
      "1 & x & x^{2}\n",
      "\\end{matrix}\n",
      "\\right ]\n",
      "\\left [\n",
      "\\begin{matrix}\n",
      "\\alpha_{0} \\\\\\\n",
      "\\alpha_{1} \\\\\\\n",
      "\\alpha_{2}\n",
      "\\end{matrix}\n",
      "\\right ]\n",
      "\\end{equation}"
     ]
    },
    {
     "cell_type": "markdown",
     "metadata": {},
     "source": [
      "Reemplazando los valores nodales en coordenadas naturales:"
     ]
    },
    {
     "cell_type": "markdown",
     "metadata": {},
     "source": [
      "\\begin{eqnarray}\n",
      "\\alpha_{0} + \\alpha_{1}(-1) + \\alpha_{2}(-1)^{2}&=& u_{1}\\\\\\\n",
      "\\alpha_{0} + \\alpha_{1}(0) + \\alpha_{2}(0)^{2}&=& u_{2}\\\\\\\n",
      "\\alpha_{0} + \\alpha_{1}(1) + \\alpha_{2}(1)^{2}&=& u_{3}\n",
      "\\end{eqnarray}"
     ]
    },
    {
     "cell_type": "markdown",
     "metadata": {},
     "source": [
      "Evaluando:"
     ]
    },
    {
     "cell_type": "markdown",
     "metadata": {},
     "source": [
      "\\begin{eqnarray}\n",
      "\\alpha_{0} - \\alpha_{1} + \\alpha_{1} &=& u_{1}\\\\\\\n",
      "\\alpha_{0} &=& u_{2}\\\\\\\n",
      "\\alpha_{0} + \\alpha_{1} + \\alpha_{1}&=& u_{3}\n",
      "\\end{eqnarray}"
     ]
    },
    {
     "cell_type": "markdown",
     "metadata": {},
     "source": [
      "En forma matricial:"
     ]
    },
    {
     "cell_type": "markdown",
     "metadata": {},
     "source": [
      "\\begin{equation}\n",
      "\\left [\n",
      "\\begin{matrix}\n",
      "1 & -1 & 1 \\\\\\\n",
      "1 & 0 & 0 \\\\\\\n",
      "1 & 1 & 1 \\\\\\\n",
      "\\end{matrix}\n",
      "\\right ]\n",
      "\\left [\n",
      "\\begin{matrix}\n",
      "\\alpha_{0} \\\\\\\n",
      "\\alpha_{1} \\\\\\\n",
      "\\alpha_{2}\n",
      "\\end{matrix}\n",
      "\\right ] =\n",
      "\\left [\n",
      "\\begin{matrix}\n",
      "u_{1} \\\\\\\n",
      "u_{2} \\\\\\\n",
      "u_{3}\n",
      "\\end{matrix}\n",
      "\\right ]\n",
      "\\end{equation}"
     ]
    },
    {
     "cell_type": "markdown",
     "metadata": {},
     "source": [
      "Resolviendo el sistema:"
     ]
    },
    {
     "cell_type": "markdown",
     "metadata": {},
     "source": [
      "\\begin{equation}\n",
      "\\left [\n",
      "\\begin{matrix}\n",
      "\\alpha_{0} \\\\\\\n",
      "\\alpha_{1} \\\\\\\n",
      "\\alpha_{2}\n",
      "\\end{matrix}\n",
      "\\right ] =\n",
      "\\left [\n",
      "\\begin{matrix}\n",
      "0 & 1 & 0 \\\\\\\n",
      "-\\frac{1}{2} & 0 & \\frac{1}{2} \\\\\\\n",
      "\\frac{1}{2} & -1 & \\frac{1}{2}\n",
      "\\end{matrix}\n",
      "\\right ]\n",
      "\\left [\n",
      "\\begin{matrix}\n",
      "u_{1} \\\\\\\n",
      "u_{2} \\\\\\\n",
      "u_{3}\n",
      "\\end{matrix}\n",
      "\\right ]\n",
      "\\end{equation}"
     ]
    },
    {
     "cell_type": "markdown",
     "metadata": {},
     "source": [
      "Reemplazando:"
     ]
    },
    {
     "cell_type": "markdown",
     "metadata": {},
     "source": [
      "\\begin{equation}\n",
      "u =\n",
      "\\left [\n",
      "\\begin{matrix}\n",
      "1 & x & x^{2}\n",
      "\\end{matrix}\n",
      "\\right ]\n",
      "\\left [\n",
      "\\begin{matrix}\n",
      "\\alpha_{0} \\\\\\\n",
      "\\alpha_{1} \\\\\\\n",
      "\\alpha_{2}\n",
      "\\end{matrix}\n",
      "\\right ] =\n",
      "\\left [\n",
      "\\begin{matrix}\n",
      "1 & x & x^{2}\n",
      "\\end{matrix}\n",
      "\\right ]\n",
      "\\left [\n",
      "\\begin{matrix}\n",
      "0 & 1 & 0 \\\\\\\n",
      "-\\frac{1}{2} & 0 & \\frac{1}{2} \\\\\\\n",
      "\\frac{1}{2} & -1 & \\frac{1}{2}\n",
      "\\end{matrix}\n",
      "\\right ]\n",
      "\\left [\n",
      "\\begin{matrix}\n",
      "u_{1} \\\\\\\n",
      "u_{2} \\\\\\\n",
      "u_{3}\n",
      "\\end{matrix}\n",
      "\\right ] =\n",
      "\\left [\n",
      "\\begin{matrix}\n",
      "-\\frac{1}{2} x + \\frac{1}{2} x^{2} & 1 - x^{2} & \\frac{1}{2} x + \\frac{1}{2} x^{2}\n",
      "\\end{matrix}\n",
      "\\right ]\n",
      "\\left [\n",
      "\\begin{matrix}\n",
      "u_{1} \\\\\\\n",
      "u_{2} \\\\\\\n",
      "u_{3}\n",
      "\\end{matrix}\n",
      "\\right ]\n",
      "\\end{equation}"
     ]
    },
    {
     "cell_type": "markdown",
     "metadata": {},
     "source": [
      "Reescribiendo $u$:"
     ]
    },
    {
     "cell_type": "markdown",
     "metadata": {},
     "source": [
      "\\begin{equation}\n",
      "u = \\Big ( -\\frac{1}{2} x + \\frac{1}{2} x^{2} \\Big ) u_{1} + (1 - x^{2}) u_{2} + \\Big ( \\frac{1}{2} x + \\frac{1}{2} x^{2} \\Big ) u_{3} = N_{1} u_{1} + N_{2} u_{2} + N_{3} u_{3}\n",
      "\\end{equation}"
     ]
    },
    {
     "cell_type": "heading",
     "level": 2,
     "metadata": {},
     "source": [
      "Elementos barra de mayor grado polinomial"
     ]
    },
    {
     "cell_type": "markdown",
     "metadata": {},
     "source": [
      "Los elementos de mayor grado pueden obtenerse mediante polinomios de Lagrange:"
     ]
    },
    {
     "cell_type": "markdown",
     "metadata": {},
     "source": [
      "\\begin{equation}\n",
      "\\ell = \\prod_{i=0, i \\neq j}^{k} \\frac{x - x_{i}}{x_{j} - x_{i}}\n",
      "\\end{equation}"
     ]
    },
    {
     "cell_type": "heading",
     "level": 3,
     "metadata": {},
     "source": [
      "Elemento de dos nodos"
     ]
    },
    {
     "cell_type": "markdown",
     "metadata": {},
     "source": [
      "Usando la f\u00f3rmula:"
     ]
    },
    {
     "cell_type": "markdown",
     "metadata": {},
     "source": [
      "\\begin{eqnarray}\n",
      "N_{1} &=& \\frac{x - 1}{-1 - 1} = \\frac{1}{2} - \\frac{1}{2} x \\\\\\\n",
      "N_{2} &=& \\frac{x - (-1)}{1 - (-1)} = \\frac{1}{2} + \\frac{1}{2} x\n",
      "\\end{eqnarray}"
     ]
    },
    {
     "cell_type": "heading",
     "level": 3,
     "metadata": {},
     "source": [
      "Elemento de tres nodos"
     ]
    },
    {
     "cell_type": "markdown",
     "metadata": {},
     "source": [
      "Usando la f\u00f3rmula:"
     ]
    },
    {
     "cell_type": "markdown",
     "metadata": {},
     "source": [
      "\\begin{eqnarray}\n",
      "N_{1} &=& \\frac{x - 0}{-1 - 0} \\frac{x - 1}{-1 - 1} = -\\frac{1}{2} x + \\frac{1}{2} x^{2} \\\\\\\n",
      "N_{2} &=& \\frac{x - (-1)}{0 - (-1)} \\frac{x - 1}{0 - 1} = 1 - x^{2} \\\\\\\n",
      "N_{3} &=& \\frac{x - 0}{1 - 0} \\frac{x - 1}{1 - 1} = \\frac{1}{2} x + \\frac{1}{2} x^{2}\n",
      "\\end{eqnarray}"
     ]
    },
    {
     "cell_type": "code",
     "collapsed": false,
     "input": [],
     "language": "python",
     "metadata": {},
     "outputs": []
    }
   ],
   "metadata": {}
  }
 ]
}